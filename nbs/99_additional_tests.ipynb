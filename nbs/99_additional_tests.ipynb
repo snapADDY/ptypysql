{
    "cells": [
        {
            "cell_type": "code",
            "execution_count": 11,
            "metadata": {},
            "outputs": [
                {
                    "name": "stdout",
                    "output_type": "stream",
                    "text": [
                        "The autoreload extension is already loaded. To reload it, use:\n",
                        "  %reload_ext autoreload\n"
                    ]
                }
            ],
            "source": [
                "#hide\n",
                "%load_ext autoreload\n",
                "%autoreload 2\n",
                "%config Completer.use_jedi = False  # workaround for buggy jedi"
            ]
        },
        {
            "cell_type": "markdown",
            "metadata": {},
            "source": [
                "# Additional tests"
            ]
        },
        {
            "cell_type": "code",
            "execution_count": 12,
            "metadata": {},
            "outputs": [],
            "source": [
                "#hide\n",
                "from nbdev.showdoc import *\n",
                "from ptypysql.utils import *\n",
                "from ptypysql.core import *"
            ]
        },
        {
            "cell_type": "markdown",
            "metadata": {},
            "source": [
                "## core"
            ]
        },
        {
            "cell_type": "markdown",
            "metadata": {},
            "source": [
                "### format_where"
            ]
        },
        {
            "cell_type": "code",
            "execution_count": 13,
            "metadata": {},
            "outputs": [
                {
                    "name": "stdout",
                    "output_type": "stream",
                    "text": [
                        "WHERE brand = 'my_brand'\n"
                    ]
                }
            ],
            "source": [
                "assert_and_print(\n",
                "    format_where(\n",
                "        \"WHERE brand = 'my_brand'\"\n",
                "    ), \"WHERE brand = 'my_brand'\"\n",
                ")"
            ]
        },
        {
            "cell_type": "markdown",
            "metadata": {},
            "source": [
                "### format_sql"
            ]
        },
        {
            "cell_type": "code",
            "execution_count": 14,
            "metadata": {},
            "outputs": [
                {
                    "name": "stdout",
                    "output_type": "stream",
                    "text": [
                        "SELECT brand\n",
                        "FROM table\n",
                        "WHERE brand = 'my_brand'\n"
                    ]
                }
            ],
            "source": [
                "assert_and_print(\n",
                "    format_sql(\"SELECT brand FROM table WHERE brand = 'my_brand'\"),\n",
                "\"\"\"\n",
                "SELECT brand\n",
                "FROM table\n",
                "WHERE brand = 'my_brand'\n",
                "\"\"\".strip()\n",
                ")"
            ]
        },
        {
            "cell_type": "code",
            "execution_count": 15,
            "metadata": {},
            "outputs": [
                {
                    "name": "stdout",
                    "output_type": "stream",
                    "text": [
                        "SELECT var\n",
                        "FROM table_selection AS a\n",
                        "    LEFT JOIN table2 AS b\n",
                        "        ON a.id = b.id\n",
                        "    LEFT JOIN table3 AS c\n",
                        "        ON a.id = c.id\n",
                        "ORDER BY 1\n"
                    ]
                }
            ],
            "source": [
                "assert_and_print(\n",
                "    format_sql(\n",
                "\"\"\"SELECT var \n",
                "    FROM table_selection as a \n",
                "    LEFT JOIN table2 as b ON a.id = b.id \n",
                "    LEFT JOIN table3 as c ON a.id = c.id \n",
                "    ORDER BY 1\n",
                "\"\"\"),\n",
                "\"\"\"\n",
                "SELECT var\n",
                "FROM table_selection AS a\n",
                "    LEFT JOIN table2 AS b\n",
                "        ON a.id = b.id\n",
                "    LEFT JOIN table3 AS c\n",
                "        ON a.id = c.id\n",
                "ORDER BY 1\n",
                "\"\"\".strip()\n",
                ")"
            ]
        },
        {
            "cell_type": "markdown",
            "metadata": {},
            "source": [
                "## utils"
            ]
        },
        {
            "cell_type": "markdown",
            "metadata": {},
            "source": [
                "### split_query"
            ]
        },
        {
            "cell_type": "code",
            "execution_count": 16,
            "metadata": {},
            "outputs": [
                {
                    "name": "stdout",
                    "output_type": "stream",
                    "text": [
                        "[{'string': 'select var ', 'comment': False, 'quote': False, 'select': True}, {'string': 'from table_selection', 'comment': False, 'quote': False, 'select': False}]\n"
                    ]
                }
            ],
            "source": [
                "assert_and_print(\n",
                "    split_query(\"select var from table_selection\"),\n",
                "    [{\"string\": \"select var \", \"comment\": False, \"quote\": False, \"select\": True}, \n",
                "     {\"string\": \"from table_selection\", \"comment\": False, \"quote\": False, \"select\": False}]\n",
                ")"
            ]
        },
        {
            "cell_type": "code",
            "execution_count": 17,
            "metadata": {},
            "outputs": [
                {
                    "name": "stdout",
                    "output_type": "stream",
                    "text": [
                        "Converted 00_core.ipynb.\n",
                        "Converted 01_format_file.ipynb.\n",
                        "Converted 02_utils.ipynb.\n",
                        "Converted 03_validation.ipynb.\n",
                        "Converted 99_additional_tests.ipynb.\n",
                        "Converted index.ipynb.\n"
                    ]
                }
            ],
            "source": [
                "#hide\n",
                "from nbdev.export import notebook2script\n",
                "notebook2script()"
            ]
        }
    ],
    "metadata": {
        "kernelspec": {
            "display_name": "Python 3.9.13 ('.venv': poetry)",
            "language": "python",
            "name": "python3"
        },
        "language_info": {
            "codemirror_mode": {
                "name": "ipython",
                "version": 3
            },
            "file_extension": ".py",
            "mimetype": "text/x-python",
            "name": "python",
            "nbconvert_exporter": "python",
            "pygments_lexer": "ipython3",
            "version": "3.9.13"
        },
        "vscode": {
            "interpreter": {
                "hash": "c63123e845c40650c9555e0ec45a9c5232477a29d550e0e41f8f2acb9d1f58f4"
            }
        }
    },
    "nbformat": 4,
    "nbformat_minor": 2
}
