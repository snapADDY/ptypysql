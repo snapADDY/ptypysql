{
    "cells": [
        {
            "cell_type": "code",
            "execution_count": 1,
            "metadata": {},
            "outputs": [],
            "source": [
                "#hide\n",
                "from ptypysql.core import *"
            ]
        },
        {
            "cell_type": "markdown",
            "metadata": {},
            "source": [
                "# ptypysql\n",
                "\n",
                "> A Python String SQL Formatter / Beautifier, built for PostgreSQL\n"
            ]
        },
        {
            "cell_type": "markdown",
            "metadata": {},
            "source": [
                "## How to install\n",
                "\n",
                "Via pip\n",
                "\n",
                "`pip install ptypysql`"
            ]
        },
        {
            "cell_type": "markdown",
            "metadata": {},
            "source": [
                "## How to use\n",
                "\n",
                "Currently it only supports for SQL in string format as `\"\"\"...\"\"\"` (Not work with`\"...\"`), and wrap by a function `DB.fetch_*(`, e.g.,\n",
                "\n",
                "`DB.fetch_all(\"\"\"select * from table1 where id = 1\"\"\")`\n",
                "\n",
                "You can format SQL queries in python script via the command line\n",
                "\n",
                "`ptypysql sql.py`\n",
                "\n",
                "or format all your SQL queries in all python scripts under the same directory via\n",
                "\n",
                "`ptypysql *.py`\n",
                "\n",
                "Or even format all your SQL queries in the project recursively use\n",
                "\n",
                "`ptypysql -r \"*.py\"`"
            ]
        },
        {
            "cell_type": "markdown",
            "metadata": {},
            "source": [
                "### Controlling maximum length line via truncation\n",
                "\n",
                "The `ptypysql` will try to truncate too long lines based on the setting of max-line-length.\n",
                "\n",
                "By default the maximum line length is 99.\n",
                "\n",
                "You can control the maximum line length by:\n",
                "\n",
                "`ptypysql sql.py --max-line-length=50`"
            ]
        },
        {
            "cell_type": "markdown",
            "metadata": {},
            "source": [
                "### Usage with `pre-commit`"
            ]
        },
        {
            "cell_type": "markdown",
            "metadata": {},
            "source": [
                "Add `ptypysql` as a hook to your `pre-commit` configuration to format your SQL files before commit, just add the following lines to your `.pre-commit-config.yaml`:\n",
                "\n",
                "```yaml\n",
                "repos:\n",
                "  - repo: https://github.com/snapADDY/ptypysql\n",
                "    rev: master\n",
                "    hooks:\n",
                "    - id: ptypysql\n",
                "```\n",
                "\n",
                "If you want to install `ptypysql` locally and use that instead of using `pre-commit`'s default environment, set `repo: local` in your `.pre-commit-config.yaml` file:\n",
                "\n",
                "```yaml\n",
                "repos:\n",
                "  - repo: local\n",
                "    hooks:\n",
                "    - id: ptypysql\n",
                "      name: Pretty Python SQL\n",
                "      language: system\n",
                "      entry: ptypysql\n",
                "      files: \\.py$\n",
                "```\n",
                "\n",
                "or\n",
                "\n",
                "```yaml\n",
                "repos:\n",
                "  - repo: local\n",
                "    hooks:\n",
                "    - id: ptypysql\n",
                "      name: Pretty Python SQL\n",
                "      language: system\n",
                "      entry: ptypysql --max-line-length=50\n",
                "      files: \\.py$\n",
                "```\n",
                "\n",
                "for a custom maximum line length truncation of e.g. 50"
            ]
        },
        {
            "cell_type": "markdown",
            "metadata": {},
            "source": [
                "### Usage in Python"
            ]
        },
        {
            "cell_type": "markdown",
            "metadata": {},
            "source": [
                "You can easily format the SQL string by:"
            ]
        },
        {
            "cell_type": "code",
            "execution_count": 2,
            "metadata": {},
            "outputs": [],
            "source": [
                "example_sql = \"\"\"\n",
                "WITH days AS (SELECT generate_series(date_trunc('day', now()) - '90 days'::interval, date_trunc('day', now()), '1 day'::interval) AS day)\n",
                "select days.day as date, count(t1.id) count, count(t2.id) filter (where t2.id < 500)\n",
                "from days full outer join (select * from t3 where accd between 1 and 64) t1 on t1.date = days.day\n",
                "natural left join t2 on t2.enddate = days.day\n",
                "group by days.day desc having days.day > 100 order by days.day desc;\n",
                "\"\"\""
            ]
        },
        {
            "cell_type": "code",
            "execution_count": 3,
            "metadata": {},
            "outputs": [
                {
                    "name": "stdout",
                    "output_type": "stream",
                    "text": [
                        "WITH days AS (\n",
                        "    SELECT generate_series(\n",
                        "        date_trunc('day', now()) - '90 days'::interval,\n",
                        "        date_trunc('day', now()),\n",
                        "        '1 day'::interval\n",
                        "    ) AS day\n",
                        ")\n",
                        "SELECT days.day AS date,\n",
                        "    count(t1.id) AS count,\n",
                        "    count(t2.id) FILTER (\n",
                        "        WHERE t2.id < 500\n",
                        "    )\n",
                        "FROM days\n",
                        "    FULL OUTER JOIN (\n",
                        "        SELECT *\n",
                        "        FROM t3\n",
                        "        WHERE accd BETWEEN 1 AND 64\n",
                        "    ) AS t1\n",
                        "        ON t1.date = days.day\n",
                        "    NATURAL LEFT JOIN t2\n",
                        "        ON t2.enddate = days.day\n",
                        "GROUP BY days.day DESC\n",
                        "HAVING days.day > 100\n",
                        "ORDER BY days.day DESC;\n"
                    ]
                }
            ],
            "source": [
                "from ptypysql.core import format_sql\n",
                "print(format_sql(example_sql))"
            ]
        },
        {
            "cell_type": "markdown",
            "metadata": {},
            "source": [
                "You can also add `/*skip-formatter*/` to prevent from foramtting"
            ]
        },
        {
            "cell_type": "code",
            "execution_count": 4,
            "metadata": {},
            "outputs": [
                {
                    "name": "stdout",
                    "output_type": "stream",
                    "text": [
                        "/*skip-formatter*/\n",
                        "WITH days AS (SELECT generate_series(date_trunc('day', now()) - '90 days'::interval, date_trunc('day', now()), '1 day'::interval) AS day)\n",
                        "select days.day as date, count(t1.id) count, count(t2.id) filter (where t2.id < 500) \n",
                        "from days full outer join (select * from t3 where accd between 1 and 64) t1 on t1.date = days.day\n",
                        "natural left join t2 on t2.enddate = days.day\n",
                        "group by days.day desc having days.day > 100 order by days.day desc;\n",
                        "\n"
                    ]
                }
            ],
            "source": [
                "from ptypysql.format_file import format_sql_commands\n",
                "print(format_sql_commands(\n",
                "\"\"\"\n",
                "/*skip-formatter*/\n",
                "WITH days AS (SELECT generate_series(date_trunc('day', now()) - '90 days'::interval, date_trunc('day', now()), '1 day'::interval) AS day)\n",
                "select days.day as date, count(t1.id) count, count(t2.id) filter (where t2.id < 500) \n",
                "from days full outer join (select * from t3 where accd between 1 and 64) t1 on t1.date = days.day\n",
                "natural left join t2 on t2.enddate = days.day\n",
                "group by days.day desc having days.day > 100 order by days.day desc;\n",
                "\"\"\"\n",
                "))"
            ]
        },
        {
            "cell_type": "markdown",
            "metadata": {},
            "source": [
                "## Credit"
            ]
        },
        {
            "cell_type": "markdown",
            "metadata": {},
            "source": [
                "This project makes use of and is based on:\n",
                "\n",
                "- [SQL-formatter](https://github.com/PabloRMira/sql_formatter)"
            ]
        }
    ],
    "metadata": {
        "kernelspec": {
            "display_name": "Python 3.9.13 ('.venv': poetry)",
            "language": "python",
            "name": "python3"
        },
        "language_info": {
            "codemirror_mode": {
                "name": "ipython",
                "version": 3
            },
            "file_extension": ".py",
            "mimetype": "text/x-python",
            "name": "python",
            "nbconvert_exporter": "python",
            "pygments_lexer": "ipython3",
            "version": "3.9.13"
        },
        "vscode": {
            "interpreter": {
                "hash": "c63123e845c40650c9555e0ec45a9c5232477a29d550e0e41f8f2acb9d1f58f4"
            }
        }
    },
    "nbformat": 4,
    "nbformat_minor": 2
}
