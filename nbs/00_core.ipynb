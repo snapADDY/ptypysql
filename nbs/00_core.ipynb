{
    "cells": [
        {
            "cell_type": "code",
            "execution_count": 1110,
            "metadata": {},
            "outputs": [
                {
                    "name": "stdout",
                    "output_type": "stream",
                    "text": [
                        "The autoreload extension is already loaded. To reload it, use:\n",
                        "  %reload_ext autoreload\n"
                    ]
                }
            ],
            "source": [
                "#hide\n",
                "%load_ext autoreload\n",
                "%autoreload 2\n",
                "%config Completer.use_jedi = False  # workaround for buggy jedi"
            ]
        },
        {
            "cell_type": "code",
            "execution_count": 1111,
            "metadata": {},
            "outputs": [],
            "source": [
                "# default_exp core"
            ]
        },
        {
            "cell_type": "code",
            "execution_count": 1112,
            "metadata": {},
            "outputs": [],
            "source": [
                "import os\n",
                "import sys\n",
                "module_path = os.path.abspath(os.path.join('..'))\n",
                "if module_path not in sys.path:\n",
                "    sys.path.append(module_path)"
            ]
        },
        {
            "cell_type": "code",
            "execution_count": 1113,
            "metadata": {},
            "outputs": [],
            "source": [
                "#export\n",
                "import re\n",
                "from ptypysql.utils import *"
            ]
        },
        {
            "cell_type": "markdown",
            "metadata": {},
            "source": [
                "# core\n",
                "\n",
                "> Core functions for SQL formatting"
            ]
        },
        {
            "cell_type": "code",
            "execution_count": 1114,
            "metadata": {},
            "outputs": [],
            "source": [
                "#hide\n",
                "from nbdev.showdoc import *"
            ]
        },
        {
            "cell_type": "markdown",
            "metadata": {},
            "source": [
                "## General formatting"
            ]
        },
        {
            "cell_type": "markdown",
            "metadata": {},
            "source": [
                "Basic formatting for SQL queries. Let's use an example throughout the core module.\n",
                "\n",
                "This is how an input could look like"
            ]
        },
        {
            "cell_type": "code",
            "execution_count": 1115,
            "metadata": {},
            "outputs": [],
            "source": [
                "example_sql = \"\"\"\n",
                "create or replace table mytable as -- Mytable example\n",
                "/* multi line\n",
                "   comment */\n",
                "seLecT a.asdf,\n",
                "-- some line comment\n",
                "b.qwer, -- some comment here\n",
                "/* and here is a line comment inside select */\n",
                "substr(c.asdf,1,2) as substr_asdf, \n",
                "/* some commenT \n",
                "there */\n",
                "case when a.asdf= 1 then 'b' /* here a case comment */\n",
                "when b.qwer =2 then 'c' else 'd' end as new_field, -- Some comment\n",
                "/* and here some inline comment */\n",
                "b.asdf2 frOm table1 as a leFt join \n",
                "table2 as b -- and here a comment\n",
                "    on a.asdf = b.asdf  /* joiN this way */\n",
                "    inner join table3 as c\n",
                "on a.asdf=c.asdf and a.qwer= b.qwer\n",
                "whEre a.asdf= 1 -- comment this\n",
                "anD b.qwer =2 and a.asdf<=1 --comment that\n",
                "or b.qwer>=5\n",
                "groUp by a.asdf\n",
                "\"\"\""
            ]
        },
        {
            "cell_type": "markdown",
            "metadata": {},
            "source": [
                "and this is how we would like to format it"
            ]
        },
        {
            "cell_type": "code",
            "execution_count": 1116,
            "metadata": {},
            "outputs": [],
            "source": [
                "expected_sql = \"\"\"CREATE OR REPLACE TABLE mytable AS -- Mytable example\n",
                "/* multi line\n",
                "   comment */\n",
                "SELECT a.asdf,\n",
                "    -- some line comment\n",
                "    b.qwer, -- some comment here\n",
                "    /* and here is a line comment inside select */\n",
                "    substr(c.asdf, 1, 2) AS substr_asdf,\n",
                "    /* some commenT\n",
                "       there */\n",
                "    CASE WHEN a.asdf = 1\n",
                "        THEN 'b' /* here a case comment */\n",
                "        WHEN b.qwer = 2\n",
                "        THEN 'c'\n",
                "        ELSE 'd'\n",
                "    END AS new_field, -- Some comment\n",
                "    /* and here some inline comment */\n",
                "    b.asdf2\n",
                "FROM table1 AS a\n",
                "    LEFT JOIN table2 AS b -- and here a comment\n",
                "        ON a.asdf = b.asdf /* joiN this way */\n",
                "    INNER JOIN table3 AS c\n",
                "        ON a.asdf = c.asdf\n",
                "        AND a.qwer = b.qwer\n",
                "WHERE a.asdf = 1 -- comment this\n",
                "    AND b.qwer = 2\n",
                "    AND a.asdf <= 1 --comment that\n",
                "    OR b.qwer >= 5\n",
                "GROUP BY a.asdf\"\"\""
            ]
        },
        {
            "cell_type": "markdown",
            "metadata": {},
            "source": [
                "Let's start by defining the main statements. The main statements all require a new line and should be in upper case"
            ]
        },
        {
            "cell_type": "code",
            "execution_count": 1117,
            "metadata": {},
            "outputs": [],
            "source": [
                "#export\n",
                "MAIN_STATEMENTS = [\n",
                "    \"create.*?table\",  # regex for all variants, e.g. CREATE OR REPLACE TABLE\n",
                "    \"create.*?view\",  # regex for all variants, e.g. CREATE OR REPLACE VIEW\n",
                "    \"with\",\n",
                "    \"select distinct\",\n",
                "    \"select\",\n",
                "    \"from(?!\\sr?\\')\", # special handles for from as a part of substring function\n",
                "    \"(?:natural\\s|full\\s)?(?:left\\s|right\\s|inner\\s|outer\\s|cross\\s)?join\",\n",
                "    \"union\",\n",
                "    \"intersect\",\n",
                "    \"on\",\n",
                "    \"where\",\n",
                "    \"group by\",\n",
                "    \"having\",\n",
                "    \"order by\",\n",
                "    \"over\",  # special case: no newline, only capitalized\n",
                "    \"partition by\",  # special case: no newline, only capitalized\n",
                "    \"limit\",\n",
                "]\n",
                "\n",
                "CAP_STATEMENTS = [\n",
                "    \"between\",\n",
                "    \"and\",\n",
                "    \"or\",\n",
                "    \"not\",\n",
                "    \"case\",\n",
                "    \"when\",\n",
                "    \"else\",\n",
                "    \"then\",\n",
                "    \"end\",\n",
                "    \"any\",\n",
                "    \"all\",\n",
                "    \"exists\",\n",
                "    \"in\",\n",
                "    \"filter\",\n",
                "    \"offset\",\n",
                "    \"as\",\n",
                "    \"is\",\n",
                "    \"like\",\n",
                "    \"similar to\",\n",
                "    \"null\",\n",
                "    \"true\",\n",
                "    \"false\",\n",
                "    \"unknown\",\n",
                "    \"asc\",\n",
                "    \"desc\"\n",
                "]\n",
                "    # \"count(\",\n",
                "    # \"sum(\",\n",
                "    # \"avg(\",\n",
                "    # \"min(\",\n",
                "    # \"max(\",\n",
                "    # \"least(\",\n",
                "    # \"greatest(\",\n",
                "    # \"date_trunc(\",\n",
                "    # \"coalesce(\",\n",
                "    # \"trunc(\",\n",
                "    # \"sqrt(\",\n",
                "    # \"abs(\",\n",
                "    # \"cbrt(\",\n",
                "    # \"ceil(\",\n",
                "    # \"floor(\",\n",
                "    # \"degrees(\",\n",
                "    # \"div(\",\n",
                "    # \"exp(\",\n",
                "    # \"ln(\",\n",
                "    # \"log(\",\n",
                "    # \"mod(\",\n",
                "    # \"pi()\",\n",
                "    # \"power(\",\n",
                "    # \"radians(\",\n",
                "    # \"round(\",\n",
                "    # \"sign(\",\n",
                "    # \"width_bucket(\",\n",
                "    # \"random()\",\n",
                "    # \"setseed(\",\n",
                "    # \"acos(\",\n",
                "    # \"asin(\",\n",
                "    # \"atan(\",\n",
                "    # \"cos(\",\n",
                "    # \"cot(\",\n",
                "    # \"sin(\",\n",
                "    # \"tan(\",\n"
            ]
        },
        {
            "cell_type": "markdown",
            "metadata": {},
            "source": [
                "> Remark: For OVER and PARTITION BY we only capitalize without adding a newline"
            ]
        },
        {
            "cell_type": "markdown",
            "metadata": {},
            "source": [
                "We need to remove newlines and multiple spaces because they may be arbitrary. \n",
                "\n",
                "Before removing newlines we also need to mark the end of coments with the special token [C] because we would not know where they end\n",
                "\n",
                "We also mark the begin of comments /* */ with the special token [CS] (comment start) if they start in a newline"
            ]
        },
        {
            "cell_type": "code",
            "execution_count": 1118,
            "metadata": {},
            "outputs": [],
            "source": [
                "#export\n",
                "def clean_query(s):\n",
                "    \"Remove redundant whitespaces, mark comments boundaries and remove newlines afterwards in query `s`\"\n",
                "    s = add_whitespaces_after_comma(s)  # add whitespaces after comma but no in comments or quotes\n",
                "    s = remove_redundant_whitespaces(s)  # remove too many whitespaces but no newlines\n",
                "    s = mark_comments(s)  # mark comments with special tokens [C], [CS] and [CI]\n",
                "    s = replace_newline_chars(s)  # remove newlines but not in the comments\n",
                "    s = remove_whitespaces_newline(s)  # remove whitespaces after and before newline\n",
                "    s = remove_whitespaces_comments(s)  # remove whitespaces after and before [C], [CS] and [CI]\n",
                "    s = remove_whitespaces_parenthesis(s)  # remove whitespaces between parenthesis\n",
                "    s = remove_redundant_whitespaces(s)  # remove too many whitespaces but no newlines\n",
                "    return s"
            ]
        },
        {
            "cell_type": "code",
            "execution_count": 1119,
            "metadata": {},
            "outputs": [
                {
                    "name": "stdout",
                    "output_type": "stream",
                    "text": [
                        "SELECT asdf, qwer, qwer1, qwer2 FROM table1\n"
                    ]
                }
            ],
            "source": [
                "assert_and_print(\n",
                "    clean_query(\n",
                "\"\"\"\n",
                "SELECT asdf, qwer,\n",
                " qwer1,    qwer2\n",
                "FROM table1\n",
                "\"\"\"\n",
                "    ), \"SELECT asdf, qwer, qwer1, qwer2 FROM table1\"\n",
                ")"
            ]
        },
        {
            "cell_type": "markdown",
            "metadata": {},
            "source": [
                "With usual comments"
            ]
        },
        {
            "cell_type": "code",
            "execution_count": 1120,
            "metadata": {},
            "outputs": [
                {
                    "name": "stdout",
                    "output_type": "stream",
                    "text": [
                        "SELECT asdf, qwer, -- some comment[C]qwer1, qwer2 FROM table1 WHERE asdf=1\n"
                    ]
                }
            ],
            "source": [
                "assert_and_print(\n",
                "    clean_query(\"\"\"\n",
                "SELECT asdf, qwer, -- some comment\n",
                " qwer1,    qwer2\n",
                "FROM table1\n",
                "WHERE asdf=1\n",
                "\"\"\"), \"SELECT asdf, qwer, -- some comment[C]qwer1, qwer2 FROM table1 WHERE asdf=1\"\n",
                ")"
            ]
        },
        {
            "cell_type": "markdown",
            "metadata": {},
            "source": [
                "With other comment form"
            ]
        },
        {
            "cell_type": "code",
            "execution_count": 1121,
            "metadata": {},
            "outputs": [
                {
                    "name": "stdout",
                    "output_type": "stream",
                    "text": [
                        "SELECT asdf, qwer, /* another comment */[C]qwer1, qwer2 FROM table1 WHERE asdf=1\n"
                    ]
                }
            ],
            "source": [
                "assert_and_print(\n",
                "    clean_query(\"\"\"\n",
                "SELECT asdf, qwer, /*  another comment */\n",
                "qwer1,    qwer2\n",
                "FROM table1\n",
                "WHERE asdf=1\n",
                "\"\"\"), \"SELECT asdf, qwer, /* another comment */[C]qwer1, qwer2 FROM table1 WHERE asdf=1\"\n",
                ")"
            ]
        },
        {
            "cell_type": "code",
            "execution_count": 1122,
            "metadata": {},
            "outputs": [
                {
                    "name": "stdout",
                    "output_type": "stream",
                    "text": [
                        "SELECT asdf, qwer, /* another comment */[C]qwer1,[CS]/* inline comment */[C]qwer2 FROM table1 WHERE asdf=1\n"
                    ]
                }
            ],
            "source": [
                "assert_and_print(\n",
                "    clean_query(\n",
                "\"\"\"\n",
                "SELECT asdf, qwer, /*  another comment */\n",
                "qwer1,\n",
                "/* inline comment */\n",
                "qwer2\n",
                "FROM table1\n",
                "WHERE asdf=1\n",
                "\"\"\"\n",
                "    ), \n",
                "    \"SELECT asdf, qwer, /* another comment */[C]qwer1,[CS]/* inline comment */[C]qwer2 FROM table1 WHERE asdf=1\"\n",
                ")"
            ]
        },
        {
            "cell_type": "code",
            "execution_count": 1123,
            "metadata": {},
            "outputs": [
                {
                    "name": "stdout",
                    "output_type": "stream",
                    "text": [
                        "SELECT asdf, qwer1, -- comment 1[C][CS]-- inline comment[C]qwer2 FROM table1 WHERE asdf=1\n"
                    ]
                }
            ],
            "source": [
                "assert_and_print(\n",
                "    clean_query(\n",
                "\"\"\"\n",
                "SELECT asdf,\n",
                "qwer1, -- comment 1\n",
                "-- inline comment\n",
                "qwer2\n",
                "FROM table1\n",
                "WHERE asdf=1\n",
                "\"\"\"\n",
                "    ), \n",
                "    \"SELECT asdf, qwer1, -- comment 1[C][CS]-- inline comment[C]qwer2 FROM table1 WHERE asdf=1\"\n",
                ")"
            ]
        },
        {
            "cell_type": "code",
            "execution_count": 1124,
            "metadata": {},
            "outputs": [
                {
                    "name": "stdout",
                    "output_type": "stream",
                    "text": [
                        "create or replace my_table as[CS]/* some comment[CI]some new comment line */[C]select asdf, qwer, qwer2 from table1\n"
                    ]
                }
            ],
            "source": [
                "assert_and_print(\n",
                "    clean_query(\n",
                "\"\"\"\n",
                "create or replace my_table as\n",
                "/* some comment\n",
                "   some new comment line */\n",
                "select asdf,\n",
                "qwer,   qwer2\n",
                "\n",
                "from table1\n",
                "\"\"\"\n",
                "    ),\n",
                "\"create or replace my_table as[CS]/* some comment[CI]some new comment line */[C]select asdf, qwer, qwer2 from table1\"\n",
                ")"
            ]
        },
        {
            "cell_type": "code",
            "execution_count": 1125,
            "metadata": {},
            "outputs": [
                {
                    "name": "stdout",
                    "output_type": "stream",
                    "text": [
                        "create or replace table my_table as select substr(asdf, 1, 2) as qwer, qwer over (PARTITION BY asdf) from table1\n"
                    ]
                }
            ],
            "source": [
                "assert_and_print(\n",
                "    clean_query(\n",
                "\"\"\"\n",
                "create or replace table my_table as\n",
                "select substr( asdf, 1, 2 ) as qwer,\n",
                "qwer over (\n",
                "PARTITION BY asdf\n",
                ")\n",
                "from table1\n",
                "\"\"\"\n",
                "    ), \"create or replace table my_table as select substr(asdf, 1, 2) as qwer, qwer over (PARTITION BY asdf) from table1\"\n",
                ")"
            ]
        },
        {
            "cell_type": "code",
            "execution_count": 1126,
            "metadata": {},
            "outputs": [
                {
                    "name": "stdout",
                    "output_type": "stream",
                    "text": [
                        "create or replace table mytable as -- Mytable example[C][CS]/* multi line[CI]comment */[C]seLecT a.asdf,[CS]-- some line comment[C]b.qwer, -- some comment here[C][CS]/* and here is a line comment inside select */[C]substr(c.asdf, 1, 2) as substr_asdf,[CS]/* some commenT[CI]there */[C]case when a.asdf= 1 then 'b' /* here a case comment */[C]when b.qwer =2 then 'c' else 'd' end as new_field, -- Some comment[C][CS]/* and here some inline comment */[C]b.asdf2 frOm table1 as a leFt join table2 as b -- and here a comment[C]on a.asdf = b.asdf /* joiN this way */[C]inner join table3 as c on a.asdf=c.asdf and a.qwer= b.qwer whEre a.asdf= 1 -- comment this[C]anD b.qwer =2 and a.asdf<=1 --comment that[C]or b.qwer>=5 groUp by a.asdf\n"
                    ]
                }
            ],
            "source": [
                "print(clean_query(example_sql))"
            ]
        },
        {
            "cell_type": "markdown",
            "metadata": {},
            "source": [
                "### Preformatting queries\n",
                "\n",
                "We would like to have each main statement (SELECT, FROM , ...) in a separate line and in uppercase, ignoring text in comments. This way we can then later format each query statement separately. Also for the special case with PARTITION BY in the SELECT statement we will not add a newline because the main statement in that case is SELECT and not PARTITION BY"
            ]
        },
        {
            "cell_type": "code",
            "execution_count": 1127,
            "metadata": {},
            "outputs": [],
            "source": [
                "#export\n",
                "def preformat_statements(s):\n",
                "    \"\"\"Write a newline in `s` for all `statements` and\n",
                "    uppercase them but not if they are inside a comment\"\"\"\n",
                "    statements = MAIN_STATEMENTS\n",
                "    s = clean_query(s)  # clean query and mark comments\n",
                "    split_s = split_query(s)  # split by comment and non comment\n",
                "    split_s = compress_dicts(split_s, [\"comment\", \"select\"])\n",
                "    # compile regex before loop\n",
                "    create_re = re.compile(r\"\\bcreate\\b\", flags=re.I)\n",
                "    select_re = re.compile(r\"\\bselect\\b\", flags=re.I)\n",
                "    for statement in statements:\n",
                "        if create_re.match(statement):  # special case CREATE with AS capitalize as well\n",
                "            create_sub = re.compile(rf\"\\s*({statement} )(.*) as\\b\", flags=re.I)\n",
                "            split_s = [{\n",
                "                \"string\": create_sub.sub(\n",
                "                    lambda pat: \"\\n\" + pat.group(1).upper() + pat.group(2) + \" AS\", \n",
                "                    sdict[\"string\"], \n",
                "                    ) if not sdict[\"comment\"] else sdict[\"string\"],\n",
                "                    \"comment\": sdict[\"comment\"],\n",
                "                    \"select\": sdict[\"select\"]\n",
                "                } for sdict in split_s]\n",
                "        else:  # normal main statements\n",
                "            non_select_region_re = re.compile(rf\"\\s*\\b({statement})\\b\", flags=re.I)\n",
                "            select_region_statement_re = re.compile(rf\"\\b({statement})\\b\", flags=re.I)\n",
                "            split_s = [{\n",
                "                \"string\": non_select_region_re.sub(lambda x: \"\\n\" + x.group(1).upper(), sdict[\"string\"]) \n",
                "                    if not sdict[\"comment\"] and not sdict[\"select\"]  # no comment, no select region\n",
                "                    else non_select_region_re.sub(lambda x: \"\\n\" + x.group(1).upper(), sdict[\"string\"]) \n",
                "                    if not sdict[\"comment\"] and sdict[\"select\"] and select_re.match(statement) # no comment, select region and select statement\n",
                "                    else select_region_statement_re.sub(lambda x: x.group(1).upper(), sdict[\"string\"]) \n",
                "                    if not sdict[\"comment\"] and sdict[\"select\"] and not select_re.match(statement) # no comment, select region and no select statement\n",
                "                    else sdict[\"string\"],\n",
                "                \"comment\": sdict[\"comment\"],\n",
                "                \"select\": sdict[\"select\"]\n",
                "                } for sdict in split_s]\n",
                "\n",
                "    # capital common and important functional words\n",
                "    cap_statements = CAP_STATEMENTS\n",
                "    for statement in cap_statements:\n",
                "        split_s = [{\n",
                "            \"string\": re.sub(rf\"\\b({statement})\\b\", statement.upper(), sdict[\"string\"], flags=re.I) if not sdict[\"comment\"] else sdict[\"string\"],\n",
                "            \"comment\": sdict[\"comment\"],\n",
                "            \"select\": sdict[\"select\"]\n",
                "        }for sdict in split_s]\n",
                "        \n",
                "    s = \"\".join([sdict[\"string\"] for sdict in split_s])\n",
                "    s = s.strip()  # strip string\n",
                "    s = remove_whitespaces_newline(s)  # remove whitespaces before and after newline\n",
                "    \n",
                "\n",
                "    return s"
            ]
        },
        {
            "cell_type": "code",
            "execution_count": 1128,
            "metadata": {},
            "outputs": [
                {
                    "name": "stdout",
                    "output_type": "stream",
                    "text": [
                        "SELECT asdf, qwer AS new_var\n",
                        "FROM table1\n",
                        "WHERE asdf = 1\n"
                    ]
                }
            ],
            "source": [
                "assert_and_print(\n",
                "    preformat_statements(\"select asdf, qwer as new_var from table1 where asdf = 1\"),\n",
                "    \"SELECT asdf, qwer AS new_var\\nFROM table1\\nWHERE asdf = 1\"\n",
                ")"
            ]
        },
        {
            "cell_type": "code",
            "execution_count": 1129,
            "metadata": {},
            "outputs": [
                {
                    "name": "stdout",
                    "output_type": "stream",
                    "text": [
                        "SELECT asdf,[CS]/* some comment inside select */[C]qwer\n",
                        "FROM table1\n",
                        "WHERE asdf = 1\n"
                    ]
                }
            ],
            "source": [
                "assert_and_print(preformat_statements(\"\"\"\n",
                "seLect asdf,\n",
                "       /* some comment inside select */\n",
                "       qwer\n",
                "From   table1 where  asdf = 1\n",
                "\"\"\"),\n",
                "    \"SELECT asdf,[CS]/* some comment inside select */[C]qwer\\nFROM table1\\nWHERE asdf = 1\"\n",
                ")"
            ]
        },
        {
            "cell_type": "code",
            "execution_count": 1130,
            "metadata": {},
            "outputs": [
                {
                    "name": "stdout",
                    "output_type": "stream",
                    "text": [
                        "SELECT asdf, /* some comment inside select */[C]qwer\n",
                        "FROM table1\n",
                        "WHERE asdf = 1\n"
                    ]
                }
            ],
            "source": [
                "assert_and_print(\n",
                "    preformat_statements(\"\"\"\n",
                "seLect asdf, /* some comment inside select */\n",
                "       qwer\n",
                "From   table1 where  asdf = 1\n",
                "\"\"\"),\n",
                "    \"SELECT asdf, /* some comment inside select */[C]qwer\\nFROM table1\\nWHERE asdf = 1\"\n",
                ")"
            ]
        },
        {
            "cell_type": "code",
            "execution_count": 1131,
            "metadata": {},
            "outputs": [
                {
                    "name": "stdout",
                    "output_type": "stream",
                    "text": [
                        "CREATE OR REPLACE VIEW my_view AS\n",
                        "SELECT asdf,[CS]/* some comment inside select */[C]qwer\n",
                        "FROM table1\n",
                        "WHERE asdf = 1\n"
                    ]
                }
            ],
            "source": [
                "assert_and_print(\n",
                "    preformat_statements(\"\"\"\n",
                "create or replace view my_view as\n",
                "seLect asdf,\n",
                "       /* some comment inside select */\n",
                "       qwer\n",
                "From   table1 where  asdf = 1\n",
                "\"\"\"),\n",
                "    \"CREATE OR REPLACE VIEW my_view AS\\nSELECT asdf,[CS]/* some comment inside select */[C]qwer\\nFROM table1\\nWHERE asdf = 1\"\n",
                ")"
            ]
        },
        {
            "cell_type": "code",
            "execution_count": 1132,
            "metadata": {},
            "outputs": [
                {
                    "name": "stdout",
                    "output_type": "stream",
                    "text": [
                        "CREATE OR REPLACE VIEW my_view AS\n",
                        "SELECT asdf, qwer_function, qwer\n",
                        "FROM table1\n",
                        "WHERE asdf = 1\n"
                    ]
                }
            ],
            "source": [
                "assert_and_print(\n",
                "    preformat_statements(\"\"\"\n",
                "create or replace view my_view as\n",
                "seLect asdf,\n",
                "       qwer_function,\n",
                "       qwer\n",
                "From   table1 where  asdf = 1\n",
                "\"\"\"),\n",
                "    \"CREATE OR REPLACE VIEW my_view AS\\nSELECT asdf, qwer_function, qwer\\nFROM table1\\nWHERE asdf = 1\"\n",
                ")"
            ]
        },
        {
            "cell_type": "code",
            "execution_count": 1133,
            "metadata": {},
            "outputs": [
                {
                    "name": "stdout",
                    "output_type": "stream",
                    "text": [
                        "CREATE OR REPLACE VIEW my_view AS\n",
                        "SELECT asdf, qwer_function, lead(asdf) OVER (PARTITION BY asdf ORDER BY qwer), qwer2\n",
                        "FROM table1\n",
                        "WHERE asdf = 1\n",
                        "ORDER BY asdf\n"
                    ]
                }
            ],
            "source": [
                "assert_and_print(\n",
                "    preformat_statements(\"\"\"\n",
                "create or replace view my_view as\n",
                "seLect asdf, qwer_function,\n",
                "       lead(asdf) over (Partition By asdf order BY qwer),\n",
                "    qwer2\n",
                "From   table1 where  asdf = 1 order by asdf\n",
                "\"\"\"),\n",
                "    \"\"\"\n",
                "CREATE OR REPLACE VIEW my_view AS\n",
                "SELECT asdf, qwer_function, lead(asdf) OVER (PARTITION BY asdf ORDER BY qwer), qwer2\n",
                "FROM table1\n",
                "WHERE asdf = 1\n",
                "ORDER BY asdf\n",
                "\"\"\".strip()\n",
                ")"
            ]
        },
        {
            "cell_type": "code",
            "execution_count": 1134,
            "metadata": {},
            "outputs": [
                {
                    "name": "stdout",
                    "output_type": "stream",
                    "text": [
                        "CREATE OR REPLACE TABLE mytable AS -- Mytable example[C]\n",
                        "SELECT a.asdf, b.qwer, -- some comment here[C][CS]/* and here is a line comment inside select */[C]substr(c.asdf, 1, 2) AS substr_asdf\n"
                    ]
                }
            ],
            "source": [
                "assert_and_print(\n",
                "    preformat_statements(\n",
                "\"\"\"\n",
                "create or replace table mytable as -- Mytable example\n",
                "seLecT a.asdf, b.qwer, -- some comment here\n",
                "/* and here is a line comment inside select */\n",
                "substr(c.asdf, 1, 2) as substr_asdf\n",
                "\"\"\"\n",
                "    ),\n",
                "\"\"\"\n",
                "CREATE OR REPLACE TABLE mytable AS -- Mytable example[C]\n",
                "SELECT a.asdf, b.qwer, -- some comment here[C][CS]/* and here is a line comment inside select */[C]substr(c.asdf, 1, 2) AS substr_asdf\n",
                "\"\"\".strip()\n",
                ")"
            ]
        },
        {
            "cell_type": "code",
            "execution_count": 1135,
            "metadata": {},
            "outputs": [
                {
                    "name": "stdout",
                    "output_type": "stream",
                    "text": [
                        "CREATE TABLE mytable AS -- Mytable example[C]\n",
                        "SELECT a.asdf, b.qwer, -- some comment here[C][CS]/* and here is a line comment inside select */[C]substr(c.asdf, 1, 2) AS substr_asdf\n"
                    ]
                }
            ],
            "source": [
                "assert_and_print(\n",
                "    preformat_statements(\n",
                "\"\"\"\n",
                "create table mytable as -- Mytable example\n",
                "seLecT a.asdf, b.qwer, -- some comment here\n",
                "/* and here is a line comment inside select */\n",
                "substr(c.asdf, 1, 2) as substr_asdf\n",
                "\"\"\"\n",
                "    ),\n",
                "\"\"\"\n",
                "CREATE TABLE mytable AS -- Mytable example[C]\n",
                "SELECT a.asdf, b.qwer, -- some comment here[C][CS]/* and here is a line comment inside select */[C]substr(c.asdf, 1, 2) AS substr_asdf\n",
                "\"\"\".strip()\n",
                ")"
            ]
        },
        {
            "cell_type": "code",
            "execution_count": 1136,
            "metadata": {},
            "outputs": [
                {
                    "name": "stdout",
                    "output_type": "stream",
                    "text": [
                        "CREATE OR REPLACE TABLE my_table AS -- mytable[C]\n",
                        "SELECT DISTINCT asdf, qwer, -- some comment[C]\n",
                        "FROM table1\n"
                    ]
                }
            ],
            "source": [
                "assert_and_print(\n",
                "    preformat_statements(\n",
                "\"\"\"\n",
                "create or replace table  my_table as -- mytable\n",
                "select distinct asdf, qwer, -- some comment\n",
                "from table1\n",
                "\"\"\"\n",
                "    ),\n",
                "\"\"\"\n",
                "CREATE OR REPLACE TABLE my_table AS -- mytable[C]\n",
                "SELECT DISTINCT asdf, qwer, -- some comment[C]\n",
                "FROM table1\n",
                "\"\"\".strip()\n",
                ")"
            ]
        },
        {
            "cell_type": "markdown",
            "metadata": {},
            "source": [
                "With additional keyword `COMMENT`"
            ]
        },
        {
            "cell_type": "code",
            "execution_count": 1137,
            "metadata": {},
            "outputs": [
                {
                    "name": "stdout",
                    "output_type": "stream",
                    "text": [
                        "CREATE OR REPLACE TABLE my_table comment='blabla' AS -- mytable[C]\n",
                        "SELECT DISTINCT asdf, qwer, -- some comment[C]\n",
                        "FROM table1\n"
                    ]
                }
            ],
            "source": [
                "assert_and_print(\n",
                "    preformat_statements(\n",
                "\"\"\"\n",
                "create or replace table  my_table comment='blabla' as -- mytable\n",
                "select distinct asdf, qwer, -- some comment\n",
                "from table1\n",
                "\"\"\"\n",
                "    ),\n",
                "\"\"\"\n",
                "CREATE OR REPLACE TABLE my_table comment='blabla' AS -- mytable[C]\n",
                "SELECT DISTINCT asdf, qwer, -- some comment[C]\n",
                "FROM table1\n",
                "\"\"\".strip()\n",
                ")"
            ]
        },
        {
            "cell_type": "code",
            "execution_count": 1138,
            "metadata": {},
            "outputs": [
                {
                    "name": "stdout",
                    "output_type": "stream",
                    "text": [
                        "CREATE OR REPLACE TRANSIENT TABLE my_table AS -- mytable[C]\n",
                        "SELECT DISTINCT asdf, qwer, -- some comment[C]\n",
                        "FROM table1\n"
                    ]
                }
            ],
            "source": [
                "assert_and_print(\n",
                "    preformat_statements(\n",
                "\"\"\"\n",
                "create or replace transient table  my_table as -- mytable\n",
                "select distinct asdf, qwer, -- some comment\n",
                "from table1\n",
                "\"\"\"\n",
                "    ),\n",
                "\"\"\"\n",
                "CREATE OR REPLACE TRANSIENT TABLE my_table AS -- mytable[C]\n",
                "SELECT DISTINCT asdf, qwer, -- some comment[C]\n",
                "FROM table1\n",
                "\"\"\".strip()\n",
                ")"
            ]
        },
        {
            "cell_type": "code",
            "execution_count": 1139,
            "metadata": {},
            "outputs": [
                {
                    "name": "stdout",
                    "output_type": "stream",
                    "text": [
                        "CREATE VIEW my_table AS -- mytable[C]\n",
                        "SELECT DISTINCT asdf, qwer, -- some comment[C]\n",
                        "FROM table1\n"
                    ]
                }
            ],
            "source": [
                "assert_and_print(\n",
                "    preformat_statements(\n",
                "\"\"\"\n",
                "Create view  my_table as -- mytable\n",
                "select distinct asdf, qwer, -- some comment\n",
                "from table1\n",
                "\"\"\"\n",
                "    ),\n",
                "\"\"\"\n",
                "CREATE VIEW my_table AS -- mytable[C]\n",
                "SELECT DISTINCT asdf, qwer, -- some comment[C]\n",
                "FROM table1\n",
                "\"\"\".strip()\n",
                ")"
            ]
        },
        {
            "cell_type": "markdown",
            "metadata": {},
            "source": [
                "## substring from case"
            ]
        },
        {
            "cell_type": "code",
            "execution_count": 1140,
            "metadata": {},
            "outputs": [
                {
                    "name": "stdout",
                    "output_type": "stream",
                    "text": [
                        "CREATE OR REPLACE TRANSIENT TABLE my_table AS -- mytable[C]\n",
                        "SELECT DISTINCT asdf, qwer, -- some comment[C]\n",
                        "FROM table1 t1\n",
                        "JOIN table2 t2 AS t1.tset = substring(t2.tses from '\\w+$')\n"
                    ]
                }
            ],
            "source": [
                "assert_and_print(\n",
                "    preformat_statements(\n",
                "\"\"\"\n",
                "create or replace transient table  my_table as -- mytable\n",
                "select distinct asdf, qwer, -- some comment\n",
                "from table1 t1 join table2 t2 as t1.tset = substring(t2.tses from '\\w+$')\n",
                "\"\"\"\n",
                "    ),\n",
                "\"\"\"\n",
                "CREATE OR REPLACE TRANSIENT TABLE my_table AS -- mytable[C]\n",
                "SELECT DISTINCT asdf, qwer, -- some comment[C]\n",
                "FROM table1 t1\n",
                "JOIN table2 t2 AS t1.tset = substring(t2.tses from '\\w+$')\n",
                "\"\"\".strip()\n",
                ")"
            ]
        },
        {
            "cell_type": "markdown",
            "metadata": {},
            "source": [
                "### Lowercasing query"
            ]
        },
        {
            "cell_type": "code",
            "execution_count": 1141,
            "metadata": {},
            "outputs": [],
            "source": [
                "#export\n",
                "def lowercase_query(s):\n",
                "    \"Lowercase query but let comments and text in quotes untouched\"\n",
                "    split_s = split_query(s)\n",
                "    split_s = [\n",
                "        d[\"string\"]\n",
                "        if d[\"comment\"] or d[\"quote\"]\n",
                "        else d[\"string\"].lower()\n",
                "        for d in split_s\n",
                "    ]\n",
                "    s = \"\".join([s for s in split_s])\n",
                "    return s    "
            ]
        },
        {
            "cell_type": "code",
            "execution_count": 1142,
            "metadata": {},
            "outputs": [
                {
                    "name": "stdout",
                    "output_type": "stream",
                    "text": [
                        "\n",
                        "--- My nice view 1 --\n",
                        "create or replace view view_1 as\n",
                        "select asdf, -- Some Comment\n",
                        "qwer,\n",
                        "qwerty, -- Some other comment\n",
                        "from table1\n",
                        "\n"
                    ]
                }
            ],
            "source": [
                "assert_and_print(\n",
                "    lowercase_query(\"\"\"\n",
                "--- My nice view 1 --\n",
                "Create or Replace VieW view_1 as\n",
                "seLect asdf, -- Some Comment\n",
                "qwER,\n",
                "qwerTy, -- Some other comment\n",
                "FROM table1\n",
                "\"\"\"),\n",
                "    \"\"\"\n",
                "--- My nice view 1 --\n",
                "create or replace view view_1 as\n",
                "select asdf, -- Some Comment\n",
                "qwer,\n",
                "qwerty, -- Some other comment\n",
                "from table1\n",
                "\"\"\"\n",
                ")"
            ]
        },
        {
            "cell_type": "code",
            "execution_count": 1143,
            "metadata": {},
            "outputs": [
                {
                    "name": "stdout",
                    "output_type": "stream",
                    "text": [
                        "\n",
                        "-- Some comment --\n",
                        "create or replace table as\n",
                        "select asdf,\n",
                        "/* sOme CommEnt */\n",
                        "qwer\n",
                        "from table1\n",
                        "\n"
                    ]
                }
            ],
            "source": [
                "assert_and_print(\n",
                "    lowercase_query(\"\"\"\n",
                "-- Some comment --\n",
                "Create Or rePlace tablE aS\n",
                "sElEct asdf,\n",
                "/* sOme CommEnt */\n",
                "qwer\n",
                "FroM table1\n",
                "\"\"\"),\n",
                "\"\"\"\n",
                "-- Some comment --\n",
                "create or replace table as\n",
                "select asdf,\n",
                "/* sOme CommEnt */\n",
                "qwer\n",
                "from table1\n",
                "\"\"\"\n",
                ")"
            ]
        },
        {
            "cell_type": "code",
            "execution_count": 1144,
            "metadata": {},
            "outputs": [
                {
                    "name": "stdout",
                    "output_type": "stream",
                    "text": [
                        "\n",
                        "-- Some comment --\n",
                        "create or replace table as\n",
                        "select asdf, replace('J', 'N', asdf2) as asdf3\n",
                        "/* sOme CommEnt */\n",
                        "qwer\n",
                        "from table1\n",
                        "\n"
                    ]
                }
            ],
            "source": [
                "assert_and_print(\n",
                "    lowercase_query(\"\"\"\n",
                "-- Some comment --\n",
                "Create Or rePlace tablE aS\n",
                "sElEct asdf, replace('J', 'N', Asdf2) as Asdf3\n",
                "/* sOme CommEnt */\n",
                "qwer\n",
                "FroM table1\n",
                "\"\"\"),\n",
                "\"\"\"\n",
                "-- Some comment --\n",
                "create or replace table as\n",
                "select asdf, replace('J', 'N', asdf2) as asdf3\n",
                "/* sOme CommEnt */\n",
                "qwer\n",
                "from table1\n",
                "\"\"\"\n",
                ")"
            ]
        },
        {
            "cell_type": "code",
            "execution_count": 1145,
            "metadata": {},
            "outputs": [
                {
                    "name": "stdout",
                    "output_type": "stream",
                    "text": [
                        "\n",
                        "-- Some comment --\n",
                        "create or replace table as\n",
                        "select asdf, replace('J', 'N', asdf2) as asdf3\n",
                        "/* sOme CommEnt */\n",
                        "qwer\n",
                        "from table1 -- Some comment\n",
                        "\n"
                    ]
                }
            ],
            "source": [
                "assert_and_print(\n",
                "    lowercase_query(\"\"\"\n",
                "-- Some comment --\n",
                "Create Or rePlace tablE aS\n",
                "sElEct asdf, replace('J', 'N', Asdf2) as Asdf3\n",
                "/* sOme CommEnt */\n",
                "qwer\n",
                "FroM table1 -- Some comment\n",
                "\"\"\"),\n",
                "\"\"\"\n",
                "-- Some comment --\n",
                "create or replace table as\n",
                "select asdf, replace('J', 'N', asdf2) as asdf3\n",
                "/* sOme CommEnt */\n",
                "qwer\n",
                "from table1 -- Some comment\n",
                "\"\"\"\n",
                ")"
            ]
        },
        {
            "cell_type": "markdown",
            "metadata": {},
            "source": [
                "## Add whitespaces between symbols"
            ]
        },
        {
            "cell_type": "code",
            "execution_count": 1146,
            "metadata": {},
            "outputs": [],
            "source": [
                "#export\n",
                "def add_whitespaces_query(s):\n",
                "    \"Add whitespaces between symbols (=!<>) for query `s` but not for comments\"\n",
                "    split_s = split_comment_quote(s)  # split by comment / non-comment, quote / non-quote\n",
                "    for d in split_s:\n",
                "        if not d[\"comment\"] and not d[\"quote\"]:\n",
                "            d[\"string\"] = add_whitespaces_between_symbols(d[\"string\"])\n",
                "    s = \"\".join([d[\"string\"] for d in split_s])\n",
                "    return s"
            ]
        },
        {
            "cell_type": "code",
            "execution_count": 1147,
            "metadata": {},
            "outputs": [
                {
                    "name": "stdout",
                    "output_type": "stream",
                    "text": [
                        "\n",
                        "create or replace table my_table as /* some comment 1=1, 1 =1 */\n",
                        "select asdf, case when asdf = 1 then '=' else 0 end as qwerty\n",
                        "from table1 as a\n",
                        "left join table2 as b on a.asdf = b.asdf\n",
                        "where asdf = 1 and qwer = 2\n",
                        "\n"
                    ]
                }
            ],
            "source": [
                "assert_and_print(\n",
                "    add_whitespaces_query(\n",
                "\"\"\"\n",
                "create or replace table my_table as /* some comment 1=1, 1 =1 */\n",
                "select asdf, case when asdf= 1 then '=' else 0 end as qwerty\n",
                "from table1 as a\n",
                "left join table2 as b on a.asdf= b.asdf\n",
                "where asdf=1 and qwer =2\n",
                "\"\"\"\n",
                "    ),\n",
                "\"\"\"\n",
                "create or replace table my_table as /* some comment 1=1, 1 =1 */\n",
                "select asdf, case when asdf = 1 then '=' else 0 end as qwerty\n",
                "from table1 as a\n",
                "left join table2 as b on a.asdf = b.asdf\n",
                "where asdf = 1 and qwer = 2\n",
                "\"\"\"    \n",
                ")"
            ]
        },
        {
            "cell_type": "markdown",
            "metadata": {},
            "source": [
                "## Specific formatting and validation\n",
                "\n",
                "Now we will format each statement individually"
            ]
        },
        {
            "cell_type": "markdown",
            "metadata": {},
            "source": [
                "#### PARTITION BY\n",
                "\n",
                "Helper function for format PARTITION BY Within SELECT"
            ]
        },
        {
            "cell_type": "code",
            "execution_count": 1148,
            "metadata": {},
            "outputs": [],
            "source": [
                "#export\n",
                "def format_partition_by(s, base_indentation):\n",
                "    \"Format PARTITION BY line in SELECT (DISTINCT)\"\n",
                "    orderby_involved = bool(re.search(\"order by\", s, flags=re.I))\n",
                "    if orderby_involved:\n",
                "        split_s = re.split(\"(partition by.*)(order by.*)\", s, flags=re.I)  # split PARTITION BY    \n",
                "    else:\n",
                "        split_s = re.split(\"(partition by.*)\", s, flags=re.I)  # split PARTITION BY\n",
                "    split_s = [sp for sp in split_s if sp != \"\"]\n",
                "    begin_s = split_s[0]\n",
                "    partition_by = split_s[1]\n",
                "    indentation = base_indentation + 8\n",
                "    # add newline after each comma (no comments) and indentation\n",
                "    partition_by = add_newline_indentation(partition_by, indentation=indentation)\n",
                "    # add new line and indentation after order by\n",
                "    if orderby_involved:\n",
                "        partition_by = \"\".join([partition_by, \" \"] + split_s[2:])\n",
                "    partition_by = re.sub(\n",
                "        r\"\\s(order by.*)\", \"\\n\" + \" \" * (base_indentation + 4) + r\"\\1\", \n",
                "        partition_by, \n",
                "        flags=re.I\n",
                "    )\n",
                "    # combine begin of string with formatted partition by\n",
                "    s = begin_s + \"\\n\" + (base_indentation + 4) * \" \" + partition_by\n",
                "    s = s.strip()\n",
                "    # add newline and indentation before the last bracket \n",
                "    s = re.sub(r\"(\\)\\s*(?:as\\s*)*[^\\s\\)]+)$\", \"\\n\" + \" \" * base_indentation + r\"\\1\", s, flags=re.I)\n",
                "    return s"
            ]
        },
        {
            "cell_type": "code",
            "execution_count": 1149,
            "metadata": {},
            "outputs": [
                {
                    "name": "stdout",
                    "output_type": "stream",
                    "text": [
                        "qwer over (\n",
                        "    partition by asdf,\n",
                        "        qwer\n",
                        "    order by qwerty)\n"
                    ]
                }
            ],
            "source": [
                "sql = \"\"\"qwer over (partition by asdf, qwer order by qwerty)\"\"\"\n",
                "print(format_partition_by(sql, 0))"
            ]
        },
        {
            "cell_type": "markdown",
            "metadata": {},
            "source": [
                "#### Remove (mistake) comma at end of SELECT"
            ]
        },
        {
            "cell_type": "code",
            "execution_count": 1150,
            "metadata": {},
            "outputs": [],
            "source": [
                "#export\n",
                "def remove_wrong_end_comma(split_s):\n",
                "    \"\"\"Remove mistakenly placed commas at the end of SELECT statement using `split_s` with keys\n",
                "    \"string\", \"comment\" and \"quote\"\n",
                "    \"\"\"\n",
                "    reversed_split_s = split_s[::-1]  # reversed split_s\n",
                "    first_noncomment = True\n",
                "    # compile regex before loop\n",
                "    replace_comma_without_comment = re.compile(r\"([\\w\\d]+)[,]+(\\s*)$\")\n",
                "    replace_comma_with_comment = re.compile(r\"([\\w\\d]+)[,]+(\\s*)$\")\n",
                "    for i, d in enumerate(reversed_split_s):\n",
                "        s_aux = d[\"string\"]\n",
                "        if not d[\"comment\"] and not d[\"quote\"] and d[\"string\"] != \"\" and first_noncomment:\n",
                "            if i == 0:  # if end of select (no comment afterwards) remove whitespaces\n",
                "                s_aux = replace_comma_without_comment.sub(r\"\\1\", s_aux)\n",
                "            else:  # if not end of select (because comment afterwards) do not remove whitespaces\n",
                "                s_aux = replace_comma_with_comment.sub(r\"\\1\\2\", s_aux)\n",
                "            first_noncomment = False\n",
                "        # remove whitespaces between newline symbols\n",
                "        s_aux = remove_whitespaces_newline(s_aux)\n",
                "        reversed_split_s[i][\"string\"] = s_aux\n",
                "    split_s_out = reversed_split_s[::-1]\n",
                "    return split_s_out"
            ]
        },
        {
            "cell_type": "code",
            "execution_count": 1151,
            "metadata": {},
            "outputs": [
                {
                    "name": "stdout",
                    "output_type": "stream",
                    "text": [
                        "select asdf, qwer\n"
                    ]
                }
            ],
            "source": [
                "assert_and_print(\n",
                "    split_apply_concat(\"select asdf, qwer, \", remove_wrong_end_comma),\n",
                "    \"select asdf, qwer\"\n",
                ")"
            ]
        },
        {
            "cell_type": "code",
            "execution_count": 1152,
            "metadata": {},
            "outputs": [
                {
                    "name": "stdout",
                    "output_type": "stream",
                    "text": [
                        "select asdf, qwer -- some comment\n"
                    ]
                }
            ],
            "source": [
                "assert_and_print(\n",
                "    split_apply_concat(\"select asdf, qwer, -- some comment\", remove_wrong_end_comma),\n",
                "    \"select asdf, qwer -- some comment\"\n",
                ")"
            ]
        },
        {
            "cell_type": "code",
            "execution_count": 1153,
            "metadata": {},
            "outputs": [
                {
                    "name": "stdout",
                    "output_type": "stream",
                    "text": [
                        "select asdf, qwer /* another comment */\n"
                    ]
                }
            ],
            "source": [
                "assert_and_print(\n",
                "    split_apply_concat(\"select asdf, qwer, /* another comment */\", remove_wrong_end_comma),\n",
                "    \"select asdf, qwer /* another comment */\"\n",
                ")"
            ]
        },
        {
            "cell_type": "code",
            "execution_count": 1154,
            "metadata": {},
            "outputs": [
                {
                    "name": "stdout",
                    "output_type": "stream",
                    "text": [
                        "select asdf, qwer /* more than 1 comma */\n"
                    ]
                }
            ],
            "source": [
                "assert_and_print(\n",
                "    split_apply_concat(\"select asdf, qwer,,,, /* more than 1 comma */\", remove_wrong_end_comma),    \n",
                "    \"select asdf, qwer /* more than 1 comma */\"\n",
                ")"
            ]
        },
        {
            "cell_type": "markdown",
            "metadata": {},
            "source": [
                "#### Helper function for `case when`"
            ]
        },
        {
            "cell_type": "code",
            "execution_count": 1155,
            "metadata": {},
            "outputs": [],
            "source": [
                "#export\n",
                "def format_case_when(s, max_len=99):\n",
                "    \"Format case when statement in line `s`\"\n",
                "    # compile regex\n",
                "    when_else_re = re.compile(r\"(?<!case) ((?:when|else).*?)\", flags=re.I)\n",
                "    case_and_or = re.compile(r\"\\b((?:and|or))\\b\", flags=re.I)\n",
                "    case_then = re.compile(r\"\\b(then)\\b\", flags=re.I)\n",
                "    case_end = re.compile(r\"\\b(end)\\b\", flags=re.I)\n",
                "    indent_in_brackets = re.compile(r\"(\\([^\\)\\(]*?)\\s*(and|or)\\b\", flags=re.I)\n",
                "    indent_between_and_reset = re.compile(r\"(\\bbetween\\b)\\s+(\\S*?)\\s+(\\band\\b)\", flags=re.I)\n",
                "    indent_between_and_indent = re.compile(r\"(\\bbetween\\b)\\s(\\S*?)\\s(\\band\\b)\", flags=re.I)\n",
                "    # prepare string\n",
                "    s_strip = s.strip()\n",
                "    field_indentation = len(s) - len(s_strip)\n",
                "    split_s = split_comment_quote(s)\n",
                "    for d in split_s:\n",
                "        if not d[\"quote\"]:  # assumed no comments given by select function\n",
                "            d[\"string\"] = when_else_re.sub(\n",
                "                r\"\\n\" + \" \" * (field_indentation + 4) + r\"\\1\",\n",
                "                d[\"string\"]\n",
                "            )\n",
                "            # if len(d[\"string\"]) + field_indentation + 10 > max_len: # 10 for \"case when \"\n",
                "            #     d[\"string\"] = case_and_or.sub(\n",
                "            #         \"\\n\" + \" \" * (field_indentation + 8) + r\"\\1\",\n",
                "            #         d[\"string\"]\n",
                "            #     )\n",
                "            d[\"string\"] = case_then.sub(\n",
                "                \"\\n\" + \" \" * (field_indentation + 4) + r\"\\1\",\n",
                "                d[\"string\"]\n",
                "            )\n",
                "            d[\"string\"] = case_end.sub(\"\\n\" + \" \" * field_indentation + r\"\\1\", d[\"string\"])\n",
                "    \n",
                "    s_code = \"\".join([d[\"string\"] for d in split_s])\n",
                "    s_code = \"\\n\".join([case_and_or.sub(\"\\n\" + \" \" * (field_indentation + 8) + r\"\\1\", sp) if len(sp) > max_len else sp for sp in s_code.split(\"\\n\")])\n",
                "        # add more newline for and, or within brackets\n",
                "    s_code = indent_in_brackets.sub(lambda x: x.group(1) + \" \" + x.group(2), s_code)\n",
                "    s_code = indent_between_and_reset.sub(r\"\\1 \\2 \\3\", s_code)\n",
                "    s_code = \"\\n\".join([indent_between_and_indent.sub(r\"\\1 \\2\\n\" + \" \" * 12 + r\"\\3\", sp) \n",
                "                        if len(sp) > max_len else sp for sp in s_code.split(\"\\n\")])\n",
                "\n",
                "    return s_code"
            ]
        },
        {
            "cell_type": "code",
            "execution_count": 1156,
            "metadata": {},
            "outputs": [
                {
                    "data": {
                        "text/plain": [
                            "'def reformat_too_long_line(li, max_len=99):\\n    \"Reformat too long line `li` if it is longer than `max_len` characters after stripping\"\\n    if len(li) > max_len and \"(\" in li[:max_len]:\\n        #position of the \"(\" near to the max_len\\n        last_open_parenthesis = max_len - 1 - toolongsql[:max_len][::-1].find(\"(\")\\n        k = -1\\n        last_close_paraenthesis = None\\n        for i, c in enumerate(li[last_open_parenthesis:]):\\n            if c == \"(\": # if there is a parenthesis not involving a subquery\\n                k += 1\\n            elif c == \")\" and k == 0: # end position for subquery\\n                last_close_paraenthesis = i\\n                print(i)\\n                break\\n            elif c == \")\":\\n                k -= 1\\n        \\n        # add newline\\n        li =  li[:last_open_parenthesis + 1] + \"\\n\" +         li[last_open_parenthesis + 1: last_open_parenthesis + last_close_paraenthesis] + \"\\n\" +         li[last_open_parenthesis + last_close_paraenthesis:]\\n        \\n        # add indent after each newline\\n        li = li.replace(\"\\n\", \"\\n\" + \" \" * 4)\\n        return li\\n    else:\\n        return li'"
                        ]
                    },
                    "execution_count": 1156,
                    "metadata": {},
                    "output_type": "execute_result"
                }
            ],
            "source": [
                "\"\"\"def reformat_too_long_line(li, max_len=99):\n",
                "    \"Reformat too long line `li` if it is longer than `max_len` characters after stripping\"\n",
                "    if len(li) > max_len and \"(\" in li[:max_len]:\n",
                "        #position of the \"(\" near to the max_len\n",
                "        last_open_parenthesis = max_len - 1 - toolongsql[:max_len][::-1].find(\"(\")\n",
                "        k = -1\n",
                "        last_close_paraenthesis = None\n",
                "        for i, c in enumerate(li[last_open_parenthesis:]):\n",
                "            if c == \"(\": # if there is a parenthesis not involving a subquery\n",
                "                k += 1\n",
                "            elif c == \")\" and k == 0: # end position for subquery\n",
                "                last_close_paraenthesis = i\n",
                "                print(i)\n",
                "                break\n",
                "            elif c == \")\":\n",
                "                k -= 1\n",
                "        \n",
                "        # add newline\n",
                "        li =  li[:last_open_parenthesis + 1] + \"\\n\" + \\\n",
                "        li[last_open_parenthesis + 1: last_open_parenthesis + last_close_paraenthesis] + \"\\n\" + \\\n",
                "        li[last_open_parenthesis + last_close_paraenthesis:]\n",
                "        \n",
                "        # add indent after each newline\n",
                "        li = li.replace(\"\\n\", \"\\n\" + \" \" * 4)\n",
                "        return li\n",
                "    else:\n",
                "        return li\"\"\""
            ]
        },
        {
            "cell_type": "markdown",
            "metadata": {},
            "source": [
                "#### Helper function to reformat too long lines in SELECT statement"
            ]
        },
        {
            "cell_type": "code",
            "execution_count": 1157,
            "metadata": {},
            "outputs": [],
            "source": [
                "#depreciated\n",
                "def reformat_too_long_line(li, max_len=99):\n",
                "    \"Reformat too long line `li` if it is longer than `max_len` characters after stripping\"\n",
                "    indent_length = len(li) - len(li.strip()) + 4\n",
                "    if len(li) > max_len:\n",
                "        function_re = re.compile(\"[\\w\\d]+\\(\")\n",
                "        if function_re.search(li):\n",
                "            out_list = []\n",
                "            in_function = False  # indicator for reformatting line with function\n",
                "            k = 0  # counter for parenthesis\n",
                "            j = 0  # indicator for string position\n",
                "            quote_open1 = False  # quote '\n",
                "            quote_open2 = False # quote \"\n",
                "            first_append = True\n",
                "            for i, s in enumerate(li):\n",
                "                if function_re.match(li[i-1:i+1]) and not quote_open1 and not quote_open2 and not in_function:\n",
                "                    in_function = True\n",
                "                    indentation = i+1\n",
                "                elif s == \"(\" and not quote_open1 and not quote_open2 and in_function:\n",
                "                    k += 1\n",
                "                elif s == \")\" and not quote_open1 and not quote_open2 and in_function:\n",
                "                    k -= 1\n",
                "                elif k == -1:\n",
                "                    in_function = False\n",
                "                elif s == \",\" and in_function and not quote_open1 and not quote_open2 and k == 0:\n",
                "                    if first_append:\n",
                "                        out_list.append(li[j:i+1].rstrip())\n",
                "                        first_append = False\n",
                "                    else:\n",
                "                        out_list.append(li[j:i+1].strip())                        \n",
                "                    j = i + 1\n",
                "                elif s == \"'\" and not quote_open1 and not quote_open2:\n",
                "                    quote_open1 = True\n",
                "                elif s == \"'\" and quote_open1 and not quote_open2:\n",
                "                    quote_open1 = False\n",
                "                elif s == '\"' and not quote_open1 and not quote_open2:\n",
                "                    quote_open2 = True\n",
                "                elif s == '\"' and not quote_open1 and quote_open2:\n",
                "                    quote_open2 = False\n",
                "            out_list.append(li[j:].strip())\n",
                "            if len(out_list) > 1:\n",
                "                join_str = \"\\n\" + \" \" * indent_length\n",
                "                li = join_str.join(out_list)\n",
                "        elif \"in (\" in li:\n",
                "            out_list = []\n",
                "            in_in = False\n",
                "            j = 0  # indicator for string position\n",
                "            quote_open1 = False  # quote '\n",
                "            quote_open2 = False # quote \"\n",
                "            first_append = True\n",
                "            lcol = 0  # line code column\n",
                "            for i, s in enumerate(li):\n",
                "                if \"in (\" in li[i-3:i+1] and not quote_open1 and not quote_open2 and not in_in:\n",
                "                    in_in = True\n",
                "                    indentation = i + 1\n",
                "                elif s == \")\" and not quote_open1 and not quote_open2 and in_in:\n",
                "                    in_in = False\n",
                "                elif s == \",\" and in_in and not quote_open1 and not quote_open2:\n",
                "                    line_chunk = li[j:i+1]\n",
                "                    lcol = len(line_chunk.strip()) + indentation\n",
                "                    if first_append:\n",
                "                        lcol = len(line_chunk.strip())                            \n",
                "                        if lcol >= max_len:\n",
                "                            out_list.append(line_chunk.rstrip())\n",
                "                            first_append = False\n",
                "                            j = i + 1                            \n",
                "                    else:\n",
                "                        lcol = len(line_chunk.strip()) + indentation\n",
                "                        if lcol >= max_len:\n",
                "                            out_list.append(line_chunk.strip())\n",
                "                            j = i + 1\n",
                "                elif s == \"'\" and not quote_open1 and not quote_open2:\n",
                "                    quote_open1 = True\n",
                "                elif s == \"'\" and quote_open1 and not quote_open2:\n",
                "                    quote_open1 = False\n",
                "                elif s == '\"' and not quote_open1 and not quote_open2:\n",
                "                    quote_open2 = True\n",
                "                elif s == '\"' and not quote_open1 and quote_open2:\n",
                "                    quote_open2 = False\n",
                "            out_list.append(li[j:].strip())\n",
                "            if len(out_list) > 1:\n",
                "                join_str = \"\\n\" + \" \" * indent_length\n",
                "                li = join_str.join(out_list)\n",
                "    return li"
            ]
        },
        {
            "cell_type": "code",
            "execution_count": 1158,
            "metadata": {},
            "outputs": [
                {
                    "name": "stdout",
                    "output_type": "stream",
                    "text": [
                        "SELECT round(coalesce((coalesce(coalesce(sum(extract(epoch FROM (job.finished_at - job.created_at))) FILTER (WHERE (job.state = 'completed')))) / 60), 0)::numeric,\n",
                        "    8) AS time_int\n"
                    ]
                }
            ],
            "source": [
                "toolongsql = \"\"\"SELECT round(coalesce((coalesce(coalesce(sum(extract(epoch FROM (job.finished_at - job.created_at))) FILTER (WHERE (job.state = 'completed')))) / 60), 0)::numeric, 8) AS time_int\"\"\"\n",
                "print(reformat_too_long_line(toolongsql))"
            ]
        },
        {
            "cell_type": "code",
            "execution_count": 1159,
            "metadata": {},
            "outputs": [
                {
                    "name": "stdout",
                    "output_type": "stream",
                    "text": [
                        "select concat(substr(concat(')0', substr(asdf, 1, 2)), -2, 2),\n",
                        "    substr(concat('(0', substr(asdf, 3, 2)), -2, 2)) as qwer\n"
                    ]
                }
            ],
            "source": [
                "assert_and_print(\n",
                "    reformat_too_long_line(\n",
                "        \"select concat(substr(concat(')0', substr(asdf, 1, 2)), -2, 2), substr(concat('(0', substr(asdf, 3, 2)), -2, 2)) as qwer\"\n",
                "    ),\n",
                "\"\"\"\n",
                "select concat(substr(concat(')0', substr(asdf, 1, 2)), -2, 2),\n",
                "    substr(concat('(0', substr(asdf, 3, 2)), -2, 2)) as qwer\n",
                "\"\"\".strip()\n",
                ")"
            ]
        },
        {
            "cell_type": "code",
            "execution_count": 1160,
            "metadata": {},
            "outputs": [
                {
                    "name": "stdout",
                    "output_type": "stream",
                    "text": [
                        "       concat(substr(concat(')0', substr(asdf, 1, 2)), -2, 2),\n",
                        "           substr(concat('(0', substr(asdf, 3, 2)), -2, 2)) as qwer\n"
                    ]
                }
            ],
            "source": [
                "assert_and_print(\n",
                "    reformat_too_long_line(\n",
                "        \"       concat(substr(concat(')0', substr(asdf, 1, 2)), -2, 2), substr(concat('(0', substr(asdf, 3, 2)), -2, 2)) as qwer\"\n",
                "    ),\n",
                "\"\"\"       concat(substr(concat(')0', substr(asdf, 1, 2)), -2, 2),\n",
                "           substr(concat('(0', substr(asdf, 3, 2)), -2, 2)) as qwer\"\"\"\n",
                ")"
            ]
        },
        {
            "cell_type": "code",
            "execution_count": 1161,
            "metadata": {},
            "outputs": [
                {
                    "name": "stdout",
                    "output_type": "stream",
                    "text": [
                        "            when concat('asdf',\n",
                        "                'qwer',\n",
                        "                'qwerqwerqwerqwerqwerqwerqwr',\n",
                        "                substr(concat('asdf', 'qwer'), 1, 2)) then 2\n"
                    ]
                }
            ],
            "source": [
                "assert_and_print(\n",
                "    reformat_too_long_line(\n",
                "        \"            when concat('asdf', 'qwer', 'qwerqwerqwerqwerqwerqwerqwr', substr(concat('asdf', 'qwer'), 1, 2)) then 2\"\n",
                "    ),\n",
                "\"\"\"            when concat('asdf',\n",
                "                'qwer',\n",
                "                'qwerqwerqwerqwerqwerqwerqwr',\n",
                "                substr(concat('asdf', 'qwer'), 1, 2)) then 2\"\"\"\n",
                ")"
            ]
        },
        {
            "cell_type": "code",
            "execution_count": 1162,
            "metadata": {},
            "outputs": [
                {
                    "name": "stdout",
                    "output_type": "stream",
                    "text": [
                        "select case when asdf in (1234, 2345, 1234, 2354, 2345, 2352345, 245623462, 124123412, 124312341234) then 1\n"
                    ]
                }
            ],
            "source": [
                "assert_and_print(\n",
                "    reformat_too_long_line(\n",
                "        \"select case when asdf in (1234, 2345, 1234, 2354, 2345, 2352345, 245623462, 124123412, 124312341234) then 1\"\n",
                "    ),\n",
                "\"\"\"\n",
                "select case when asdf in (1234, 2345, 1234, 2354, 2345, 2352345, 245623462, 124123412, 124312341234) then 1\n",
                "\"\"\".strip()\n",
                ")"
            ]
        },
        {
            "cell_type": "code",
            "execution_count": 1163,
            "metadata": {},
            "outputs": [
                {
                    "name": "stdout",
                    "output_type": "stream",
                    "text": [
                        "select case when asdf in (1234, 2345, 1234,\n",
                        "    2354, 2345, 2352345,\n",
                        "    245623462, 124123412,\n",
                        "    124312341234) then 1\n"
                    ]
                }
            ],
            "source": [
                "assert_and_print(\n",
                "    reformat_too_long_line(\n",
                "        \"select case when asdf in (1234, 2345, 1234, 2354, 2345, 2352345, 245623462, 124123412, 124312341234) then 1\",\n",
                "        max_len=40\n",
                "    ),\n",
                "\"\"\"\n",
                "select case when asdf in (1234, 2345, 1234,\n",
                "    2354, 2345, 2352345,\n",
                "    245623462, 124123412,\n",
                "    124312341234) then 1\n",
                "\"\"\".strip()\n",
                ")"
            ]
        },
        {
            "cell_type": "code",
            "execution_count": 1164,
            "metadata": {},
            "outputs": [
                {
                    "name": "stdout",
                    "output_type": "stream",
                    "text": [
                        "select case when asdf in ('1234', '2345',\n",
                        "    '1234', '2354',\n",
                        "    '2345', '2352345',\n",
                        "    '245623462', '124123412',\n",
                        "    '124312341234') then 1\n"
                    ]
                }
            ],
            "source": [
                "assert_and_print(\n",
                "    reformat_too_long_line(\n",
                "        \"select case when asdf in ('1234', '2345', '1234', '2354', '2345', '2352345', '245623462', '124123412', '124312341234') then 1\",\n",
                "        max_len=40\n",
                "    ),\n",
                "\"\"\"\n",
                "select case when asdf in ('1234', '2345',\n",
                "    '1234', '2354',\n",
                "    '2345', '2352345',\n",
                "    '245623462', '124123412',\n",
                "    '124312341234') then 1\n",
                "\"\"\".strip()\n",
                ")"
            ]
        },
        {
            "cell_type": "code",
            "execution_count": 1165,
            "metadata": {},
            "outputs": [
                {
                    "name": "stdout",
                    "output_type": "stream",
                    "text": [
                        "select asdf\n"
                    ]
                }
            ],
            "source": [
                "assert_and_print(\n",
                "    reformat_too_long_line(\"select asdf\"),\n",
                "\"select asdf\"\n",
                ")"
            ]
        },
        {
            "cell_type": "code",
            "execution_count": 1166,
            "metadata": {},
            "outputs": [
                {
                    "name": "stdout",
                    "output_type": "stream",
                    "text": [
                        "select asdf + asdf1 + asdf2 + asdf3 + asdf4 + asdf5 + asdf6 + asdf7 + asdf8 + asdf9\n"
                    ]
                }
            ],
            "source": [
                "assert_and_print(\n",
                "    reformat_too_long_line(\"select asdf + asdf1 + asdf2 + asdf3 + asdf4 + asdf5 + asdf6 + asdf7 + asdf8 + asdf9\"),\n",
                "\"select asdf + asdf1 + asdf2 + asdf3 + asdf4 + asdf5 + asdf6 + asdf7 + asdf8 + asdf9\"\n",
                ")"
            ]
        },
        {
            "cell_type": "markdown",
            "metadata": {},
            "source": [
                "### SELECT"
            ]
        },
        {
            "cell_type": "code",
            "execution_count": 1167,
            "metadata": {},
            "outputs": [],
            "source": [
                "#export\n",
                "def format_select(s, max_len=99):\n",
                "    \"Format SELECT statement line `s`. If line is longer than `max_len` then reformat line\"\n",
                "    # remove [C] at end of SELECT\n",
                "    s = re.sub(r\"\\[C\\]$\", \"\", s)\n",
                "    split_s = split_comment_quote(s)  # split by comment / non-comment, quote / non-quote\n",
                "    # if comma is found at the end of select statement then remove comma\n",
                "    split_s = remove_wrong_end_comma(split_s)\n",
                "    # check whether there is a SELECT DISTINCT in the code (not comments, not text in quotes)\n",
                "    s_code = \"\".join([d[\"string\"] for d in split_s if not d[\"comment\"] and not d[\"quote\"]])    \n",
                "    # save the correct indentation: 16 for select distinct, 7 for only select\n",
                "    indentation = 4\n",
                "    # get only comment / non-comment\n",
                "    split_comment = compress_dicts(split_s, [\"comment\"])\n",
                "    # add newline after each comma and indentation (this is robust against quotes by construction)\n",
                "    s = add_newline_indentation(\"\".join([d[\"string\"] for d in split_s if not d[\"comment\"]]), \n",
                "                                indentation=indentation)\n",
                "    # split by newline\n",
                "    split_s = s.split(\"\\n\")\n",
                "    # format case when\n",
                "    split_s = [\n",
                "        format_case_when(sp, max_len)\n",
                "        if identify_in_sql(\"case when\", sp) != []\n",
                "        else sp\n",
                "        for sp in split_s\n",
                "    ]\n",
                "    # add AS if missing\n",
                "    as_regex = re.compile(r\"(\\)(?<!\\bAS\\b)\\s?|\\w(?<!\\bSELECT\\b)(?<!\\bSELECT DISTINCT\\b)(?<!\\bAS\\b)\\s)(\\w+|\\'.+\\')(,?)$\", flags=re.I)\n",
                "    split_s = [as_regex.sub(lambda x: x.group(1).rstrip() + \" AS \" + x.group(2) + x.group(3), sp)\n",
                "               for sp in split_s]\n",
                "    # join by newline\n",
                "    s = \"\\n\".join(split_s)\n",
                "    # format PARTITION BY\n",
                "    begin_s = s[0:indentation]\n",
                "    split_s = s[indentation:].split(\"\\n\" + (\" \" * indentation))\n",
                "    partition_by_re = re.compile(\"partition by\", flags=re.I)\n",
                "    split_s = [\n",
                "        format_partition_by(line, base_indentation=indentation)\n",
                "        if partition_by_re.search(line) else line\n",
                "        for line in split_s\n",
                "    ]\n",
                "    s = begin_s + (\"\\n\" + (\" \" * indentation)).join(split_s)\n",
                "    \n",
                "    # depreciated: used to reformat too long line in select only, and cannot handle too long subquery\n",
                "    # s = \"\\n\".join([\n",
                "    #     reformat_too_long_line(li, max_len=max_len)\n",
                "    #     for li in s.split(\"\\n\")        \n",
                "    # ])\n",
                "    # get comments and preceding string (non-comment)\n",
                "    comment_dicts = []\n",
                "    for i, d in enumerate(split_comment):\n",
                "        if d[\"comment\"]:\n",
                "            comment_dicts.append({\"comment\": d[\"string\"], \"preceding\": split_comment[i-1][\"string\"]})\n",
                "    # assign comments to text\n",
                "    s = assign_comment(s, comment_dicts)    \n",
                "    return s"
            ]
        },
        {
            "cell_type": "markdown",
            "metadata": {},
            "source": [
                "Simple usage without comments"
            ]
        },
        {
            "cell_type": "code",
            "execution_count": 1168,
            "metadata": {},
            "outputs": [
                {
                    "name": "stdout",
                    "output_type": "stream",
                    "text": [
                        "select aSdf,\n",
                        "    cast(qweR as numeric),\n",
                        "    Asdf,\n",
                        "    qwer1\n"
                    ]
                }
            ],
            "source": [
                "assert_and_print(\n",
                "    format_select(\"select aSdf, cast(qweR as numeric),  Asdf,qwer1\"),\n",
                "    \"\"\"select aSdf,\n",
                "    cast(qweR as numeric),\n",
                "    Asdf,\n",
                "    qwer1\"\"\"\n",
                ")"
            ]
        },
        {
            "cell_type": "markdown",
            "metadata": {},
            "source": [
                "More advanced usage with comments in SELECT"
            ]
        },
        {
            "cell_type": "code",
            "execution_count": 1169,
            "metadata": {},
            "outputs": [
                {
                    "name": "stdout",
                    "output_type": "stream",
                    "text": [
                        "select asdf,\n",
                        "    cast(qwer as numeric), -- some comment\n",
                        "    ASDF,\n",
                        "    qwer1\n"
                    ]
                }
            ],
            "source": [
                "assert_and_print(\n",
                "    format_select(\"select asdf, cast(qwer as numeric), -- some comment[C]ASDF, qwer1\"),\n",
                "    \"\"\"select asdf,\n",
                "    cast(qwer as numeric), -- some comment\n",
                "    ASDF,\n",
                "    qwer1\"\"\"\n",
                ")"
            ]
        },
        {
            "cell_type": "code",
            "execution_count": 1170,
            "metadata": {},
            "outputs": [
                {
                    "name": "stdout",
                    "output_type": "stream",
                    "text": [
                        "select asdf, -- Some comment\n",
                        "    asdforqwer -- Another comment\n"
                    ]
                }
            ],
            "source": [
                "assert_and_print(\n",
                "    format_select(\"select asdf, -- Some comment[C]asdforqwer -- Another comment[C]\"),\n",
                "\"\"\"\n",
                "select asdf, -- Some comment\n",
                "    asdforqwer -- Another comment\n",
                "\"\"\".strip()\n",
                ")"
            ]
        },
        {
            "cell_type": "markdown",
            "metadata": {},
            "source": [
                "Correcting common mistake on the flow: comma at end of SELECT"
            ]
        },
        {
            "cell_type": "code",
            "execution_count": 1171,
            "metadata": {},
            "outputs": [
                {
                    "name": "stdout",
                    "output_type": "stream",
                    "text": [
                        "select qwer1,\n",
                        "    asdf\n"
                    ]
                }
            ],
            "source": [
                "assert_and_print(\n",
                "    format_select(\"select qwer1,   asdf,\"),\n",
                "    \"select qwer1,\\n    asdf\"\n",
                ")"
            ]
        },
        {
            "cell_type": "code",
            "execution_count": 1172,
            "metadata": {},
            "outputs": [
                {
                    "name": "stdout",
                    "output_type": "stream",
                    "text": [
                        "SELECT a.asdf,\n",
                        "    b.qwer, -- some comment here\n",
                        "    /* and here is a line comment inside select */\n",
                        "    qwer2\n"
                    ]
                }
            ],
            "source": [
                "assert_and_print(\n",
                "    format_select(\"SELECT a.asdf, b.qwer, -- some comment here[C][CS]/* and here is a line comment inside select */[C]qwer2\"),\n",
                "\"\"\"\n",
                "SELECT a.asdf,\n",
                "    b.qwer, -- some comment here\n",
                "    /* and here is a line comment inside select */\n",
                "    qwer2\n",
                "\"\"\".strip()\n",
                ")"
            ]
        },
        {
            "cell_type": "code",
            "execution_count": 1173,
            "metadata": {},
            "outputs": [
                {
                    "name": "stdout",
                    "output_type": "stream",
                    "text": [
                        "SELECT a.asdf\n",
                        "       /* and here is a line comment inside select */\n"
                    ]
                }
            ],
            "source": [
                "assert_and_print(\n",
                "    format_select(\"SELECT a.asdf,[CS]/* and here is a line comment inside select */\"),\n",
                "\"\"\"\n",
                "SELECT a.asdf\n",
                "       /* and here is a line comment inside select */\n",
                "\"\"\".strip()\n",
                ")"
            ]
        },
        {
            "cell_type": "markdown",
            "metadata": {},
            "source": [
                "Line comment with --"
            ]
        },
        {
            "cell_type": "code",
            "execution_count": 1174,
            "metadata": {},
            "outputs": [
                {
                    "name": "stdout",
                    "output_type": "stream",
                    "text": [
                        "SELECT a.asdf,\n",
                        "    b.qwer, -- some comment here\n",
                        "    -- and here is a line comment inside select\n",
                        "    qwer2\n"
                    ]
                }
            ],
            "source": [
                "assert_and_print(\n",
                "    format_select(\"SELECT a.asdf, b.qwer, -- some comment here[C][CS]-- and here is a line comment inside select[C]qwer2\"),\n",
                "\"\"\"\n",
                "SELECT a.asdf,\n",
                "    b.qwer, -- some comment here\n",
                "    -- and here is a line comment inside select\n",
                "    qwer2\n",
                "\"\"\".strip()\n",
                ")"
            ]
        },
        {
            "cell_type": "markdown",
            "metadata": {},
            "source": [
                "Correcting comma at end of SELECT but having a comment in the last field"
            ]
        },
        {
            "cell_type": "code",
            "execution_count": 1175,
            "metadata": {},
            "outputs": [
                {
                    "name": "stdout",
                    "output_type": "stream",
                    "text": [
                        "select qwer1 as qwer2,\n",
                        "    asdf as asdf3 -- this field\n"
                    ]
                }
            ],
            "source": [
                "assert_and_print(\n",
                "    format_select(\"select qwer1 as qwer2,   asdf as asdf3, -- this field\"),\n",
                "    \"select qwer1 as qwer2,\\n    asdf as asdf3 -- this field\"\n",
                ")"
            ]
        },
        {
            "cell_type": "code",
            "execution_count": 1176,
            "metadata": {},
            "outputs": [
                {
                    "name": "stdout",
                    "output_type": "stream",
                    "text": [
                        "select qwer1,\n",
                        "    asdf /* this field */\n"
                    ]
                }
            ],
            "source": [
                "assert_and_print(\n",
                "    format_select(\"select qwer1,   asdf, /* this field */\"),\n",
                "    \"select qwer1,\\n    asdf /* this field */\"\n",
                ")"
            ]
        },
        {
            "cell_type": "markdown",
            "metadata": {},
            "source": [
                "With `case when` conditions"
            ]
        },
        {
            "cell_type": "code",
            "execution_count": 1177,
            "metadata": {},
            "outputs": [
                {
                    "name": "stdout",
                    "output_type": "stream",
                    "text": [
                        "select qwer1,\n",
                        "    case when abc = 1 \n",
                        "        then 'a'\n",
                        "        when abc = 2 \n",
                        "        then 'b'\n",
                        "        else 'c' \n",
                        "    end AS qwer2\n"
                    ]
                }
            ],
            "source": [
                "assert_and_print(\n",
                "    format_select(\"select qwer1, case when abc = 1 then 'a' when abc = 2 then 'b' else 'c' end qwer2\"),\n",
                "    \"\"\"\n",
                "select qwer1,\n",
                "    case when abc = 1 \n",
                "        then 'a'\n",
                "        when abc = 2 \n",
                "        then 'b'\n",
                "        else 'c' \n",
                "    end AS qwer2\n",
                "    \"\"\".strip()    \n",
                ")"
            ]
        },
        {
            "cell_type": "code",
            "execution_count": 1178,
            "metadata": {},
            "outputs": [
                {
                    "name": "stdout",
                    "output_type": "stream",
                    "text": [
                        "select qwer1,\n",
                        "    case when abc = 1 \n",
                        "        then 'a' -- first condition\n",
                        "        when abc = 2 \n",
                        "        then 'b' -- second condition\n",
                        "        else 'c' \n",
                        "    end as qwer2, /* else condition */\n",
                        "    asdf3\n"
                    ]
                }
            ],
            "source": [
                "assert_and_print(\n",
                "    format_select(\"select qwer1, case when abc = 1 then 'a' -- first condition[C]\" +\n",
                "                  \"when abc = 2 then 'b' -- second condition[C]\" +\n",
                "                  \"else 'c' end as qwer2, /* else condition */[C]\"\n",
                "                  \"asdf3\"\n",
                "),\n",
                "    \"\"\"\n",
                "select qwer1,\n",
                "    case when abc = 1 \n",
                "        then 'a' -- first condition\n",
                "        when abc = 2 \n",
                "        then 'b' -- second condition\n",
                "        else 'c' \n",
                "    end as qwer2, /* else condition */\n",
                "    asdf3\n",
                "    \"\"\".strip()    \n",
                ")"
            ]
        },
        {
            "cell_type": "markdown",
            "metadata": {},
            "source": [
                "Bad formatted `case when` condition"
            ]
        },
        {
            "cell_type": "code",
            "execution_count": 1179,
            "metadata": {},
            "outputs": [
                {
                    "name": "stdout",
                    "output_type": "stream",
                    "text": [
                        "select qwer1,\n",
                        "    case when abc <= 1 \n",
                        "        then 'a' -- first condition\n",
                        "        when abc = 2 \n",
                        "        then 'b' -- second condition\n",
                        "        else 'c' \n",
                        "    end as qwer2, -- else condition\n",
                        "    asdf3\n"
                    ]
                }
            ],
            "source": [
                "assert_and_print(\n",
                "    format_select(\"select qwer1, case when abc <= 1 then 'a' -- first condition[C]\" +\n",
                "                  \"when abc = 2 then 'b' -- second condition[C]\" +\n",
                "                  \"else 'c' end as qwer2, -- else condition[C]\"\n",
                "                  \"asdf3\"\n",
                "),\n",
                "    \"\"\"\n",
                "select qwer1,\n",
                "    case when abc <= 1 \n",
                "        then 'a' -- first condition\n",
                "        when abc = 2 \n",
                "        then 'b' -- second condition\n",
                "        else 'c' \n",
                "    end as qwer2, -- else condition\n",
                "    asdf3\n",
                "    \"\"\".strip()    \n",
                ")"
            ]
        },
        {
            "cell_type": "markdown",
            "metadata": {},
            "source": [
                "`case when` and comment after condition"
            ]
        },
        {
            "cell_type": "code",
            "execution_count": 1180,
            "metadata": {},
            "outputs": [
                {
                    "name": "stdout",
                    "output_type": "stream",
                    "text": [
                        "select qwer1,\n",
                        "    case when abc <= 1 and abc >= -1  -- first condition\n",
                        "        then 'a' -- second condition\n",
                        "        else 'c' \n",
                        "    end as qwer2, -- else condition\n",
                        "    asdf3\n"
                    ]
                }
            ],
            "source": [
                "assert_and_print(\n",
                "    format_select(\"select qwer1, case when abc <= 1 and -- first condition[C]\" +\n",
                "                  \"abc >= -1 then 'a' -- second condition[C]\" +\n",
                "                  \"else 'c' end as qwer2, -- else condition[C]\"\n",
                "                  \"asdf3\"\n",
                "),\n",
                "    \"\"\"\n",
                "select qwer1,\n",
                "    case when abc <= 1 and abc >= -1  -- first condition\n",
                "        then 'a' -- second condition\n",
                "        else 'c' \n",
                "    end as qwer2, -- else condition\n",
                "    asdf3\n",
                "    \"\"\".strip()    \n",
                ")"
            ]
        },
        {
            "cell_type": "markdown",
            "metadata": {},
            "source": [
                "`case when` in comments"
            ]
        },
        {
            "cell_type": "code",
            "execution_count": 1181,
            "metadata": {},
            "outputs": [
                {
                    "name": "stdout",
                    "output_type": "stream",
                    "text": [
                        "select qwer1,\n",
                        "    case when a3215614834984513155696749788888888888888888888bc <= 1 and abc >= -1  -- first condition case when\n",
                        "        then 'a' -- second condition case when\n",
                        "        else 'c' \n",
                        "    end as qwer2, -- else condition\n",
                        "    asdf3\n"
                    ]
                }
            ],
            "source": [
                "assert_and_print(\n",
                "    format_select(\"select qwer1, case when a3215614834984513155696749788888888888888888888bc <= 1 and -- first condition case when[C]\" +\n",
                "                  \"abc >= -1 then 'a' -- second condition case when[C]\" +\n",
                "                  \"else 'c' end as qwer2, -- else condition[C]\"\n",
                "                  \"asdf3\"\n",
                "),\n",
                "\"\"\"\n",
                "select qwer1,\n",
                "    case when a3215614834984513155696749788888888888888888888bc <= 1 and abc >= -1  -- first condition case when\n",
                "        then 'a' -- second condition case when\n",
                "        else 'c' \n",
                "    end as qwer2, -- else condition\n",
                "    asdf3\n",
                "\"\"\".strip()    \n",
                ")"
            ]
        },
        {
            "cell_type": "code",
            "execution_count": 1182,
            "metadata": {},
            "outputs": [
                {
                    "name": "stdout",
                    "output_type": "stream",
                    "text": [
                        "select asdf,\n",
                        "    case when asdf >= 1 \n",
                        "            and asdf <= 10 \n",
                        "            and substr(qwer, 1, 2) = 'abc' \n",
                        "            and substr(qwer, 3, 2) = 'qwerty' \n",
                        "        then 1\n",
                        "        else 0 \n",
                        "    end as case_field,\n",
                        "    asdf2\n"
                    ]
                }
            ],
            "source": [
                "assert_and_print(\n",
                "    format_select(\"select asdf, case when asdf >= 1 and asdf <= 10 and\" +\n",
                "                  \" substr(qwer, 1, 2) = 'abc' and substr(qwer, 3, 2) = 'qwerty'\" +\n",
                "                  \" then 1 else 0 end as case_field, asdf2\"\n",
                "    ),\n",
                "\"\"\"\n",
                "select asdf,\n",
                "    case when asdf >= 1 \n",
                "            and asdf <= 10 \n",
                "            and substr(qwer, 1, 2) = 'abc' \n",
                "            and substr(qwer, 3, 2) = 'qwerty' \n",
                "        then 1\n",
                "        else 0 \n",
                "    end as case_field,\n",
                "    asdf2\n",
                "\"\"\".strip()\n",
                ")"
            ]
        },
        {
            "cell_type": "markdown",
            "metadata": {},
            "source": [
                "2 `case when ... end`"
            ]
        },
        {
            "cell_type": "code",
            "execution_count": 1183,
            "metadata": {},
            "outputs": [
                {
                    "name": "stdout",
                    "output_type": "stream",
                    "text": [
                        "select asdf,\n",
                        "    cast(case when asdf = 1 \n",
                        "        then 0\n",
                        "        else 1 \n",
                        "    end as int) as qwer,\n",
                        "    case when asdf = 0 \n",
                        "        then 1\n",
                        "        else 0 \n",
                        "    end as qwer2\n"
                    ]
                }
            ],
            "source": [
                "assert_and_print(\n",
                "    format_select(\n",
                "        \"select asdf, cast(case when asdf = 1 then 0 else 1 end as int) as qwer, \" +\n",
                "        \"case when asdf = 0 then 1 else 0 end as qwer2\"\n",
                "    ),\n",
                "\"\"\"\n",
                "select asdf,\n",
                "    cast(case when asdf = 1 \n",
                "        then 0\n",
                "        else 1 \n",
                "    end as int) as qwer,\n",
                "    case when asdf = 0 \n",
                "        then 1\n",
                "        else 0 \n",
                "    end as qwer2\n",
                "\"\"\".strip()\n",
                ")"
            ]
        },
        {
            "cell_type": "markdown",
            "metadata": {},
            "source": [
                "With functions in SELECT"
            ]
        },
        {
            "cell_type": "code",
            "execution_count": 1184,
            "metadata": {},
            "outputs": [
                {
                    "name": "stdout",
                    "output_type": "stream",
                    "text": [
                        "select aSdf,\n",
                        "    substr(qweR, 2) as qwer,\n",
                        "    Asdf,\n",
                        "    qwer1\n"
                    ]
                }
            ],
            "source": [
                "assert_and_print(\n",
                "    format_select(\"select aSdf, substr(qweR, 2) as qwer,  Asdf,qwer1\"),\n",
                "    \"select aSdf,\\n    substr(qweR, 2) as qwer,\\n    Asdf,\\n    qwer1\"\n",
                ")"
            ]
        },
        {
            "cell_type": "code",
            "execution_count": 1185,
            "metadata": {},
            "outputs": [
                {
                    "name": "stdout",
                    "output_type": "stream",
                    "text": [
                        "select car_id,\n",
                        "    avg(price) as avg_price\n"
                    ]
                }
            ],
            "source": [
                "assert_and_print(\n",
                "    format_select(\n",
                "\"\"\"\n",
                "select car_id,\n",
                "       avg(price) as avg_price,\n",
                "\"\"\"\n",
                "    ),\n",
                "\"\"\"\n",
                "select car_id,\n",
                "    avg(price) as avg_price\n",
                "\"\"\".strip()\n",
                ")"
            ]
        },
        {
            "cell_type": "markdown",
            "metadata": {},
            "source": [
                "With function in SELECT and case when"
            ]
        },
        {
            "cell_type": "code",
            "execution_count": 1186,
            "metadata": {},
            "outputs": [
                {
                    "name": "stdout",
                    "output_type": "stream",
                    "text": [
                        "select qwer1,\n",
                        "    cast(case when asdf = 'J' \n",
                        "        then 1\n",
                        "        else 0 \n",
                        "    end) as qwer2,\n",
                        "    qwer3\n"
                    ]
                }
            ],
            "source": [
                "assert_and_print(\n",
                "    format_select(\"select qwer1, cast(case when asdf = 'J' then 1 else 0 end) as qwer2, qwer3\"),\n",
                "\"\"\"\n",
                "select qwer1,\n",
                "    cast(case when asdf = 'J' \n",
                "        then 1\n",
                "        else 0 \n",
                "    end) as qwer2,\n",
                "    qwer3\n",
                "\"\"\".strip()    \n",
                ")"
            ]
        },
        {
            "cell_type": "code",
            "execution_count": 1187,
            "metadata": {},
            "outputs": [
                {
                    "name": "stdout",
                    "output_type": "stream",
                    "text": [
                        "select qwer1,\n",
                        "    cast(substr(case when asdf = 'CASE WHEN' \n",
                        "        then 1\n",
                        "        else 0 \n",
                        "    end, 2, 1)) as qwer2,\n",
                        "    qwer3\n"
                    ]
                }
            ],
            "source": [
                "assert_and_print(\n",
                "    format_select(\"select qwer1, cast(substr(case when asdf = 'CASE WHEN' then 1 else 0 end, 2, 1)) as qwer2, qwer3\"),\n",
                "\"\"\"\n",
                "select qwer1,\n",
                "    cast(substr(case when asdf = 'CASE WHEN' \n",
                "        then 1\n",
                "        else 0 \n",
                "    end, 2, 1)) as qwer2,\n",
                "    qwer3\n",
                "\"\"\".strip()    \n",
                ")"
            ]
        },
        {
            "cell_type": "code",
            "execution_count": 1188,
            "metadata": {},
            "outputs": [
                {
                    "name": "stdout",
                    "output_type": "stream",
                    "text": [
                        "select qwer1,\n",
                        "    substr(qwer, case when asdf = 'J' \n",
                        "        then 1\n",
                        "        else 0 \n",
                        "    end, 4) as qwer2,\n",
                        "    qwer3\n"
                    ]
                }
            ],
            "source": [
                "assert_and_print(\n",
                "    format_select(\"select qwer1, substr(qwer, case when asdf = 'J' then 1 else 0 end, 4) as qwer2, qwer3\"),\n",
                "\"\"\"\n",
                "select qwer1,\n",
                "    substr(qwer, case when asdf = 'J' \n",
                "        then 1\n",
                "        else 0 \n",
                "    end, 4) as qwer2,\n",
                "    qwer3\n",
                "\"\"\".strip()    \n",
                ")"
            ]
        },
        {
            "cell_type": "code",
            "execution_count": 1189,
            "metadata": {},
            "outputs": [
                {
                    "name": "stdout",
                    "output_type": "stream",
                    "text": [
                        "select qwer1,\n",
                        "    substr('blabla', case when asdf = 'J' \n",
                        "        then 1\n",
                        "        else 0 \n",
                        "    end, 4) as qwer2,\n",
                        "    qwer3\n"
                    ]
                }
            ],
            "source": [
                "assert_and_print(\n",
                "    format_select(\"select qwer1, substr('blabla', case when asdf = 'J' then 1 else 0 end, 4) as qwer2, qwer3\"),\n",
                "\"\"\"\n",
                "select qwer1,\n",
                "    substr('blabla', case when asdf = 'J' \n",
                "        then 1\n",
                "        else 0 \n",
                "    end, 4) as qwer2,\n",
                "    qwer3\n",
                "\"\"\".strip()    \n",
                ")"
            ]
        },
        {
            "cell_type": "markdown",
            "metadata": {},
            "source": [
                "With `SELECT DISTINCT`"
            ]
        },
        {
            "cell_type": "code",
            "execution_count": 1190,
            "metadata": {},
            "outputs": [
                {
                    "name": "stdout",
                    "output_type": "stream",
                    "text": [
                        "select distinct asdf,\n",
                        "    qwer,\n",
                        "    qwer2\n"
                    ]
                }
            ],
            "source": [
                "assert_and_print(\n",
                "    format_select(\"select distinct asdf, qwer, qwer2,\"),\n",
                "\"\"\"\n",
                "select distinct asdf,\n",
                "    qwer,\n",
                "    qwer2\n",
                "\"\"\".strip()\n",
                ")"
            ]
        },
        {
            "cell_type": "code",
            "execution_count": 1191,
            "metadata": {},
            "outputs": [
                {
                    "name": "stdout",
                    "output_type": "stream",
                    "text": [
                        "select distinct asdf,\n",
                        "    case when asdf = 1 \n",
                        "        then 1\n",
                        "        else 2 \n",
                        "    end as qwerty,\n",
                        "    qwer2\n"
                    ]
                }
            ],
            "source": [
                "assert_and_print(\n",
                "    format_select(\"select distinct asdf, case when asdf = 1 then 1 else 2 end as qwerty, qwer2,\"),\n",
                "\"\"\"\n",
                "select distinct asdf,\n",
                "    case when asdf = 1 \n",
                "        then 1\n",
                "        else 2 \n",
                "    end as qwerty,\n",
                "    qwer2\n",
                "\"\"\".strip()\n",
                ")"
            ]
        },
        {
            "cell_type": "markdown",
            "metadata": {},
            "source": [
                "With `PARTITION BY`"
            ]
        },
        {
            "cell_type": "code",
            "execution_count": 1192,
            "metadata": {},
            "outputs": [
                {
                    "name": "stdout",
                    "output_type": "stream",
                    "text": [
                        "select asdf,\n",
                        "    lead(asdf) over (\n",
                        "        partition by qwer,\n",
                        "            asdf2\n",
                        "        order by qwer2\n",
                        "    ) as qwer3,\n",
                        "    qwerty\n"
                    ]
                }
            ],
            "source": [
                "assert_and_print(\n",
                "    format_select(\"select asdf, lead(asdf) over (partition by qwer, asdf2 order by qwer2) as qwer3, qwerty,\"),\n",
                "\"\"\"\n",
                "select asdf,\n",
                "    lead(asdf) over (\n",
                "        partition by qwer,\n",
                "            asdf2\n",
                "        order by qwer2\n",
                "    ) as qwer3,\n",
                "    qwerty\n",
                "\"\"\".strip()\n",
                ")"
            ]
        },
        {
            "cell_type": "code",
            "execution_count": 1193,
            "metadata": {},
            "outputs": [
                {
                    "name": "stdout",
                    "output_type": "stream",
                    "text": [
                        "select asdf,\n",
                        "    lead(asdf) over (\n",
                        "        partition by asdf,\n",
                        "            qwer\n",
                        "        order by qwer\n",
                        "    ),\n",
                        "    cast(qwer as numeric), -- some comment\n",
                        "    ASDF\n"
                    ]
                }
            ],
            "source": [
                "assert_and_print(\n",
                "    format_select(\"select asdf, lead(asdf) over (partition by asdf, qwer order by qwer), cast(qwer as numeric), -- some comment[C]ASDF, \"),\n",
                "\"\"\"\n",
                "select asdf,\n",
                "    lead(asdf) over (\n",
                "        partition by asdf,\n",
                "            qwer\n",
                "        order by qwer\n",
                "    ),\n",
                "    cast(qwer as numeric), -- some comment\n",
                "    ASDF\n",
                "\"\"\".strip()\n",
                ")"
            ]
        },
        {
            "cell_type": "code",
            "execution_count": 1194,
            "metadata": {},
            "outputs": [
                {
                    "name": "stdout",
                    "output_type": "stream",
                    "text": [
                        "select asdf,\n",
                        "    lead(asdf) over (\n",
                        "        partition by asdf,\n",
                        "            qwer\n",
                        "        order by qwer, qwer2\n",
                        "    ),\n",
                        "    cast(qwer as numeric), -- some comment\n",
                        "    ASDF\n"
                    ]
                }
            ],
            "source": [
                "assert_and_print(\n",
                "    format_select(\"select asdf, lead(asdf) over (partition by asdf, qwer order by qwer, qwer2), cast(qwer as numeric), -- some comment[C]ASDF, \"),\n",
                "\"\"\"\n",
                "select asdf,\n",
                "    lead(asdf) over (\n",
                "        partition by asdf,\n",
                "            qwer\n",
                "        order by qwer, qwer2\n",
                "    ),\n",
                "    cast(qwer as numeric), -- some comment\n",
                "    ASDF\n",
                "\"\"\".strip()\n",
                ")"
            ]
        },
        {
            "cell_type": "code",
            "execution_count": 1195,
            "metadata": {},
            "outputs": [
                {
                    "name": "stdout",
                    "output_type": "stream",
                    "text": [
                        "select asdf,\n",
                        "    lead(asdf, 1, 2) OVER (\n",
                        "        PARTITION BY snr,\n",
                        "            qwer\n",
                        "        ORDER BY asdf, qwer)\n"
                    ]
                }
            ],
            "source": [
                "assert_and_print(\n",
                "    format_select(\"select asdf, lead(asdf, 1, 2) OVER (PARTITION BY snr, qwer ORDER BY asdf, qwer)\"),\n",
                "\"\"\"\n",
                "select asdf,\n",
                "    lead(asdf, 1, 2) OVER (\n",
                "        PARTITION BY snr,\n",
                "            qwer\n",
                "        ORDER BY asdf, qwer)\n",
                "\"\"\".strip()\n",
                ")"
            ]
        },
        {
            "cell_type": "code",
            "execution_count": 1196,
            "metadata": {},
            "outputs": [
                {
                    "name": "stdout",
                    "output_type": "stream",
                    "text": [
                        "select DISTINCT asdf,\n",
                        "    lead(asdf) over (\n",
                        "        partition by asdf,\n",
                        "            qwer\n",
                        "        order by qwer\n",
                        "    ),\n",
                        "    cast(qwer as numeric), -- some comment\n",
                        "    ASDF\n"
                    ]
                }
            ],
            "source": [
                "assert_and_print(\n",
                "    format_select(\"select DISTINCT asdf, lead(asdf) over (partition by asdf, qwer order by qwer), cast(qwer as numeric), -- some comment[C]ASDF, \"),\n",
                "\"\"\"\n",
                "select DISTINCT asdf,\n",
                "    lead(asdf) over (\n",
                "        partition by asdf,\n",
                "            qwer\n",
                "        order by qwer\n",
                "    ),\n",
                "    cast(qwer as numeric), -- some comment\n",
                "    ASDF\n",
                "\"\"\".strip()\n",
                ")"
            ]
        },
        {
            "cell_type": "markdown",
            "metadata": {},
            "source": [
                "With comments within `PARTITION BY`"
            ]
        },
        {
            "cell_type": "code",
            "execution_count": 1197,
            "metadata": {},
            "outputs": [
                {
                    "name": "stdout",
                    "output_type": "stream",
                    "text": [
                        "select DISTINCT asdf,\n",
                        "    lead(asdf) over (\n",
                        "        partition by asdf, -- some comment\n",
                        "            qwer\n",
                        "        order by qwer\n",
                        "    ),\n",
                        "    cast(qwer as numeric), -- some comment\n",
                        "    ASDF\n"
                    ]
                }
            ],
            "source": [
                "assert_and_print(\n",
                "    format_select(\"select DISTINCT asdf, lead(asdf) over (partition by asdf, -- some comment[C]qwer order by qwer), cast(qwer as numeric), -- some comment[C]ASDF, \"),\n",
                "\"\"\"\n",
                "select DISTINCT asdf,\n",
                "    lead(asdf) over (\n",
                "        partition by asdf, -- some comment\n",
                "            qwer\n",
                "        order by qwer\n",
                "    ),\n",
                "    cast(qwer as numeric), -- some comment\n",
                "    ASDF\n",
                "\"\"\".strip()\n",
                ")"
            ]
        },
        {
            "cell_type": "markdown",
            "metadata": {},
            "source": [
                "With too long lines"
            ]
        },
        {
            "cell_type": "code",
            "execution_count": 1198,
            "metadata": {},
            "outputs": [
                {
                    "name": "stdout",
                    "output_type": "stream",
                    "text": [
                        "select asdf,\n",
                        "    concat(substr(concat(')0', substr(asdf, 1, 2)), -2, 2), substr(concat('(0', substr(asdf, 3, 2)), -2, 2)) as qwer\n"
                    ]
                }
            ],
            "source": [
                "assert_and_print(\n",
                "    format_select(\n",
                "        \"select asdf, concat(substr(concat(')0', substr(asdf, 1, 2)), -2, 2), substr(concat('(0', substr(asdf, 3, 2)), -2, 2)) as qwer\"\n",
                "    ),\n",
                "\"\"\"\n",
                "select asdf,\n",
                "    concat(substr(concat(')0', substr(asdf, 1, 2)), -2, 2), substr(concat('(0', substr(asdf, 3, 2)), -2, 2)) as qwer\n",
                "\"\"\".strip()\n",
                ")"
            ]
        },
        {
            "cell_type": "code",
            "execution_count": 1199,
            "metadata": {},
            "outputs": [
                {
                    "name": "stdout",
                    "output_type": "stream",
                    "text": [
                        "select asdf,\n",
                        "    case when asdf in (1231, 123123, 12312, 21412431234, 12341234123, 12341234, 12341234, 1234) \n",
                        "        then 1\n",
                        "        else 0 \n",
                        "    end as qwer,\n",
                        "    asdf2\n"
                    ]
                }
            ],
            "source": [
                "assert_and_print(\n",
                "    format_select(\n",
                "        \"select asdf, case when asdf in (1231, 123123, 12312, 21412431234, 12341234123, 12341234, 12341234, 1234) then 1 else 0 end as qwer, asdf2\"\n",
                "    ),\n",
                "\"\"\"\n",
                "select asdf,\n",
                "    case when asdf in (1231, 123123, 12312, 21412431234, 12341234123, 12341234, 12341234, 1234) \n",
                "        then 1\n",
                "        else 0 \n",
                "    end as qwer,\n",
                "    asdf2\n",
                "\"\"\".strip()\n",
                ")"
            ]
        },
        {
            "cell_type": "markdown",
            "metadata": {},
            "source": [
                "Long line with `in (...)` and quotes"
            ]
        },
        {
            "cell_type": "code",
            "execution_count": 1200,
            "metadata": {},
            "outputs": [
                {
                    "name": "stdout",
                    "output_type": "stream",
                    "text": [
                        "select asdf,\n",
                        "    case when asdf in ('1231', '123123', '12312', '21412431234', '12341234123', '12341234', '12341234', '1234') \n",
                        "        then 1\n",
                        "        else 0 \n",
                        "    end as qwer,\n",
                        "    asdf2\n"
                    ]
                }
            ],
            "source": [
                "assert_and_print(\n",
                "    format_select(\n",
                "        \"select asdf, case when asdf in ('1231', '123123', '12312', '21412431234', '12341234123', '12341234', '12341234', '1234') then 1 else 0 end as qwer, asdf2\"\n",
                "    ),\n",
                "\"\"\"\n",
                "select asdf,\n",
                "    case when asdf in ('1231', '123123', '12312', '21412431234', '12341234123', '12341234', '12341234', '1234') \n",
                "        then 1\n",
                "        else 0 \n",
                "    end as qwer,\n",
                "    asdf2\n",
                "\"\"\".strip()\n",
                ")"
            ]
        },
        {
            "cell_type": "markdown",
            "metadata": {},
            "source": [
                "### FROM"
            ]
        },
        {
            "cell_type": "code",
            "execution_count": 1201,
            "metadata": {},
            "outputs": [],
            "source": [
                "#export\n",
                "def format_from(s, **kwargs):\n",
                "    \"Format FROM statement line `s`\"\n",
                "    \n",
                "    split_s = split_comment_quote(s)\n",
                "    split_comment = compress_dicts(split_s, [\"comment\"])\n",
                "    \n",
                "    indentation = 4\n",
                "    s = add_newline_indentation(\"\".join([d[\"string\"] for d in split_s if not d[\"comment\"]]), \n",
                "                                indentation=indentation)\n",
                "    split_s = s.split(\"\\n\")\n",
                "    # add AS if no AS exists but with custom name \n",
                "    as_regex = re.compile(r\"(\\)(?<!\\bAS\\b)\\s?|\\w(?<!\\bFROM\\b)(?<!\\bAS\\b)\\s)(\\w+|\\'.+\\')(,?)$\", flags=re.I)\n",
                "    split_s = [as_regex.sub(lambda x: x.group(1).rstrip() + \" AS \" + x.group(2) + x.group(3), sp)\n",
                "               for sp in split_s]\n",
                "    s = \"\\n\".join(split_s)\n",
                "    \n",
                "    comment_dicts = []\n",
                "    for i, d in enumerate(split_comment):\n",
                "        if d[\"comment\"]:\n",
                "            comment_dicts.append({\"comment\": d[\"string\"], \"preceding\": split_comment[i-1][\"string\"]})\n",
                "    # assign comments to text\n",
                "    s = assign_comment(s, comment_dicts)  \n",
                "    return s "
            ]
        },
        {
            "cell_type": "code",
            "execution_count": 1202,
            "metadata": {},
            "outputs": [
                {
                    "name": "stdout",
                    "output_type": "stream",
                    "text": [
                        "from table1 AS t1, /* some comment */\n",
                        "    table2 AS t2,\n",
                        "    table3 as t3\n"
                    ]
                }
            ],
            "source": [
                "assert_and_print(format_from(\"from table1 t1, /* some comment */ table2 t2, table3 as t3\"), \n",
                "                 \"\"\"from table1 AS t1, /* some comment */\n",
                "    table2 AS t2,\n",
                "    table3 as t3\n",
                "\"\"\".strip())"
            ]
        },
        {
            "cell_type": "markdown",
            "metadata": {},
            "source": [
                "### SUBSTRING ... FROM (special case for FROM)"
            ]
        },
        {
            "cell_type": "markdown",
            "metadata": {},
            "source": [
                "### JOIN (LEFT/RIGHT/etc.)"
            ]
        },
        {
            "cell_type": "code",
            "execution_count": 1203,
            "metadata": {},
            "outputs": [],
            "source": [
                "# export\n",
                "def format_join(s, **kwargs):\n",
                "    \"Format JOIN statement line `s`\"\n",
                "    s = re.sub(  # add indentation\n",
                "        r\"\\b((?:natural\\s|full\\s)?(?:left\\s|right\\s|inner\\s|outer\\s|cross\\s)?join)\\b\",\n",
                "        r\"    \\1\",\n",
                "        s,\n",
                "        flags=re.I\n",
                "    )\n",
                "    return s"
            ]
        },
        {
            "cell_type": "code",
            "execution_count": 1204,
            "metadata": {},
            "outputs": [
                {
                    "name": "stdout",
                    "output_type": "stream",
                    "text": [
                        "    join t1\n"
                    ]
                }
            ],
            "source": [
                "assert_and_print(\n",
                "    format_join(\"join t1\"), \n",
                "\"\"\"\n",
                "    join t1\n",
                "\"\"\".strip(\"\\n\")\n",
                ")"
            ]
        },
        {
            "cell_type": "code",
            "execution_count": 1205,
            "metadata": {},
            "outputs": [
                {
                    "name": "stdout",
                    "output_type": "stream",
                    "text": [
                        "    natural left join t1\n"
                    ]
                }
            ],
            "source": [
                "assert_and_print(\n",
                "    format_join(\"natural left join t1\"), \n",
                "\"\"\"\n",
                "    natural left join t1\n",
                "\"\"\".strip(\"\\n\")\n",
                ")"
            ]
        },
        {
            "cell_type": "code",
            "execution_count": 1206,
            "metadata": {},
            "outputs": [
                {
                    "data": {
                        "text/plain": [
                            "[{'string': 'join a \\non b and c or d and e and a between c and d',\n",
                            "  'comment': False,\n",
                            "  'quote': False}]"
                        ]
                    },
                    "execution_count": 1206,
                    "metadata": {},
                    "output_type": "execute_result"
                }
            ],
            "source": [
                "split_comment_quote(\"join a \\non b and c or d and e and a between c and d\")"
            ]
        },
        {
            "cell_type": "markdown",
            "metadata": {},
            "source": [
                "### ON"
            ]
        },
        {
            "cell_type": "code",
            "execution_count": 1207,
            "metadata": {},
            "outputs": [],
            "source": [
                "#export\n",
                "def format_on(s, max_len = 99):\n",
                "    \"Format ON statement line `s`\"\n",
                "    indentation = 8\n",
                "    s = \" \" * indentation + s  # add indentation\n",
                "    split_s = split_comment_quote(s)\n",
                "    # define regex before loop\n",
                "    indent_and_or = re.compile(r\"\\s*\\b(and|or)\\b\", flags=re.I)\n",
                "    indent_in_brackets = re.compile(r\"(\\([^\\)\\(]*?)\\s*(and|or)\\b\", flags=re.I)\n",
                "    indent_between_and_reset = re.compile(r\"(\\bbetween\\b)\\s+(\\S*?)\\s+(\\band\\b)\", flags=re.I)\n",
                "    indent_between_and_indent = re.compile(r\"(\\bbetween\\b)\\s(\\S*?)\\s(\\band\\b)\", flags=re.I)\n",
                "    for d in split_s:\n",
                "        if not d[\"comment\"] and not d[\"quote\"]:\n",
                "            s_aux = d[\"string\"]\n",
                "            s_aux = indent_and_or.sub(lambda x: \"\\n\" + \" \" * 8 + x.group(1), s_aux)  # add newline and indentation for and ,or\n",
                "            d[\"string\"] = s_aux\n",
                "    # get split comment / non comment\n",
                "    split_comment = compress_dicts(split_s, [\"comment\"])\n",
                "    s_code = \"\".join([d[\"string\"] for d in split_s if not d[\"comment\"]])\n",
                "\n",
                "    # add more newline for and, or within brackets\n",
                "    s_code = indent_in_brackets.sub(lambda x: x.group(1) + \" \" + x.group(2), s_code)\n",
                "\n",
                "    # add newline and indentation for between_and (experimental) if too long\n",
                "    s_code = indent_between_and_reset.sub(r\"\\1 \\2 \\3\", s_code)\n",
                "    s_code = \"\\n\".join([indent_between_and_indent.sub(r\"\\1 \\2\\n\" + \" \" * 12 + r\"\\3\", sp) \n",
                "                        if len(sp) > max_len else sp for sp in s_code.split(\"\\n\")])\n",
                "            \n",
                "    # strip lines of code from the right\n",
                "    s_code = \"\\n\".join([sp.rstrip() for sp in s_code.split(\"\\n\")])\n",
                "    # get comments and preceding string (non-comment)\n",
                "    comment_dicts = []\n",
                "    for i, d in enumerate(split_comment):\n",
                "        if d[\"comment\"]:\n",
                "            comment_dicts.append({\"comment\": d[\"string\"], \"preceding\": split_comment[i-1][\"string\"]})\n",
                "    # assign comments to text\n",
                "    s = assign_comment(s_code, comment_dicts)\n",
                "    return s"
            ]
        },
        {
            "cell_type": "code",
            "execution_count": 1208,
            "metadata": {},
            "outputs": [
                {
                    "name": "stdout",
                    "output_type": "stream",
                    "text": [
                        "        on a.asdf = b.asdf /* some comment */\n"
                    ]
                }
            ],
            "source": [
                "assert_and_print(\n",
                "    format_on(\"on a.asdf = b.asdf /* some comment */[C]\"), \n",
                "\"\"\"\n",
                "        on a.asdf = b.asdf /* some comment */\n",
                "\"\"\".strip(\"\\n\")\n",
                ")"
            ]
        },
        {
            "cell_type": "code",
            "execution_count": 1209,
            "metadata": {},
            "outputs": [
                {
                    "name": "stdout",
                    "output_type": "stream",
                    "text": [
                        "        on a.asdf = b.asdf\n",
                        "        and a.qwer = b.qwer\n",
                        "        or a.qwer = b.qqqq\n"
                    ]
                }
            ],
            "source": [
                "assert_and_print(\n",
                "    format_on(\"on a.asdf = b.asdf and a.qwer = b.qwer or a.qwer = b.qqqq\"), \n",
                "\"\"\"\n",
                "        on a.asdf = b.asdf\n",
                "        and a.qwer = b.qwer\n",
                "        or a.qwer = b.qqqq\n",
                "\"\"\".strip(\"\\n\")\n",
                ")"
            ]
        },
        {
            "cell_type": "code",
            "execution_count": 1210,
            "metadata": {},
            "outputs": [
                {
                    "name": "stdout",
                    "output_type": "stream",
                    "text": [
                        "        on a.asdf = b.asdf\n",
                        "        and a.qwer = b.qwer\n",
                        "        OR a.qwer2 between b.qwer2 and a.qwas\n"
                    ]
                }
            ],
            "source": [
                "assert_and_print(\n",
                "    format_on(\"on a.asdf = b.asdf and a.qwer = b.qwer OR a.qwer2 between b.qwer2 and a.qwas\"), \n",
                "\"\"\"\n",
                "        on a.asdf = b.asdf\n",
                "        and a.qwer = b.qwer\n",
                "        OR a.qwer2 between b.qwer2 and a.qwas\n",
                "\"\"\".strip(\"\\n\")\n",
                ")"
            ]
        },
        {
            "cell_type": "code",
            "execution_count": 1211,
            "metadata": {},
            "outputs": [
                {
                    "name": "stdout",
                    "output_type": "stream",
                    "text": [
                        "        on a.asdf = b.asdf\n",
                        "        and a.qwer between b.qwer and d.32dfa\n",
                        "        OR a.qwer2dskjfhdsalkjfdsadalfah between b.qwedafhkdfjsakhfljdsahlfr2\n",
                        "            and a.qwaasjdfgdsakjfdsfkas\n"
                    ]
                }
            ],
            "source": [
                "assert_and_print(\n",
                "    format_on(\"on a.asdf = b.asdf and a.qwer between b.qwer and d.32dfa OR a.qwer2dskjfhdsalkjfdsadalfah between b.qwedafhkdfjsakhfljdsahlfr2 and a.qwaasjdfgdsakjfdsfkas\"), \n",
                "\"\"\"\n",
                "        on a.asdf = b.asdf\n",
                "        and a.qwer between b.qwer and d.32dfa\n",
                "        OR a.qwer2dskjfhdsalkjfdsadalfah between b.qwedafhkdfjsakhfljdsahlfr2\n",
                "            and a.qwaasjdfgdsakjfdsfkas\n",
                "\"\"\".strip(\"\\n\")\n",
                ")"
            ]
        },
        {
            "cell_type": "markdown",
            "metadata": {},
            "source": [
                "With comments and bad formatted"
            ]
        },
        {
            "cell_type": "code",
            "execution_count": 1212,
            "metadata": {},
            "outputs": [
                {
                    "name": "stdout",
                    "output_type": "stream",
                    "text": [
                        "        on a.asdf = b.asdf -- some comment\n",
                        "        and a.qwer = b.qwer /* another comment */\n",
                        "        or a.qwer2 = b.qwer2\n"
                    ]
                }
            ],
            "source": [
                "assert_and_print(\n",
                "    format_on(\"on a.asdf = b.asdf -- some comment[C]and a.qwer = b.qwer or /* another comment */[C]a.qwer2 = b.qwer2\"), \n",
                "\"\"\"\n",
                "        on a.asdf = b.asdf -- some comment\n",
                "        and a.qwer = b.qwer /* another comment */\n",
                "        or a.qwer2 = b.qwer2\n",
                "\"\"\".strip(\"\\n\")\n",
                ")"
            ]
        },
        {
            "cell_type": "markdown",
            "metadata": {},
            "source": [
                "### AS JOIN"
            ]
        },
        {
            "cell_type": "code",
            "execution_count": 1213,
            "metadata": {},
            "outputs": [],
            "source": [
                "#export\n",
                "def format_on(s, max_len = 99):\n",
                "    \"Format ON statement line `s`\"\n",
                "    indentation = 8\n",
                "    s = \" \" * indentation + s  # add indentation\n",
                "    split_s = split_comment_quote(s)\n",
                "    # define regex before loop\n",
                "    indent_and_or = re.compile(r\"\\s*\\b(and|or)\\b\", flags=re.I)\n",
                "    indent_in_brackets = re.compile(r\"(\\([^\\)\\(]*?)\\s*(and|or)\\b\", flags=re.I)\n",
                "    indent_between_and_reset = re.compile(r\"(\\bbetween\\b)\\s+(\\S*?)\\s+(\\band\\b)\", flags=re.I)\n",
                "    indent_between_and_indent = re.compile(r\"(\\bbetween\\b)\\s(\\S*?)\\s(\\band\\b)\", flags=re.I)\n",
                "    for d in split_s:\n",
                "        if not d[\"comment\"] and not d[\"quote\"]:\n",
                "            s_aux = d[\"string\"]\n",
                "            s_aux = indent_and_or.sub(lambda x: \"\\n\" + \" \" * 8 + x.group(1), s_aux)  # add newline and indentation for and ,or\n",
                "            d[\"string\"] = s_aux\n",
                "    # get split comment / non comment\n",
                "    split_comment = compress_dicts(split_s, [\"comment\"])\n",
                "    s_code = \"\".join([d[\"string\"] for d in split_s if not d[\"comment\"]])\n",
                "    # add more newline for and, or within brackets\n",
                "    s_code = indent_in_brackets.sub(lambda x: x.group(1) + \" \" + x.group(2), s_code)\n",
                "    # add newline and indentation for between_and (experimental) if too long\n",
                "    s_code = indent_between_and_reset.sub(r\"\\1 \\2 \\3\", s_code)\n",
                "    s_code = \"\\n\".join([indent_between_and_indent.sub(r\"\\1 \\2\\n\" + \" \" * 12 + r\"\\3\", sp) \n",
                "                        if len(sp) > max_len else sp for sp in s_code.split(\"\\n\")])\n",
                "            \n",
                "    # strip lines of code from the right\n",
                "    s_code = \"\\n\".join([sp.rstrip() for sp in s_code.split(\"\\n\")])\n",
                "    # get comments and preceding string (non-comment)\n",
                "    comment_dicts = []\n",
                "    for i, d in enumerate(split_comment):\n",
                "        if d[\"comment\"]:\n",
                "            comment_dicts.append({\"comment\": d[\"string\"], \"preceding\": split_comment[i-1][\"string\"]})\n",
                "    # assign comments to text\n",
                "    s = assign_comment(s_code, comment_dicts)\n",
                "    return s"
            ]
        },
        {
            "cell_type": "markdown",
            "metadata": {},
            "source": [
                "### WHERE"
            ]
        },
        {
            "cell_type": "code",
            "execution_count": 1214,
            "metadata": {},
            "outputs": [],
            "source": [
                "#export\n",
                "def format_where(s, max_len = 99):\n",
                "    \"Format WHERE statement line `s`\"\n",
                "    #s = re.sub(r\"(where )\", r\"\\1 \", s, flags=re.I)  # add indentation after WHERE\n",
                "    # split by comment / non comment, quote / non-quote\n",
                "    split_s = split_comment_quote(s)\n",
                "    # define regex before loop\n",
                "    indent_and_or = re.compile(r\"\\s*\\b(and|or)\\b\", flags=re.I)\n",
                "    indent_in_brackets = re.compile(r\"(\\((?!\\s*where)[^\\)\\(]*?)\\s*(and|or)\\b\", flags=re.I)\n",
                "    indent_between_and_reset = re.compile(r\"(\\bbetween\\b)\\s+(\\S*?)\\s+(\\band\\b)\", flags=re.I)\n",
                "    indent_between_and_indent = re.compile(r\"(\\bbetween\\b)\\s(\\S*?)\\s(\\band\\b)\", flags=re.I)\n",
                "    for d in split_s:\n",
                "        if not d[\"comment\"] and not d[\"quote\"]:\n",
                "            s_aux = d[\"string\"]\n",
                "            s_aux = indent_and_or.sub(lambda x: \"\\n\" + \" \" * 4 + x.group(1), s_aux)  # add newline and indentation for and ,or\n",
                "            d[\"string\"] = s_aux\n",
                "    # get split comment / non comment\n",
                "    split_comment = compress_dicts(split_s, [\"comment\"])\n",
                "    s_code = \"\".join([d[\"string\"] for d in split_s if not d[\"comment\"]])\n",
                "\n",
                "    # replace newline by space for and, or within brackets\n",
                "    s_code = indent_in_brackets.sub(lambda x: x.group(1) + \" \" + x.group(2), s_code)\n",
                "\n",
                "    # add newline and indentation for between_and (experimental) if too long\n",
                "    s_code = indent_between_and_reset.sub(r\"\\1 \\2 \\3\", s_code)\n",
                "    s_code = \"\\n\".join([indent_between_and_indent.sub(r\"\\1 \\2\\n\" + \" \" * 8 + r\"\\3\", sp) \n",
                "                        if len(sp) > max_len else sp for sp in s_code.split(\"\\n\")])\n",
                "\n",
                "\n",
                "    # strip from the right each code line\n",
                "    s_code = \"\\n\".join([sp.rstrip() for sp in s_code.split(\"\\n\")])\n",
                "    # get comments and preceding string (non-comment)\n",
                "    comment_dicts = []\n",
                "    for i, d in enumerate(split_comment):\n",
                "        if d[\"comment\"]:\n",
                "            comment_dicts.append({\"comment\": d[\"string\"], \"preceding\": split_comment[i-1][\"string\"]})\n",
                "    # assign comments to text\n",
                "    s = assign_comment(s_code, comment_dicts)\n",
                "    return s"
            ]
        },
        {
            "cell_type": "code",
            "execution_count": 1215,
            "metadata": {},
            "outputs": [
                {
                    "name": "stdout",
                    "output_type": "stream",
                    "text": [
                        "WHERE act.activity IN :activity_names\n",
                        "    AND act.created BETWEEN :start_date AND (:end_date)::date + '23:59:59.999999'::time\n"
                    ]
                }
            ],
            "source": [
                "test = \"WHERE act.activity IN :activity_names AND act.created BETWEEN :start_date AND (:end_date)::date + '23:59:59.999999'::time\"\n",
                "print(format_where(test))"
            ]
        },
        {
            "cell_type": "code",
            "execution_count": 1216,
            "metadata": {},
            "outputs": [],
            "source": [
                "#export\n",
                "def format_filter_where(s, **kwargs):\n",
                "    \"Format WHERE statement line `s`\"\n",
                "    s = re.sub(r\"(filter)\\s+\\((where)\\s+\", r\"\\1 (\\n\\2 \", s, flags=re.I)  # add indentation after WHERE\n",
                "    return s"
            ]
        },
        {
            "cell_type": "code",
            "execution_count": 1217,
            "metadata": {},
            "outputs": [
                {
                    "name": "stdout",
                    "output_type": "stream",
                    "text": [
                        "WHERE (act.activity IN :grabber_export AND (act.payload -> 'meta' ->> 'source' = 'email-suggestion' OR act.payload ->> 'source' = 'email-suggestions'))\n",
                        "    OR act.activity = 'GRABBER_SUGGESTIONS_DISCARD'\n"
                    ]
                }
            ],
            "source": [
                "assert_and_print(\n",
                "    format_where(\n",
                "        \"WHERE (act.activity IN :grabber_export AND (act.payload -> 'meta' ->> 'source' = 'email-suggestion' OR act.payload ->> 'source' = 'email-suggestions')) OR act.activity = 'GRABBER_SUGGESTIONS_DISCARD'\"\n",
                "    ), \"\"\"WHERE (act.activity IN :grabber_export AND (act.payload -> 'meta' ->> 'source' = 'email-suggestion' OR act.payload ->> 'source' = 'email-suggestions'))\n",
                "    OR act.activity = 'GRABBER_SUGGESTIONS_DISCARD'\"\"\"\n",
                ")"
            ]
        },
        {
            "cell_type": "code",
            "execution_count": 1218,
            "metadata": {},
            "outputs": [
                {
                    "name": "stdout",
                    "output_type": "stream",
                    "text": [
                        "WHERE asdf = 1 -- and some comment\n",
                        "    and qwer = 1\n",
                        "    or blabla = 'asdf'\n"
                    ]
                }
            ],
            "source": [
                "assert_and_print(\n",
                "    format_where(\n",
                "        \"WHERE asdf = 1 and -- and some comment[C]qwer = 1 or blabla = 'asdf'\"\n",
                "    ), \"\"\"WHERE asdf = 1 -- and some comment\n",
                "    and qwer = 1\n",
                "    or blabla = 'asdf'\"\"\"\n",
                ")"
            ]
        },
        {
            "cell_type": "code",
            "execution_count": 1219,
            "metadata": {},
            "outputs": [
                {
                    "name": "stdout",
                    "output_type": "stream",
                    "text": [
                        "WHERE (activity = 'DEEPINTEGRATION_UPDATER_MERGE_VIEW_SAVE')\n",
                        "    AND (act.organization_id = 1 OR usr.username NOT LIKE '%@snapaddy.com')\n",
                        "    AND (act.payload -> 'meta' ->> 'savedFieldCount' IS NOT NULL)\n",
                        "    AND created BETWEEN :start_date AND :end_date\n",
                        "    OR (:excluded_orga_id IS NULL AND act.organization_id <> :excluded_orga_id);\n"
                    ]
                }
            ],
            "source": [
                "assert_and_print(\n",
                "    format_where(\n",
                "        \"WHERE (activity = 'DEEPINTEGRATION_UPDATER_MERGE_VIEW_SAVE') AND (act.organization_id = 1 OR usr.username NOT LIKE '%@snapaddy.com') AND (act.payload -> 'meta' ->> 'savedFieldCount' IS NOT NULL) AND created BETWEEN :start_date AND :end_date OR (:excluded_orga_id IS NULL AND act.organization_id <> :excluded_orga_id);\"\n",
                "    ), \n",
                "\"\"\"\n",
                "WHERE (activity = 'DEEPINTEGRATION_UPDATER_MERGE_VIEW_SAVE')\n",
                "    AND (act.organization_id = 1 OR usr.username NOT LIKE '%@snapaddy.com')\n",
                "    AND (act.payload -> 'meta' ->> 'savedFieldCount' IS NOT NULL)\n",
                "    AND created BETWEEN :start_date AND :end_date\n",
                "    OR (:excluded_orga_id IS NULL AND act.organization_id <> :excluded_orga_id);\n",
                "\"\"\".strip()\n",
                ")"
            ]
        },
        {
            "cell_type": "markdown",
            "metadata": {},
            "source": [
                "## Format all statements"
            ]
        },
        {
            "cell_type": "code",
            "execution_count": 1220,
            "metadata": {},
            "outputs": [],
            "source": [
                "#export\n",
                "def format_statement_line(s, **kwargs):\n",
                "    \"Format statement line `s`\"\n",
                "    statement_funcs = {\n",
                "        r\"^select\": format_select,\n",
                "        r\"^from\": format_from,\n",
                "        r\"^\\w*\\s?\\w*\\s?join\": format_join,\n",
                "        r\"^on\": format_on,\n",
                "        r\"filter \\(where\": format_filter_where,\n",
                "        r\"^where\": format_where,\n",
                "        r\"\\(\\nwhere\": format_where,\n",
                "    }\n",
                "    for key, format_func in statement_funcs.items():\n",
                "        if re.search(key, s, flags=re.I):\n",
                "            s = format_func(s, **kwargs)\n",
                "    return s"
            ]
        },
        {
            "cell_type": "code",
            "execution_count": 1221,
            "metadata": {},
            "outputs": [
                {
                    "name": "stdout",
                    "output_type": "stream",
                    "text": [
                        "select asdf,\n",
                        "    qwer\n"
                    ]
                }
            ],
            "source": [
                "assert_and_print(\n",
                "    format_statement_line(\"select asdf, qwer\"),\n",
                "    \"\"\"\n",
                "select asdf,\n",
                "    qwer\n",
                "\"\"\".strip())"
            ]
        },
        {
            "cell_type": "code",
            "execution_count": 1222,
            "metadata": {},
            "outputs": [
                {
                    "name": "stdout",
                    "output_type": "stream",
                    "text": [
                        "    join table1 as abc\n"
                    ]
                }
            ],
            "source": [
                "assert_and_print(\n",
                "    format_statement_line(\"join table1 as abc\"),\n",
                "    \"    join table1 as abc\"\n",
                ")"
            ]
        },
        {
            "cell_type": "code",
            "execution_count": 1223,
            "metadata": {},
            "outputs": [
                {
                    "name": "stdout",
                    "output_type": "stream",
                    "text": [
                        "    left join table1 as abc\n"
                    ]
                }
            ],
            "source": [
                "assert_and_print(\n",
                "    format_statement_line(\"left join table1 as abc\"),\n",
                "    \"    left join table1 as abc\"\n",
                ")"
            ]
        },
        {
            "cell_type": "code",
            "execution_count": 1224,
            "metadata": {},
            "outputs": [
                {
                    "name": "stdout",
                    "output_type": "stream",
                    "text": [
                        "    natural left join table1 as abc\n"
                    ]
                }
            ],
            "source": [
                "assert_and_print(\n",
                "    format_statement_line(\"natural left join table1 as abc\"),\n",
                "    \"    natural left join table1 as abc\"\n",
                ")"
            ]
        },
        {
            "cell_type": "code",
            "execution_count": 1225,
            "metadata": {},
            "outputs": [
                {
                    "name": "stdout",
                    "output_type": "stream",
                    "text": [
                        "where asdf = 1\n",
                        "    and qwer = 'things'\n",
                        "    and blabla = 0\n",
                        "    or stuff = -1\n",
                        "    AND asdf between kfj and ifffg\n"
                    ]
                }
            ],
            "source": [
                "assert_and_print(\n",
                "    format_statement_line(\"where asdf = 1 and qwer = 'things' and blabla = 0 or stuff = -1 AND asdf between kfj and ifffg\"),\n",
                "    \"\"\"\n",
                "where asdf = 1\n",
                "    and qwer = 'things'\n",
                "    and blabla = 0\n",
                "    or stuff = -1\n",
                "    AND asdf between kfj and ifffg\n",
                "    \"\"\".strip())"
            ]
        },
        {
            "cell_type": "code",
            "execution_count": 1226,
            "metadata": {},
            "outputs": [],
            "source": [
                "#export\n",
                "def format_statements(s, **kwargs):\n",
                "    \"Format statements lines `s`\"\n",
                "    statement_lines = s.split(\"\\n\")\n",
                "    formatted_lines = [\n",
                "        format_statement_line(line, **kwargs) for line in statement_lines\n",
                "    ]\n",
                "    formatted_s = \"\\n\".join(formatted_lines)\n",
                "    return formatted_s"
            ]
        },
        {
            "cell_type": "code",
            "execution_count": 1227,
            "metadata": {},
            "outputs": [
                {
                    "name": "stdout",
                    "output_type": "stream",
                    "text": [
                        "select asdf,\n",
                        "    qwer\n",
                        "from table1\n"
                    ]
                }
            ],
            "source": [
                "assert_and_print(\n",
                "    format_statements(\"select asdf, qwer\\nfrom table1\", max_len=99),\n",
                "\"\"\"\n",
                "select asdf,\n",
                "    qwer\n",
                "from table1\n",
                "\"\"\".strip()\n",
                ")"
            ]
        },
        {
            "cell_type": "code",
            "execution_count": 1228,
            "metadata": {},
            "outputs": [],
            "source": [
                "#export \n",
                "def add_join_as(s, **kwargs):\n",
                "    as_on_regex = re.compile(r\"(\\)(?<!\\bAS\\b)\\s?|\\w(?<!\\bJOIN\\b)(?<!\\bAS\\b)\\s)(\\w+|\\'.+\\')(\\s+\\bON\\b)\")\n",
                "    s = as_on_regex.sub(lambda x: x.group(1).rstrip() + \" AS \" + x.group(2) + x.group(3), s)\n",
                "    return s"
            ]
        },
        {
            "cell_type": "code",
            "execution_count": 1229,
            "metadata": {},
            "outputs": [
                {
                    "name": "stdout",
                    "output_type": "stream",
                    "text": [
                        "CREATE OR REPLACE TABLE mytable AS\n",
                        "SELECT a.asdf,\n",
                        "    b.qwer,\n",
                        "    substr(c.asdf, 1, 2) AS substr_asdf,\n",
                        "    CASE WHEN a.asdf = 1\n",
                        "        THEN 'b'\n",
                        "        WHEN b.qwer = 2\n",
                        "        THEN 'c'\n",
                        "        ELSE 'd'\n",
                        "    END AS new_field,\n",
                        "    b.asdf2\n",
                        "FROM table1 AS a\n",
                        "    LEFT JOIN table2 AS b\n",
                        "        ON a.asdf = b.asdf\n",
                        "    INNER JOIN table3 AS c\n",
                        "        ON a.asdf = c.asdf\n",
                        "        AND a.qwer = b.qwer\n",
                        "    JOIN (\n",
                        "        SELECT t.uut from tablet\n",
                        "        WHERE t.asg = 5\n",
                        "    ) AS t\n",
                        "        ON a.dffg = t.dffg\n",
                        "WHERE a.asdf = 1\n",
                        "    AND b.qwer = 2\n",
                        "    AND a.asdf <= 1\n",
                        "    OR b.qwer >= 5\n",
                        "GROUP BY a.asdf\n"
                    ]
                }
            ],
            "source": [
                "assert_and_print(\n",
                "    add_join_as(\"\"\"CREATE OR REPLACE TABLE mytable AS\n",
                "SELECT a.asdf,\n",
                "    b.qwer,\n",
                "    substr(c.asdf, 1, 2) AS substr_asdf,\n",
                "    CASE WHEN a.asdf = 1\n",
                "        THEN 'b'\n",
                "        WHEN b.qwer = 2\n",
                "        THEN 'c'\n",
                "        ELSE 'd'\n",
                "    END AS new_field,\n",
                "    b.asdf2\n",
                "FROM table1 AS a\n",
                "    LEFT JOIN table2 b\n",
                "        ON a.asdf = b.asdf\n",
                "    INNER JOIN table3 AS c\n",
                "        ON a.asdf = c.asdf\n",
                "        AND a.qwer = b.qwer\n",
                "    JOIN (\n",
                "        SELECT t.uut from tablet\n",
                "        WHERE t.asg = 5\n",
                "    ) t\n",
                "        ON a.dffg = t.dffg\n",
                "WHERE a.asdf = 1\n",
                "    AND b.qwer = 2\n",
                "    AND a.asdf <= 1\n",
                "    OR b.qwer >= 5\n",
                "GROUP BY a.asdf\"\"\"), \n",
                "\"\"\"CREATE OR REPLACE TABLE mytable AS\n",
                "SELECT a.asdf,\n",
                "    b.qwer,\n",
                "    substr(c.asdf, 1, 2) AS substr_asdf,\n",
                "    CASE WHEN a.asdf = 1\n",
                "        THEN 'b'\n",
                "        WHEN b.qwer = 2\n",
                "        THEN 'c'\n",
                "        ELSE 'd'\n",
                "    END AS new_field,\n",
                "    b.asdf2\n",
                "FROM table1 AS a\n",
                "    LEFT JOIN table2 AS b\n",
                "        ON a.asdf = b.asdf\n",
                "    INNER JOIN table3 AS c\n",
                "        ON a.asdf = c.asdf\n",
                "        AND a.qwer = b.qwer\n",
                "    JOIN (\n",
                "        SELECT t.uut from tablet\n",
                "        WHERE t.asg = 5\n",
                "    ) AS t\n",
                "        ON a.dffg = t.dffg\n",
                "WHERE a.asdf = 1\n",
                "    AND b.qwer = 2\n",
                "    AND a.asdf <= 1\n",
                "    OR b.qwer >= 5\n",
                "GROUP BY a.asdf\"\"\"\n",
                ")"
            ]
        },
        {
            "cell_type": "markdown",
            "metadata": {},
            "source": [
                "### Format multiline comments"
            ]
        },
        {
            "cell_type": "code",
            "execution_count": 1230,
            "metadata": {},
            "outputs": [],
            "source": [
                "#export\n",
                "def format_multiline_comments(s):\n",
                "    \"Format multiline comments by replacing multiline comment [CI] by newline and adding indentation\"\n",
                "    split_s = s.split(\"\\n\")\n",
                "    split_out = []\n",
                "    for sp in split_s:  # loop on query lines\n",
                "        if re.search(r\"\\[CI\\]\", sp):\n",
                "            indentation = re.search(r\"\\/\\*\", sp).start() + 3\n",
                "            sp_indent = re.sub(r\"\\[CI\\]\", \"\\n\" + \" \" * indentation, sp)\n",
                "            split_out.append(sp_indent)\n",
                "        else:\n",
                "            split_out.append(sp)\n",
                "    s = \"\\n\".join(split_out)\n",
                "    return s"
            ]
        },
        {
            "cell_type": "markdown",
            "metadata": {},
            "source": [
                "### Add semicolon at the end of query"
            ]
        },
        {
            "cell_type": "code",
            "execution_count": 1231,
            "metadata": {},
            "outputs": [],
            "source": [
                "#export\n",
                "def add_semicolon(s):\n",
                "    \"Add a semicolon at the of query `s`\"\n",
                "    split_s = s.split(\"\\n\")\n",
                "    last_line = split_s[-1]\n",
                "    split_c = split_comment(last_line)\n",
                "    if len(split_c) == 1:\n",
                "        split_s[-1] = last_line + \";\"\n",
                "    else:\n",
                "        split_c[0][\"string\"] = re.sub(\"(.*[\\w\\d]+)(\\s*)$\", r\"\\1;\\2\", split_c[0][\"string\"])\n",
                "        split_s[-1] = \"\".join([d[\"string\"] for d in split_c])\n",
                "    return \"\\n\".join(split_s)"
            ]
        },
        {
            "cell_type": "code",
            "execution_count": 1232,
            "metadata": {},
            "outputs": [
                {
                    "name": "stdout",
                    "output_type": "stream",
                    "text": [
                        "CREATE OR REPLACE TABLE my_table AS\n",
                        "SELECT asdf,\n",
                        "       qwer\n",
                        "FROM   table1; /* something */\n"
                    ]
                }
            ],
            "source": [
                "assert_and_print(\n",
                "add_semicolon(\"\"\"\n",
                "CREATE OR REPLACE TABLE my_table AS\n",
                "SELECT asdf,\n",
                "       qwer\n",
                "FROM   table1 /* something */\n",
                "\"\"\".strip()),\n",
                "\"\"\"\n",
                "CREATE OR REPLACE TABLE my_table AS\n",
                "SELECT asdf,\n",
                "       qwer\n",
                "FROM   table1; /* something */\n",
                "\"\"\".strip()\n",
                ")"
            ]
        },
        {
            "cell_type": "code",
            "execution_count": 1233,
            "metadata": {},
            "outputs": [
                {
                    "name": "stdout",
                    "output_type": "stream",
                    "text": [
                        "CREATE OR REPLACE TABLE my_table AS\n",
                        "SELECT asdf,\n",
                        "       qwer\n",
                        "FROM   table1; -- some thing\n"
                    ]
                }
            ],
            "source": [
                "assert_and_print(\n",
                "add_semicolon(\"\"\"\n",
                "CREATE OR REPLACE TABLE my_table AS\n",
                "SELECT asdf,\n",
                "       qwer\n",
                "FROM   table1 -- some thing\n",
                "\"\"\".strip()),\n",
                "\"\"\"\n",
                "CREATE OR REPLACE TABLE my_table AS\n",
                "SELECT asdf,\n",
                "       qwer\n",
                "FROM   table1; -- some thing\n",
                "\"\"\".strip()\n",
                ")"
            ]
        },
        {
            "cell_type": "code",
            "execution_count": 1234,
            "metadata": {},
            "outputs": [
                {
                    "name": "stdout",
                    "output_type": "stream",
                    "text": [
                        "CREATE OR REPLACE TABLE my_table AS\n",
                        "SELECT asdf,\n",
                        "       qwer\n",
                        "FROM   table1;\n"
                    ]
                }
            ],
            "source": [
                "assert_and_print(\n",
                "add_semicolon(\"\"\"\n",
                "CREATE OR REPLACE TABLE my_table AS\n",
                "SELECT asdf,\n",
                "       qwer\n",
                "FROM   table1\n",
                "\"\"\".strip()),\n",
                "\"\"\"\n",
                "CREATE OR REPLACE TABLE my_table AS\n",
                "SELECT asdf,\n",
                "       qwer\n",
                "FROM   table1;\n",
                "\"\"\".strip()\n",
                ")"
            ]
        },
        {
            "cell_type": "markdown",
            "metadata": {},
            "source": [
                "##  Putting everything together\n",
                "\n",
                "to format a simple query without subqueries"
            ]
        },
        {
            "cell_type": "code",
            "execution_count": 1235,
            "metadata": {},
            "outputs": [],
            "source": [
                "#export\n",
                "def format_simple_sql(s, semicolon=False, max_len=99):\n",
                "    \"Format a simple SQL query without subqueries `s`\"\n",
                "    s = lowercase_query(s)  # everything lowercased but not the comments\n",
                "    s = preformat_statements(s)  # add breaklines for the main statements\n",
                "    s = add_whitespaces_query(s)  # add whitespaces between symbols in query\n",
                "    s = format_statements(s, max_len=max_len)  # format statements\n",
                "    s = add_join_as(s) # special handling for JOIN ... AS ... ON\n",
                "    s = re.sub(r\"\\[C\\]\", \"\", s)  # replace remaining [C]\n",
                "    s = re.sub(r\"\\[CS\\]\", \"\\n\", s)  # replace remaining [CS]\n",
                "    s = re.sub(r\"\\s+\\n\", \"\\n\", s)  # replace redundant whitespaces before newline\n",
                "    s = format_multiline_comments(s)  # format multline comments\n",
                "    s = s.strip()  # strip query\n",
                "    if semicolon:\n",
                "        s = add_semicolon(s)\n",
                "    return s"
            ]
        },
        {
            "cell_type": "code",
            "execution_count": 1236,
            "metadata": {},
            "outputs": [
                {
                    "name": "stdout",
                    "output_type": "stream",
                    "text": [
                        "CREATE OR REPLACE TABLE mytable AS -- Mytable example\n",
                        "/* multi line\n",
                        "   comment */\n",
                        "SELECT a.asdf,\n",
                        "    -- some line comment\n",
                        "    b.qwer, -- some comment here\n",
                        "    /* and here is a line comment inside select */\n",
                        "    substr(c.asdf, 1, 2) AS substr_asdf,\n",
                        "    /* some commenT\n",
                        "       there */\n",
                        "    CASE WHEN a.asdf = 1\n",
                        "        THEN 'b' /* here a case comment */\n",
                        "        WHEN b.qwer = 2\n",
                        "        THEN 'c'\n",
                        "        ELSE 'd'\n",
                        "    END AS new_field, -- Some comment\n",
                        "    /* and here some inline comment */\n",
                        "    b.asdf2\n",
                        "FROM table1 AS a\n",
                        "    LEFT JOIN table2 AS b -- and here a comment\n",
                        "        ON a.asdf = b.asdf /* joiN this way */\n",
                        "    INNER JOIN table3 AS c\n",
                        "        ON a.asdf = c.asdf\n",
                        "        AND a.qwer = b.qwer\n",
                        "WHERE a.asdf = 1 -- comment this\n",
                        "    AND b.qwer = 2\n",
                        "    AND a.asdf <= 1 --comment that\n",
                        "    OR b.qwer >= 5\n",
                        "GROUP BY a.asdf\n"
                    ]
                }
            ],
            "source": [
                "assert_and_print(\n",
                "    format_simple_sql(example_sql),\n",
                "    expected_sql\n",
                ")"
            ]
        },
        {
            "cell_type": "code",
            "execution_count": 1237,
            "metadata": {},
            "outputs": [
                {
                    "name": "stdout",
                    "output_type": "stream",
                    "text": [
                        "CREATE OR REPLACE TABLE first_table AS -- my first table\n",
                        "SELECT car_id,\n",
                        "    avg(price) AS avg_price\n",
                        "FROM first_view\n",
                        "GROUP BY car_id\n"
                    ]
                }
            ],
            "source": [
                "assert_and_print(\n",
                "    format_simple_sql(\n",
                "\"\"\"\n",
                "create or replace table first_table as -- my first table\n",
                "select car_id,\n",
                "       avg(price) as avg_price,\n",
                "from first_view\n",
                "group by car_id\n",
                "\"\"\"\n",
                "    ),\n",
                "\"\"\"\n",
                "CREATE OR REPLACE TABLE first_table AS -- my first table\n",
                "SELECT car_id,\n",
                "    avg(price) AS avg_price\n",
                "FROM first_view\n",
                "GROUP BY car_id\n",
                "\"\"\".strip()\n",
                ")"
            ]
        },
        {
            "cell_type": "markdown",
            "metadata": {},
            "source": [
                "## Queries with subqueries"
            ]
        },
        {
            "cell_type": "markdown",
            "metadata": {},
            "source": [
                "This is how we could (badly) write a query with subqueries"
            ]
        },
        {
            "cell_type": "code",
            "execution_count": 1238,
            "metadata": {},
            "outputs": [],
            "source": [
                "example_with_subqueries = \"\"\"\n",
                "select asdf, cast(qwer as numeric), -- some comment\n",
                "substr(qwer1, 3, 2) as substr_qwer /* some field */\n",
                "from \n",
                "(select asdf, qwer, /* some nice field */ from table1 where asdf = 1\n",
                ") as a\n",
                "left \n",
                "join (select asdf, qwer2 from table2 where qwer2 = 1) as b\n",
                "on a.asdf = b.asdf\n",
                "where qwer1 >= 0\n",
                "\"\"\""
            ]
        },
        {
            "cell_type": "markdown",
            "metadata": {},
            "source": [
                "and this is the way we would like to have it nicely formatted"
            ]
        },
        {
            "cell_type": "code",
            "execution_count": 1239,
            "metadata": {},
            "outputs": [],
            "source": [
                "expected_with_subqueries = \"\"\"\n",
                "SELECT asdf,\n",
                "    cast(qwer AS numeric), -- some comment\n",
                "    substr(qwer1, 3, 2) AS substr_qwer /* some field */\n",
                "FROM (\n",
                "    SELECT asdf,\n",
                "        qwer /* some nice field */\n",
                "    FROM table1\n",
                "    WHERE asdf = 1\n",
                ") AS a\n",
                "    LEFT JOIN (\n",
                "        SELECT asdf,\n",
                "            qwer2\n",
                "        FROM table2\n",
                "        WHERE qwer2 = 1\n",
                "    ) AS b\n",
                "        ON a.asdf = b.asdf\n",
                "WHERE qwer1 >= 0\n",
                "\"\"\".strip()"
            ]
        },
        {
            "cell_type": "markdown",
            "metadata": {},
            "source": [
                "### Main function handling queries with subqueries"
            ]
        },
        {
            "cell_type": "code",
            "execution_count": 1240,
            "metadata": {},
            "outputs": [],
            "source": [
                "#export\n",
                "def format_sql(s, semicolon=False, max_len=99):\n",
                "    \"Format SQL query with subqueries `s`\"\n",
                "    s = format_simple_sql(s, semicolon=semicolon, max_len=max_len)  # basic query formatting\n",
                "    # get first outer subquery positions\n",
                "    subquery_pos = extract_outer_subquery(s)\n",
                "    # loop over subqueries\n",
                "    while subquery_pos is not None:\n",
                "        # get split\n",
                "        split_s = [\n",
                "            s[0:subquery_pos[0]+2],\n",
                "            s[subquery_pos[0]+2:(subquery_pos[1]+1)],\n",
                "            s[(subquery_pos[1]+1):]\n",
                "        ]\n",
                "        # format subquery (= split_s[1])\n",
                "        split_s[1] = format_subquery(split_s[1], split_s[0])\n",
                "        # join main part and subquery\n",
                "        s = \"\".join(split_s)\n",
                "\n",
                "        # get first outer subquery positions\n",
                "        subquery_pos = extract_outer_subquery(s)\n",
                "    \n",
                "    # format too long string\n",
                "    split_s = split_comment_quote(s)\n",
                "    split_comment = compress_dicts(split_s, [\"comment\"])\n",
                "\n",
                "    # separate comment and the code since the length of comment is not considered\n",
                "    s_code = \"\".join([d[\"string\"] for d in split_s if not d[\"comment\"]])\n",
                "    s_code = s_code.split(\"\\n\")\n",
                "    # loop for each line, reformat it if it is too long\n",
                "    s_id = 0\n",
                "    while s_id < len(s_code):\n",
                "        sp = s_code[s_id]\n",
                "        if len(sp) > max_len:\n",
                "            sp_code = \"\\n\".join(s_code[s_id:])\n",
                "            if split_index := extract_outer_subquery_too_long(sp_code, max_len):\n",
                "                zip_split = zip([-1] + split_index, split_index + [len(s)])\n",
                "                ss = [sp_code[i+1:j+1] for i,j in zip_split]\n",
                "                for i in range(1, len(ss) - 1):\n",
                "                    ss[i] = \"\\n\" + format_subquery_too_long(ss[i].strip(), ss[0])\n",
                "                sp_code = \"\".join(ss)\n",
                "                s_code = s_code[:s_id] + sp_code.split(\"\\n\")\n",
                "                \n",
                "        s_id += 1\n",
                "\n",
                "    s_code = \"\\n\".join([ss.rstrip() for ss in s_code])\n",
                "    comment_dicts = []\n",
                "    for i, d in enumerate(split_comment):\n",
                "        if d[\"comment\"]:\n",
                "            comment_dicts.append({\"comment\": d[\"string\"], \"preceding\": split_comment[i-1][\"string\"]})\n",
                "    # assign comments to text\n",
                "    s = assign_comment(s_code, comment_dicts)\n",
                "    return s"
            ]
        },
        {
            "cell_type": "code",
            "execution_count": 1241,
            "metadata": {},
            "outputs": [
                {
                    "name": "stdout",
                    "output_type": "stream",
                    "text": [
                        "SELECT asdf,\n",
                        "    cast(qwer AS numeric), -- some comment\n",
                        "    substr(qwer1, 3, 2) AS substr_qwer /* some field */\n",
                        "FROM (\n",
                        "    SELECT asdf,\n",
                        "        qwer /* some nice field */\n",
                        "    FROM table1\n",
                        "    WHERE asdf = 1\n",
                        ") AS a\n",
                        "    LEFT JOIN (\n",
                        "        SELECT asdf,\n",
                        "            qwer2\n",
                        "        FROM table2\n",
                        "        WHERE qwer2 = 1\n",
                        "    ) AS b\n",
                        "        ON a.asdf = b.asdf\n",
                        "WHERE qwer1 >= 0\n"
                    ]
                }
            ],
            "source": [
                "assert_and_print(\n",
                "    format_sql(example_with_subqueries),\n",
                "    expected_with_subqueries\n",
                ")"
            ]
        },
        {
            "cell_type": "markdown",
            "metadata": {},
            "source": [
                "It even works with simple queries without subqueries, therefore generalizing the `format_simple_sql()` function"
            ]
        },
        {
            "cell_type": "code",
            "execution_count": 1242,
            "metadata": {},
            "outputs": [],
            "source": [
                "# TODO:\n",
                "# still have problem; cannot handle sql with too many comment\n",
                "# assert_and_print(\n",
                "#     format_sql(example_sql),\n",
                "#     expected_sql\n",
                "# )"
            ]
        },
        {
            "cell_type": "markdown",
            "metadata": {},
            "source": [
                "## Nested subqueries\n",
                "\n",
                "The function is also robust against nested subqueries"
            ]
        },
        {
            "cell_type": "code",
            "execution_count": 1243,
            "metadata": {},
            "outputs": [],
            "source": [
                "example_nested_subqueries = \"\"\"\n",
                "select asdf, qwer\n",
                "from (select a.asdf,  lead(a.substr_qwer) over (partition by a.asdf, asdf2 order by qwer) as lead_qwerty\n",
                "    from (select asdf, substr(qwer, 3, 2) as substr_qwer from table2) as a\n",
                "        inner join (select asdf, qwer from table3) as b\n",
                "            on a.qwer = b.qwer\n",
                ")\n",
                "\"\"\""
            ]
        },
        {
            "cell_type": "code",
            "execution_count": 1244,
            "metadata": {},
            "outputs": [],
            "source": [
                "expected_nested = \"\"\"SELECT asdf,\n",
                "    qwer\n",
                "FROM (\n",
                "    SELECT a.asdf,\n",
                "        lead(a.substr_qwer) OVER (\n",
                "            PARTITION BY a.asdf,\n",
                "                asdf2\n",
                "            ORDER BY qwer\n",
                "        ) AS lead_qwerty\n",
                "    FROM (\n",
                "        SELECT asdf,\n",
                "            substr(qwer, 3, 2) AS substr_qwer\n",
                "        FROM table2\n",
                "    ) AS a\n",
                "        INNER JOIN (\n",
                "            SELECT asdf,\n",
                "                qwer\n",
                "            FROM table3\n",
                "        ) AS b\n",
                "            ON a.qwer = b.qwer\n",
                ")\"\"\""
            ]
        },
        {
            "cell_type": "code",
            "execution_count": 1245,
            "metadata": {},
            "outputs": [
                {
                    "name": "stdout",
                    "output_type": "stream",
                    "text": [
                        "SELECT asdf,\n",
                        "    qwer\n",
                        "FROM (\n",
                        "    SELECT a.asdf,\n",
                        "        lead(a.substr_qwer) OVER (\n",
                        "            PARTITION BY a.asdf,\n",
                        "                asdf2\n",
                        "            ORDER BY qwer\n",
                        "        ) AS lead_qwerty\n",
                        "    FROM (\n",
                        "        SELECT asdf,\n",
                        "            substr(qwer, 3, 2) AS substr_qwer\n",
                        "        FROM table2\n",
                        "    ) AS a\n",
                        "        INNER JOIN (\n",
                        "            SELECT asdf,\n",
                        "                qwer\n",
                        "            FROM table3\n",
                        "        ) AS b\n",
                        "            ON a.qwer = b.qwer\n",
                        ")\n"
                    ]
                }
            ],
            "source": [
                "assert_and_print(\n",
                "    format_sql(example_nested_subqueries),\n",
                "    expected_nested\n",
                ")"
            ]
        },
        {
            "cell_type": "code",
            "execution_count": 1246,
            "metadata": {},
            "outputs": [
                {
                    "name": "stdout",
                    "output_type": "stream",
                    "text": [
                        "WITH sso_users AS (\n",
                        "    SELECT sso.sso_id,\n",
                        "        sso.user_id,\n",
                        "        sso.created,\n",
                        "        sso.app_id\n",
                        "    FROM analytics_sso_user AS sso\n",
                        "        JOIN analytics_registered_webhooks AS hook\n",
                        "            ON sso.sso_id = hook.sso_id\n",
                        ")\n",
                        "SELECT date_trunc('day', created) AS created_at,\n",
                        "    count(*) FILTER (\n",
                        "        WHERE app_id = '43ed6e70-ad21-4272-8f7a-27e672be5117'\n",
                        "            OR dldfasdlfkjdaslfjdasklfjdsfapp_id IS NULL\n",
                        "    ) AS assistant,\n",
                        "    count(*) FILTER (\n",
                        "        WHERE app_id = '86c12be4-b2f3-47db-a4ff-a4d3ea2d442d'\n",
                        "            AND verified IS NULL\n",
                        "    ) AS office365,\n",
                        "    count(*) FILTER (\n",
                        "        WHERE app_id = '86c12be4-b2f3-47db-a4ff-a4d3ea2d442d'\n",
                        "            AND verified IS NOT NULL\n",
                        "    ) AS imap\n",
                        "FROM analytics_user AS usr\n",
                        "    FULL JOIN sso_users AS sso\n",
                        "        ON usr.user_id = sso.user_id\n",
                        "    FULL JOIN analytics_mailbox_subscription AS msub\n",
                        "        ON msub.user_id = usr.user_id\n",
                        "    JOIN analytics_organization AS org\n",
                        "        ON usr.organization_id = org.organization_id\n",
                        "WHERE NOT (sso.sso_id IS NULL AND verified IS NULL)\n",
                        "    AND usr.username NOT LIKE '%@snapaddy.com'\n",
                        "GROUP BY created_at\n",
                        "ORDER BY created_at ASC\n"
                    ]
                }
            ],
            "source": [
                "sql = \"\"\"WITH sso_users AS (\n",
                "            SELECT sso.sso_id,\n",
                "                sso.user_id,\n",
                "                sso.created,\n",
                "                sso.app_id\n",
                "            FROM analytics_sso_user AS sso\n",
                "                JOIN analytics_registered_webhooks AS hook\n",
                "                    ON sso.sso_id = hook.sso_id\n",
                "        )\n",
                "        SELECT date_trunc('day', created) AS created_at,\n",
                "            count(*) FILTER (\n",
                "                WHERE app_id = '43ed6e70-ad21-4272-8f7a-27e672be5117' OR DLDFASDLFKJDASLFJDASKLFJDSFapp_id IS NULL\n",
                "            ) AS assistant,\n",
                "            count(*) FILTER (\n",
                "                WHERE app_id = '86c12be4-b2f3-47db-a4ff-a4d3ea2d442d'\n",
                "                        AND verified IS NULL\n",
                "            ) AS office365,\n",
                "            count(*) FILTER (\n",
                "                WHERE app_id = '86c12be4-b2f3-47db-a4ff-a4d3ea2d442d'\n",
                "                        AND verified IS NOT NULL\n",
                "            ) AS imap\n",
                "        FROM analytics_user AS usr\n",
                "            FULL JOIN sso_users AS sso\n",
                "                ON usr.user_id = sso.user_id\n",
                "            FULL JOIN analytics_mailbox_subscription AS msub\n",
                "                ON msub.user_id = usr.user_id\n",
                "            JOIN analytics_organization AS org\n",
                "                ON usr.organization_id = org.organization_id\n",
                "        WHERE NOT (sso.sso_id IS NULL\n",
                "                AND verified IS NULL)\n",
                "            AND usr.username NOT LIKE '%@snapaddy.com'\n",
                "        GROUP BY created_at\n",
                "        ORDER BY created_at ASC\"\"\"\n",
                "\n",
                "print(format_sql(sql))"
            ]
        },
        {
            "cell_type": "markdown",
            "metadata": {},
            "source": [
                "### With SELECT DISTINCT"
            ]
        },
        {
            "cell_type": "code",
            "execution_count": 1247,
            "metadata": {},
            "outputs": [
                {
                    "name": "stdout",
                    "output_type": "stream",
                    "text": [
                        "SELECT asdf,\n",
                        "    qwer\n",
                        "FROM (\n",
                        "    SELECT DISTINCT asdf,\n",
                        "        qwer\n",
                        "    FROM table1\n",
                        ")\n"
                    ]
                }
            ],
            "source": [
                "assert_and_print(\n",
                "    format_sql(\n",
                "\"\"\"\n",
                "select asdf, qwer from (select distinct asdf, qwer from table1)\n",
                "\"\"\"\n",
                "    ),\n",
                "\"\"\"\n",
                "SELECT asdf,\n",
                "    qwer\n",
                "FROM (\n",
                "    SELECT DISTINCT asdf,\n",
                "        qwer\n",
                "    FROM table1\n",
                ")\"\"\".strip()\n",
                ")"
            ]
        },
        {
            "cell_type": "markdown",
            "metadata": {},
            "source": [
                "### More convoluted nested subquery"
            ]
        },
        {
            "cell_type": "code",
            "execution_count": 1248,
            "metadata": {},
            "outputs": [],
            "source": [
                "example_convoluted = \"\"\"\n",
                "select asdf\n",
                "from (\n",
                "    select asdf, qwer, /* some comment */\n",
                "    from (select a.asdf, b.qwer, --some comment\n",
                "          from (select asdf \n",
                "                from table1) as a \n",
                "            right join (select qwer \n",
                "                        from table2) as b\n",
                "                on a.asdf = b.asdf)\n",
                ")\n",
                "\"\"\""
            ]
        },
        {
            "cell_type": "code",
            "execution_count": 1249,
            "metadata": {},
            "outputs": [],
            "source": [
                "expected_convoluted = \"\"\"\n",
                "SELECT asdf\n",
                "FROM (\n",
                "    SELECT asdf,\n",
                "        qwer /* some comment */\n",
                "    FROM (\n",
                "        SELECT a.asdf,\n",
                "            b.qwer --some comment\n",
                "        FROM (\n",
                "            SELECT asdf\n",
                "            FROM table1\n",
                "        ) AS a\n",
                "            RIGHT JOIN (\n",
                "                SELECT qwer\n",
                "                FROM table2\n",
                "            ) AS b\n",
                "                ON a.asdf = b.asdf\n",
                "    )\n",
                ")\n",
                "\"\"\".strip()"
            ]
        },
        {
            "cell_type": "code",
            "execution_count": 1250,
            "metadata": {},
            "outputs": [
                {
                    "name": "stdout",
                    "output_type": "stream",
                    "text": [
                        "SELECT asdf\n",
                        "FROM (\n",
                        "    SELECT asdf,\n",
                        "        qwer /* some comment */\n",
                        "    FROM (\n",
                        "        SELECT a.asdf,\n",
                        "            b.qwer --some comment\n",
                        "        FROM (\n",
                        "            SELECT asdf\n",
                        "            FROM table1\n",
                        "        ) AS a\n",
                        "            RIGHT JOIN (\n",
                        "                SELECT qwer\n",
                        "                FROM table2\n",
                        "            ) AS b\n",
                        "                ON a.asdf = b.asdf\n",
                        "    )\n",
                        ")\n"
                    ]
                }
            ],
            "source": [
                "assert_and_print(\n",
                "    format_sql(example_convoluted),\n",
                "    expected_convoluted\n",
                ")"
            ]
        },
        {
            "cell_type": "code",
            "execution_count": 1251,
            "metadata": {},
            "outputs": [
                {
                    "name": "stdout",
                    "output_type": "stream",
                    "text": [
                        "SELECT asdf,\n",
                        "    qwer\n",
                        "FROM table1\n",
                        "UNION\n",
                        "SELECT qwer,\n",
                        "    asdf,\n",
                        "    asdf2\n",
                        "FROM table3\n",
                        "WHERE asdf2 >= 2\n"
                    ]
                }
            ],
            "source": [
                "assert_and_print(\n",
                "    format_sql(\n",
                "\"\"\"\n",
                "select asdf,\n",
                "qwer\n",
                "from table1 union select qwer,\n",
                "asdf, asdf2 from table3\n",
                "where asdf2 >=2\n",
                "\"\"\"\n",
                "    ),\n",
                "\"\"\"\n",
                "SELECT asdf,\n",
                "    qwer\n",
                "FROM table1\n",
                "UNION\n",
                "SELECT qwer,\n",
                "    asdf,\n",
                "    asdf2\n",
                "FROM table3\n",
                "WHERE asdf2 >= 2\n",
                "\"\"\".strip()\n",
                ")"
            ]
        },
        {
            "cell_type": "markdown",
            "metadata": {},
            "source": [
                "Partition By with newline"
            ]
        },
        {
            "cell_type": "code",
            "execution_count": 1252,
            "metadata": {},
            "outputs": [
                {
                    "name": "stdout",
                    "output_type": "stream",
                    "text": [
                        "CREATE OR REPLACE TABLE asdf AS\n",
                        "SELECT asdf,\n",
                        "    qwer OVER (\n",
                        "        PARTITION BY asdf,\n",
                        "            qwer\n",
                        "        ORDER BY qwerty)\n",
                        "FROM table1\n"
                    ]
                }
            ],
            "source": [
                "assert_and_print(\n",
                "format_sql(\"\"\"\n",
                "create or replace table asdf as\n",
                "select asdf, qwer over (\n",
                "partition by asdf, qwer order by qwerty\n",
                ")\n",
                "from table1\n",
                "\"\"\"),\n",
                "\"\"\"\n",
                "CREATE OR REPLACE TABLE asdf AS\n",
                "SELECT asdf,\n",
                "    qwer OVER (\n",
                "        PARTITION BY asdf,\n",
                "            qwer\n",
                "        ORDER BY qwerty)\n",
                "FROM table1\n",
                "\"\"\".strip()\n",
                ")"
            ]
        },
        {
            "cell_type": "markdown",
            "metadata": {},
            "source": [
                "Too long lines query"
            ]
        },
        {
            "cell_type": "code",
            "execution_count": 1253,
            "metadata": {},
            "outputs": [
                {
                    "name": "stdout",
                    "output_type": "stream",
                    "text": [
                        "CREATE OR REPLACE TABLE asdf AS\n",
                        "SELECT asdf,\n",
                        "    CASE WHEN asdf IN (123412341234, 12341234123412, 123412341234, 512351235132, 123412341, 1234)\n",
                        "        THEN 1\n",
                        "        ELSE 0\n",
                        "    END AS qwerty,\n",
                        "    qwer OVER (\n",
                        "        PARTITION BY asdf,\n",
                        "            qwer\n",
                        "        ORDER BY qwerty)\n",
                        "FROM table1\n"
                    ]
                }
            ],
            "source": [
                "assert_and_print(\n",
                "format_sql(\"\"\"\n",
                "create or replace table asdf as\n",
                "select asdf, \n",
                "case when asdf in (123412341234, 12341234123412, 123412341234, 512351235132, 123412341, 1234) then 1 else 0 end as qwerty,\n",
                "qwer over (\n",
                "partition by asdf, qwer order by qwerty\n",
                ")\n",
                "from table1\n",
                "\"\"\"),\n",
                "\"\"\"\n",
                "CREATE OR REPLACE TABLE asdf AS\n",
                "SELECT asdf,\n",
                "    CASE WHEN asdf IN (123412341234, 12341234123412, 123412341234, 512351235132, 123412341, 1234)\n",
                "        THEN 1\n",
                "        ELSE 0\n",
                "    END AS qwerty,\n",
                "    qwer OVER (\n",
                "        PARTITION BY asdf,\n",
                "            qwer\n",
                "        ORDER BY qwerty)\n",
                "FROM table1\n",
                "\"\"\".strip()\n",
                ")"
            ]
        },
        {
            "cell_type": "code",
            "execution_count": 1254,
            "metadata": {},
            "outputs": [],
            "source": [
                "testcase = \"\"\"WITH days AS (\n",
                "    SELECT generate_series(:start_date, :end_date, '1 day'::interval) AS day\n",
                ")\n",
                "SELECT days.day,\n",
                "       count(*) FILTER (\n",
                "           WHERE  job.state = 'completed'\n",
                "       ) AS completed_jobs_count,\n",
                "       count(*) FILTER (\n",
                "           WHERE  job.state = 'failed'\n",
                "       ) AS failed_jobs_count,\n",
                "       coalesce(sum((job.return_value ->> 'successRows')::int) FILTER (\n",
                "           WHERE  job.state = 'completed'\n",
                "       ),\n",
                "                0) AS completed_rows_count,\n",
                "       coalesce(sum((job.return_value ->> 'totalRows')::int - (job.return_value ->> 'successRows')::int) FILTER (\n",
                "           WHERE  job.state = 'completed'\n",
                "       ),\n",
                "                0) AS failed_rows_count\n",
                "FROM   days\n",
                "LEFT\n",
                "JOIN   (\n",
                "    SELECT state,\n",
                "           return_value,\n",
                "           created_at\n",
                "    FROM   analytics_job\n",
                "    WHERE  type = 'data_enrichment'\n",
                "       AND data ->> 'strategy' = 'EMAIL_FINDER'\n",
                "       AND created_at BETWEEN :start_date\n",
                "                          AND (:end_date)::date + '23:59:59.999999'::time\n",
                ") AS job\n",
                "    ON date_trunc('day', job.created_at) = days.day\n",
                "GROUP BY 1\n",
                "ORDER BY days.day DESC;\"\"\""
            ]
        },
        {
            "cell_type": "code",
            "execution_count": 1255,
            "metadata": {},
            "outputs": [],
            "source": [
                "expected_testcase = \"\"\"WITH days AS (\n",
                "    SELECT generate_series(:start_date, :end_date, '1 day'::interval) AS day\n",
                ")\n",
                "SELECT days.day,\n",
                "    count(*) FILTER (\n",
                "        WHERE job.state = 'completed'\n",
                "    ) AS completed_jobs_count,\n",
                "    count(*) FILTER (\n",
                "        WHERE job.state = 'failed'\n",
                "    ) AS failed_jobs_count,\n",
                "    coalesce(sum((job.return_value ->> 'successRows')::int) FILTER (\n",
                "        WHERE job.state = 'completed'\n",
                "    ), 0) AS completed_rows_count,\n",
                "    coalesce(\n",
                "        sum(\n",
                "            (job.return_value ->> 'totalRows')::int - (job.return_value ->> 'successRows')::int\n",
                "        ) FILTER (\n",
                "            WHERE job.state = 'completed'\n",
                "        ),\n",
                "        0\n",
                "    ) AS failed_rows_count\n",
                "FROM days\n",
                "    LEFT JOIN (\n",
                "        SELECT state,\n",
                "            return_value,\n",
                "            created_at\n",
                "        FROM analytics_job\n",
                "        WHERE type = 'data_enrichment'\n",
                "            AND data ->> 'strategy' = 'EMAIL_FINDER'\n",
                "            AND created_at BETWEEN :start_date AND (:end_date)::date + '23:59:59.999999'::time\n",
                "    ) AS job\n",
                "        ON date_trunc('day', job.created_at) = days.day\n",
                "GROUP BY 1\n",
                "ORDER BY days.day DESC;\"\"\""
            ]
        },
        {
            "cell_type": "code",
            "execution_count": 1256,
            "metadata": {},
            "outputs": [
                {
                    "name": "stdout",
                    "output_type": "stream",
                    "text": [
                        "WITH days AS (\n",
                        "    SELECT generate_series(:start_date, :end_date, '1 day'::interval) AS day\n",
                        ")\n",
                        "SELECT days.day,\n",
                        "    count(*) FILTER (\n",
                        "        WHERE job.state = 'completed'\n",
                        "    ) AS completed_jobs_count,\n",
                        "    count(*) FILTER (\n",
                        "        WHERE job.state = 'failed'\n",
                        "    ) AS failed_jobs_count,\n",
                        "    coalesce(sum((job.return_value ->> 'successRows')::int) FILTER (\n",
                        "        WHERE job.state = 'completed'\n",
                        "    ), 0) AS completed_rows_count,\n",
                        "    coalesce(\n",
                        "        sum(\n",
                        "            (job.return_value ->> 'totalRows')::int - (job.return_value ->> 'successRows')::int\n",
                        "        ) FILTER (\n",
                        "            WHERE job.state = 'completed'\n",
                        "        ),\n",
                        "        0\n",
                        "    ) AS failed_rows_count\n",
                        "FROM days\n",
                        "    LEFT JOIN (\n",
                        "        SELECT state,\n",
                        "            return_value,\n",
                        "            created_at\n",
                        "        FROM analytics_job\n",
                        "        WHERE type = 'data_enrichment'\n",
                        "            AND data ->> 'strategy' = 'EMAIL_FINDER'\n",
                        "            AND created_at BETWEEN :start_date AND (:end_date)::date + '23:59:59.999999'::time\n",
                        "    ) AS job\n",
                        "        ON date_trunc('day', job.created_at) = days.day\n",
                        "GROUP BY 1\n",
                        "ORDER BY days.day DESC;\n"
                    ]
                }
            ],
            "source": [
                "assert_and_print(format_sql(testcase), expected_testcase)"
            ]
        },
        {
            "cell_type": "code",
            "execution_count": 1257,
            "metadata": {},
            "outputs": [
                {
                    "name": "stdout",
                    "output_type": "stream",
                    "text": [
                        "WITH days AS (\n",
                        "    SELECT generate_series(:start_date, :end_date, '1 day'::interval) AS day\n",
                        ")\n",
                        "SELECT days.day,\n",
                        "    count(*) FILTER (\n",
                        "        WHERE job.state = 'completed'\n",
                        "    ) AS completed_jobs_count,\n",
                        "    count(*) FILTER (\n",
                        "        WHERE job.state = 'failed'\n",
                        "    ) AS failed_jobs_count,\n",
                        "    coalesce(sum((job.return_value ->> 'successRows')::int) FILTER (\n",
                        "        WHERE job.state = 'completed'\n",
                        "    ), 0) AS completed_rows_count,\n",
                        "    coalesce(\n",
                        "        sum(\n",
                        "            (job.return_value ->> 'totalRows')::int - (job.return_value ->> 'successRows')::int\n",
                        "        ) FILTER (\n",
                        "            WHERE job.state = 'completed'\n",
                        "        ),\n",
                        "        0\n",
                        "    ) AS failed_rows_count\n",
                        "FROM days\n",
                        "    LEFT JOIN (\n",
                        "        SELECT state,\n",
                        "            return_value,\n",
                        "            created_at\n",
                        "        FROM analytics_job\n",
                        "        WHERE type = 'data_enrichment'\n",
                        "            AND data ->> 'strategy' = 'EMAIL_FINDER'\n",
                        "            AND created_at BETWEEN :start_date AND (:end_date)::date + '23:59:59.999999'::time\n",
                        "    ) AS job\n",
                        "        ON date_trunc('day', job.created_at) = days.day\n",
                        "GROUP BY 1\n",
                        "ORDER BY days.day\n"
                    ]
                }
            ],
            "source": [
                "print(format_sql(\"\"\" WITH days AS (\n",
                "                SELECT generate_series(:start_date, :end_date, '1 day'::interval) AS day\n",
                "            )\n",
                "            SELECT days.day,\n",
                "                COUNT(*) FILTER (WHERE job.state = 'completed') AS completed_jobs_count,\n",
                "                COUNT(*) FILTER (WHERE job.state = 'failed') AS failed_jobs_count,\n",
                "                COALESCE(SUM((job.return_value->>'successRows')::int)\n",
                "                    FILTER (WHERE job.state = 'completed'), 0) AS completed_rows_count,\n",
                "                COALESCE(SUM((job.return_value->>'totalRows')::int - (job.return_value->>'successRows')::int)\n",
                "                    FILTER (WHERE job.state = 'completed'), 0) AS failed_rows_count\n",
                "            FROM days\n",
                "            LEFT JOIN (\n",
                "                SELECT state, return_value, created_at\n",
                "                FROM analytics_job\n",
                "                WHERE type = 'data_enrichment'\n",
                "                    AND data->>'strategy' = 'EMAIL_FINDER'\n",
                "                    AND created_at BETWEEN :start_date\n",
                "                        AND (:end_date)::date + '23:59:59.999999'::time\n",
                "            ) AS job ON date_trunc('day', job.created_at) = days.day\n",
                "            GROUP BY 1\n",
                "            ORDER BY days.day\"\"\"))"
            ]
        },
        {
            "cell_type": "code",
            "execution_count": 1258,
            "metadata": {},
            "outputs": [
                {
                    "name": "stdout",
                    "output_type": "stream",
                    "text": [
                        "Converted 00_core.ipynb.\n",
                        "Converted 01_format_file.ipynb.\n",
                        "Converted 02_utils.ipynb.\n",
                        "Converted 03_validation.ipynb.\n",
                        "Converted 99_additional_tests.ipynb.\n",
                        "Converted index.ipynb.\n"
                    ]
                }
            ],
            "source": [
                "#hide\n",
                "from nbdev.export import notebook2script\n",
                "notebook2script()"
            ]
        }
    ],
    "metadata": {
        "kernelspec": {
            "display_name": "Python 3.9.13 ('.venv': poetry)",
            "language": "python",
            "name": "python3"
        },
        "language_info": {
            "codemirror_mode": {
                "name": "ipython",
                "version": 3
            },
            "file_extension": ".py",
            "mimetype": "text/x-python",
            "name": "python",
            "nbconvert_exporter": "python",
            "pygments_lexer": "ipython3",
            "version": "3.9.13"
        },
        "vscode": {
            "interpreter": {
                "hash": "c63123e845c40650c9555e0ec45a9c5232477a29d550e0e41f8f2acb9d1f58f4"
            }
        }
    },
    "nbformat": 4,
    "nbformat_minor": 2
}
