{
    "cells": [
        {
            "cell_type": "code",
            "execution_count": 45,
            "metadata": {},
            "outputs": [
                {
                    "name": "stdout",
                    "output_type": "stream",
                    "text": [
                        "The autoreload extension is already loaded. To reload it, use:\n",
                        "  %reload_ext autoreload\n"
                    ]
                }
            ],
            "source": [
                "#hide\n",
                "%load_ext autoreload\n",
                "%autoreload 2\n",
                "%config Completer.use_jedi = False  # workaround for buggy jedi"
            ]
        },
        {
            "cell_type": "code",
            "execution_count": 46,
            "metadata": {},
            "outputs": [],
            "source": [
                "# default_exp format_file"
            ]
        },
        {
            "cell_type": "code",
            "execution_count": 47,
            "metadata": {},
            "outputs": [],
            "source": [
                "import os\n",
                "import sys\n",
                "module_path = os.path.abspath(os.path.join('..'))\n",
                "if module_path not in sys.path:\n",
                "    sys.path.append(module_path)"
            ]
        },
        {
            "cell_type": "code",
            "execution_count": 48,
            "metadata": {},
            "outputs": [],
            "source": [
                "#export\n",
                "import re\n",
                "import os\n",
                "import tempfile\n",
                "import argparse\n",
                "from glob import glob\n",
                "import ptypysql\n",
                "from ptypysql.core import *\n",
                "from ptypysql.utils import *\n",
                "from ptypysql.validation import *"
            ]
        },
        {
            "cell_type": "markdown",
            "metadata": {},
            "source": [
                "# format_file\n",
                "\n",
                "> Functions to format a SQL file with multiple queries and SQL statements"
            ]
        },
        {
            "cell_type": "code",
            "execution_count": 49,
            "metadata": {},
            "outputs": [],
            "source": [
                "#hide\n",
                "from nbdev.showdoc import *"
            ]
        },
        {
            "cell_type": "markdown",
            "metadata": {},
            "source": [
                "## Use-Case\n",
                "\n",
                "Assume you have a file called sql_file.py containing SQL statements and queries.\n",
                "\n",
                "After reading it in python we could have something like this:"
            ]
        },
        {
            "cell_type": "code",
            "execution_count": 50,
            "metadata": {},
            "outputs": [],
            "source": [
                "sql_file = \"\"\"\n",
                "--- Views for some nice data mart ---\n",
                "use database my_database;\n",
                "use schema my_schema;\n",
                "\n",
                "create or replace view first_view as -- my first view\n",
                "select a.car_id,\n",
                "       b.car_name, sum(a.price) over (partition by b.car_name order by a.car_id) as sum_price, a.price,\n",
                "from sales as a left join (select car_id, car_name, from cars) as b \n",
                "on a.car_id = b.car_id\n",
                "where car_id>1 and car_id<=100 order by b.car_name;\n",
                "\n",
                "-- Table no. 1 --\n",
                "create or replace table first_table as -- my first table\n",
                "select car_id,\n",
                "       avg(price) as avg_price,\n",
                "from first_view\n",
                "group by car_id order by car_id;\n",
                "\n",
                "--- End of file ---\n",
                "\"\"\".strip()"
            ]
        },
        {
            "cell_type": "markdown",
            "metadata": {},
            "source": [
                "Then we would like to format the SQL-queries in this file, while letting every other non-query-SQL statement untouched. For the example above we would like to have something like this:"
            ]
        },
        {
            "cell_type": "code",
            "execution_count": 51,
            "metadata": {},
            "outputs": [],
            "source": [
                "expected_sql_file = \"\"\"\n",
                "--- Views for some nice data mart ---\n",
                "use database my_database;\n",
                "use schema my_schema;\n",
                "\n",
                "\n",
                "CREATE OR REPLACE VIEW first_view AS -- my first view\n",
                "SELECT a.car_id,\n",
                "    b.car_name,\n",
                "    sum(a.price) OVER (\n",
                "        PARTITION BY b.car_name\n",
                "        ORDER BY a.car_id\n",
                "    ) AS sum_price,\n",
                "    a.price\n",
                "FROM sales AS a\n",
                "    LEFT JOIN (\n",
                "        SELECT car_id,\n",
                "            car_name\n",
                "        FROM cars\n",
                "    ) AS b\n",
                "        ON a.car_id = b.car_id\n",
                "WHERE car_id > 1\n",
                "    AND car_id <= 100\n",
                "ORDER BY b.car_name;\n",
                "\n",
                "\n",
                "-- Table no. 1 --\n",
                "CREATE OR REPLACE TABLE first_table AS\n",
                "SELECT car_id,\n",
                "    avg(price) AS avg_price -- my first table\n",
                "FROM first_view\n",
                "GROUP BY car_id\n",
                "ORDER BY car_id;\n",
                "\n",
                "--- End of file ---\n",
                "\"\"\".lstrip()"
            ]
        },
        {
            "cell_type": "markdown",
            "metadata": {},
            "source": [
                "python file\n",
                "test_script.py"
            ]
        },
        {
            "cell_type": "markdown",
            "metadata": {},
            "source": [
                "### Formatting philosophy of SQL files\n",
                "\n",
                "* Every SQL-query is separated from above by two new lines\n",
                "* Every SQL-query is formatted via `format_sql`"
            ]
        },
        {
            "cell_type": "markdown",
            "metadata": {},
            "source": [
                "### Main function to format the SQL commands in a file\n",
                "\n",
                "This function applies also basic validation and aborts formatting if the statements `CREATE .. TABLE / VIEW` appear at least twice in the same query after splitting by semicolon, warning the user that she / he may have forgotten a semicolon"
            ]
        },
        {
            "cell_type": "code",
            "execution_count": 52,
            "metadata": {},
            "outputs": [],
            "source": [
                "\n",
                "#export\n",
                "def format_sql_commands(s_original, max_len=99, semicolon = True):\n",
                "    \"Format SQL commands in `s`. If SELECT line is longer than `max_len` then reformat line\"\n",
                "    s = s_original.strip()  # strip file contents\n",
                "    split_s = split_by_semicolon(s)  # split by query\n",
                "    # validate semicolon\n",
                "    validations_semicolon = [validate_semicolon(sp) for sp in split_s]\n",
                "    val_summary_semicolon = sum([val[\"exit_code\"] for val in validations_semicolon])\n",
                "    # validate balanced parenthesis\n",
                "    validations_balanced = [validate_balanced_parenthesis(sp) for sp in split_s]\n",
                "    val_summary_balanced = sum([val[\"exit_code\"] for val in validations_balanced])\n",
                "    # validate balanced case when ... end\n",
                "    val_case_end_balanced = [validate_case_when(sp) for sp in split_s if sp != \"\"]\n",
                "    val_summary_case = sum([val[\"exit_code\"] for val in val_case_end_balanced])\n",
                "    if sum([val_summary_semicolon, val_summary_balanced, val_summary_case]) == 0:\n",
                "        split_comment_after_semicolon = re.compile(\"((?:\\n|create|select|with))\")\n",
                "        check_comment_after_semicolon = re.compile(r\"(?:;)[\\r\\t\\f\\v ]*(?:\\/\\*|--)\")\n",
                "        check_ending_semicolon = re.compile(r\";\\s*$\")\n",
                "        split_s_out = []  # initialize container\n",
                "        last_i = len(split_s) - 1\n",
                "        formatted = False\n",
                "        for i, sp in enumerate(split_s):  # split by semicolon\n",
                "            # take care of comment after semicolon\n",
                "            # split by first newline and format only the second item\n",
                "            if check_comment_after_semicolon.match(sp):\n",
                "                split_s2 = split_comment_after_semicolon.split(sp, maxsplit=1)\n",
                "            else:\n",
                "                split_s2 = [sp]\n",
                "            # check if the queries are formatted or not\n",
                "            if check_sql_query(sp) and not check_skip_marker(sp):\n",
                "                formatted = True\n",
                "            formatted_split_s2 = [\n",
                "                \"\\n\\n\\n\" + format_sql(sp, semicolon=semicolon, max_len=max_len).strip()\n",
                "                if check_sql_query(sp) and not check_skip_marker(sp)\n",
                "                else sp\n",
                "                for sp in split_s2\n",
                "            ]\n",
                "            formatted_sp = \"\".join(formatted_split_s2)\n",
                "            if i != last_i:\n",
                "                split_c = split_comment(formatted_sp)\n",
                "                s_code = \"\".join([d[\"string\"] for d in split_c if not d[\"comment\"]])\n",
                "                formatted_sp = (\n",
                "                    formatted_sp \n",
                "                    if check_ending_semicolon.search(s_code)\n",
                "                    or formatted_sp == \"\"\n",
                "                    else formatted_sp + \";\"\n",
                "                )\n",
                "            split_s_out.append(\"\".join(formatted_sp))\n",
                "        # if not formatted, return original sql\n",
                "        if not formatted:\n",
                "            return s_original\n",
                "        # join by semicolon\n",
                "        formatted_s = \"\".join(split_s_out)\n",
                "        # remove starting and ending newlines\n",
                "        formatted_s = formatted_s.strip()\n",
                "        # remove more than 3 newlines\n",
                "        formatted_s = re.sub(r\"\\n{4,}\", \"\\n\\n\\n\", formatted_s)\n",
                "        # add newline at the end of file\n",
                "        formatted_s = formatted_s + \"\\n\"\n",
                "        return formatted_s\n",
                "    else:\n",
                "        error_dict = {}\n",
                "        if val_summary_semicolon > 0:\n",
                "            file_lines = [\n",
                "                tuple([line + sum([sd[\"total_lines\"] for sd in validations_semicolon[0:i]]) for line in d[\"val_lines\"]])\n",
                "                for i, d in enumerate(validations_semicolon)\n",
                "                if d[\"exit_code\"] == 1\n",
                "            ]\n",
                "            error_dict[\"semicolon\"] = {\n",
                "                \"error_code\": 2,\n",
                "                \"lines\": file_lines\n",
                "            }\n",
                "        if val_summary_balanced > 0:\n",
                "            file_lines = [\n",
                "                [line + sum([sd[\"total_lines\"] for sd in validations_balanced[0:i]]) for line in d[\"val_lines\"]]\n",
                "                for i, d in enumerate(validations_balanced)\n",
                "                if d[\"exit_code\"] == 1\n",
                "            ]            \n",
                "            error_dict[\"unbalanced_parenthesis\"] = {\n",
                "                \"error_code\": 3,\n",
                "                \"lines\": file_lines\n",
                "            }\n",
                "        if val_summary_case > 0:\n",
                "            file_lines = [\n",
                "                [line + sum([sd[\"total_lines\"] for sd in val_case_end_balanced[0:i]]) for line in d[\"val_lines\"]]\n",
                "                for i, d in enumerate(val_case_end_balanced)\n",
                "                if d[\"exit_code\"] == 1\n",
                "            ]            \n",
                "            error_dict[\"unbalanced_case\"] = {\n",
                "                \"error_code\": 4,\n",
                "                \"lines\": file_lines\n",
                "            }            \n",
                "        return error_dict"
            ]
        },
        {
            "cell_type": "markdown",
            "metadata": {},
            "source": [
                "Basic file formatting"
            ]
        },
        {
            "cell_type": "code",
            "execution_count": 53,
            "metadata": {},
            "outputs": [
                {
                    "name": "stdout",
                    "output_type": "stream",
                    "text": [
                        "--- Views for some nice data mart ---\n",
                        "use database my_database;\n",
                        "use schema my_schema;\n",
                        "\n",
                        "\n",
                        "CREATE OR REPLACE VIEW first_view AS -- my first view\n",
                        "SELECT a.car_id,\n",
                        "    b.car_name,\n",
                        "    sum(a.price) OVER (\n",
                        "        PARTITION BY b.car_name\n",
                        "        ORDER BY a.car_id\n",
                        "    ) AS sum_price,\n",
                        "    a.price\n",
                        "FROM sales AS a\n",
                        "    LEFT JOIN (\n",
                        "        SELECT car_id,\n",
                        "            car_name\n",
                        "        FROM cars\n",
                        "    ) AS b\n",
                        "        ON a.car_id = b.car_id\n",
                        "WHERE car_id > 1\n",
                        "    AND car_id <= 100\n",
                        "ORDER BY b.car_name;\n",
                        "\n",
                        "\n",
                        "-- Table no. 1 --\n",
                        "CREATE OR REPLACE TABLE first_table AS\n",
                        "SELECT car_id,\n",
                        "    avg(price) AS avg_price -- my first table\n",
                        "FROM first_view\n",
                        "GROUP BY car_id\n",
                        "ORDER BY car_id;\n",
                        "\n",
                        "--- End of file ---\n",
                        "\n"
                    ]
                }
            ],
            "source": [
                "assert_and_print(\n",
                "    format_sql_commands(sql_file),\n",
                "    expected_sql_file\n",
                ")"
            ]
        },
        {
            "cell_type": "markdown",
            "metadata": {},
            "source": [
                "Using the `/*skip-formatter*/` marker to not format some query"
            ]
        },
        {
            "cell_type": "code",
            "execution_count": 54,
            "metadata": {},
            "outputs": [
                {
                    "name": "stdout",
                    "output_type": "stream",
                    "text": [
                        "use database my_database;\n",
                        "\n",
                        "/*skip-formatter*/\n",
                        "create Or replace View my_view aS\n",
                        "select asdf, qwer\n",
                        "from table1;\n",
                        "\n",
                        "\n",
                        "CREATE OR REPLACE TABLE my_table AS\n",
                        "SELECT asdf,\n",
                        "    qwer\n",
                        "FROM table2\n",
                        "GROUP BY asdf;\n",
                        "\n"
                    ]
                }
            ],
            "source": [
                "assert_and_print(\n",
                "    format_sql_commands(\"\"\"\n",
                "use database my_database;\n",
                "\n",
                "/*skip-formatter*/\n",
                "create Or replace View my_view aS\n",
                "select asdf, qwer\n",
                "from table1;\n",
                "\n",
                "create or replace table my_table As\n",
                "Select asdf, qwer\n",
                "From table2\n",
                "group by asdf;\n",
                "\"\"\"),\n",
                "    \"\"\"use database my_database;\n",
                "\n",
                "/*skip-formatter*/\n",
                "create Or replace View my_view aS\n",
                "select asdf, qwer\n",
                "from table1;\n",
                "\n",
                "\n",
                "CREATE OR REPLACE TABLE my_table AS\n",
                "SELECT asdf,\n",
                "    qwer\n",
                "FROM table2\n",
                "GROUP BY asdf;\n",
                "\"\"\")"
            ]
        },
        {
            "cell_type": "code",
            "execution_count": 55,
            "metadata": {},
            "outputs": [
                {
                    "name": "stdout",
                    "output_type": "stream",
                    "text": [
                        "CREATE OR REPLACE TABLE my_table AS\n",
                        "SELECT asdf,\n",
                        "    qwer\n",
                        "FROM table2\n",
                        "GROUP BY asdf;\n",
                        "\n"
                    ]
                }
            ],
            "source": [
                "assert_and_print(\n",
                "    format_sql_commands(\"\"\"\n",
                "create or replace table my_table As\n",
                "Select asdf, qwer\n",
                "From table2\n",
                "group by asdf;\n",
                "\"\"\"),\n",
                "    \"\"\"\n",
                "CREATE OR REPLACE TABLE my_table AS\n",
                "SELECT asdf,\n",
                "    qwer\n",
                "FROM table2\n",
                "GROUP BY asdf;\n",
                "\"\"\".lstrip())"
            ]
        },
        {
            "cell_type": "code",
            "execution_count": 56,
            "metadata": {},
            "outputs": [],
            "source": [
                "# need fix: problem with comment location\n",
                "# assert_and_print(\n",
                "#     format_sql_commands(\"\"\"\n",
                "# create or replace table my_table As\n",
                "# Select asdf, qwer\n",
                "# From table2\n",
                "# group by asdf -- some comment\n",
                "# ;\n",
                "# \"\"\"),\n",
                "#     \"\"\"\n",
                "# CREATE OR REPLACE TABLE my_table AS \n",
                "# SELECT asdf,\n",
                "#     qwer\n",
                "# FROM table2\n",
                "# GROUP BY asdf; -- some comment\n",
                "# \"\"\".lstrip())"
            ]
        },
        {
            "cell_type": "code",
            "execution_count": 57,
            "metadata": {},
            "outputs": [],
            "source": [
                "# need fix: problem with comment location\n",
                "# assert_and_print(\n",
                "#     format_sql_commands(\n",
                "# \"\"\"\n",
                "# create table my_table As\n",
                "# select asdf, Qwer, /* ; */\n",
                "# qwer2, -- ;\n",
                "# replace(';', '', qwer3) as Qwer4\n",
                "# from table1; /* Some comment */\n",
                "\n",
                "# create view my_view As\n",
                "# Select asdf\n",
                "# From my_table; /* Another comment */\n",
                "# \"\"\"\n",
                "#     ),\n",
                "# \"\"\"\n",
                "# CREATE TABLE my_table AS\n",
                "# SELECT asdf,\n",
                "#        qwer, /* ; */\n",
                "#        qwer2, -- ;\n",
                "#        replace(';', '', qwer3) AS qwer4\n",
                "# FROM   table1; /* Some comment */\n",
                "\n",
                "\n",
                "# CREATE VIEW my_view AS\n",
                "# SELECT asdf\n",
                "# FROM   my_table; /* Another comment */\n",
                "# \"\"\".lstrip()\n",
                "# )"
            ]
        },
        {
            "cell_type": "code",
            "execution_count": 58,
            "metadata": {},
            "outputs": [],
            "source": [
                "# need fix: problem with comment location\n",
                "\n",
                "# assert_and_print(\n",
                "#     format_sql_commands(\n",
                "# \"\"\"\n",
                "# create or replace transient table my_table As\n",
                "# select asdf, Qwer, /* ; */\n",
                "# qwer2, -- ;\n",
                "# replace(';', '', qwer3) as Qwer4\n",
                "# from table1;\n",
                "\n",
                "# create view my_view As\n",
                "# Select asdf\n",
                "# From my_table;\n",
                "# \"\"\".lstrip()\n",
                "#     ),\n",
                "# \"\"\"\n",
                "# CREATE OR REPLACE TRANSIENT TABLE my_table AS\n",
                "# SELECT asdf,\n",
                "#        qwer, /* ; */\n",
                "#        qwer2, -- ;\n",
                "#        replace(';', '', qwer3) AS qwer4\n",
                "# FROM   table1;\n",
                "\n",
                "\n",
                "# CREATE VIEW my_view AS\n",
                "# SELECT asdf\n",
                "# FROM   my_table;\n",
                "# \"\"\".lstrip()\n",
                "# )"
            ]
        },
        {
            "cell_type": "markdown",
            "metadata": {},
            "source": [
                "If the validation fails, then the function returns a dictionary instead of the formatted queries with information about the error"
            ]
        },
        {
            "cell_type": "markdown",
            "metadata": {},
            "source": [
                "Semicolon validation error"
            ]
        },
        {
            "cell_type": "code",
            "execution_count": 59,
            "metadata": {},
            "outputs": [
                {
                    "name": "stdout",
                    "output_type": "stream",
                    "text": [
                        "{'semicolon': {'error_code': 2, 'lines': [(1, 7)]}}\n"
                    ]
                }
            ],
            "source": [
                "assert_and_print(\n",
                "    format_sql_commands(\n",
                "\"\"\"\n",
                "create or replace transient table my_table As\n",
                "select asdf, Qwer, /* ; */\n",
                "qwer2, -- ;\n",
                "replace(';', '', qwer3) as Qwer4\n",
                "from table1\n",
                "\n",
                "create view my_view As\n",
                "Select asdf\n",
                "From my_table;\n",
                "\"\"\".lstrip()\n",
                "    ), \n",
                "    {\"semicolon\": {\"error_code\": 2, \"lines\": [(1, 7)]}}\n",
                ")"
            ]
        },
        {
            "cell_type": "markdown",
            "metadata": {},
            "source": [
                "Unbalanced parenthesis error"
            ]
        },
        {
            "cell_type": "code",
            "execution_count": 60,
            "metadata": {},
            "outputs": [
                {
                    "name": "stdout",
                    "output_type": "stream",
                    "text": [
                        "{'unbalanced_parenthesis': {'error_code': 3, 'lines': [[3, 4], [9]]}}\n"
                    ]
                }
            ],
            "source": [
                "assert_and_print(\n",
                "    format_sql_commands(\n",
                "\"\"\"\n",
                "create or replace transient table my_table As\n",
                "select asdf, Qwer, /* ; */\n",
                "(qwer2, -- ; ()\n",
                "( /* ) */\n",
                "replace(';', '', qwer3) as Qwer4\n",
                "from table1;\n",
                "\n",
                "create view my_view As\n",
                "(Select asdf\n",
                "From my_table;\n",
                "\"\"\".lstrip()\n",
                "    ), \n",
                "    {\"unbalanced_parenthesis\": {\"error_code\": 3, \"lines\": [[3, 4], [9]]}}\n",
                ")"
            ]
        },
        {
            "cell_type": "markdown",
            "metadata": {},
            "source": [
                "Unbalanced parenthesis + semicolon error"
            ]
        },
        {
            "cell_type": "code",
            "execution_count": 61,
            "metadata": {},
            "outputs": [
                {
                    "name": "stdout",
                    "output_type": "stream",
                    "text": [
                        "{'semicolon': {'error_code': 2, 'lines': [(1, 8)]}, 'unbalanced_parenthesis': {'error_code': 3, 'lines': [[3, 4, 9]]}}\n"
                    ]
                }
            ],
            "source": [
                "assert_and_print(\n",
                "    format_sql_commands(\n",
                "\"\"\"\n",
                "create or replace transient table my_table As\n",
                "select asdf, Qwer, /* ; */\n",
                "(qwer2, -- ; ()\n",
                "( /* ) */\n",
                "replace(';', '', qwer3) as Qwer4\n",
                "from table1\n",
                "\n",
                "create view my_view As\n",
                "(Select asdf\n",
                "From my_table;\n",
                "\"\"\".lstrip()\n",
                "    ), \n",
                "    {\n",
                "        \"semicolon\": {\"error_code\": 2, \"lines\": [(1, 8)]},        \n",
                "        \"unbalanced_parenthesis\": {\"error_code\": 3, \"lines\": [[3, 4, 9]]},\n",
                "    }\n",
                ")"
            ]
        },
        {
            "cell_type": "markdown",
            "metadata": {},
            "source": [
                "Unbalanced case when ... end"
            ]
        },
        {
            "cell_type": "code",
            "execution_count": 62,
            "metadata": {},
            "outputs": [
                {
                    "name": "stdout",
                    "output_type": "stream",
                    "text": [
                        "{'unbalanced_case': {'error_code': 4, 'lines': [[3]]}}\n"
                    ]
                }
            ],
            "source": [
                "assert_and_print(\n",
                "    format_sql_commands(\n",
                "\"\"\"\n",
                "create or replace transient table my_table As\n",
                "select asdf, Qwer, /* ; */\n",
                "case when asdf = 1 then 1 as qwer,\n",
                "replace(';', '', qwer3) as Qwer4\n",
                "from table1;\n",
                "\n",
                "create view my_view As\n",
                "\"\"\".lstrip()\n",
                "    ), \n",
                "    {\"unbalanced_case\": {\"error_code\": 4, \"lines\": [[3]]}}\n",
                ")"
            ]
        },
        {
            "cell_type": "markdown",
            "metadata": {},
            "source": [
                "### Function to format 1 SQL file"
            ]
        },
        {
            "cell_type": "code",
            "execution_count": 63,
            "metadata": {},
            "outputs": [],
            "source": [
                "#export\n",
                "def format_sql_file(f, max_len=99):\n",
                "    \"\"\"Format file `f` with SQL commands and overwrite the file.\n",
                "    If SELECT line is longer than 99 characters then reformat line\n",
                "\n",
                "    Return exit_code:\n",
                "    * 0 = Everything already formatted\n",
                "    * 1 = Formatting applied\n",
                "    * 2 = Problem detected, formatting aborted\n",
                "    \"\"\"\n",
                "    exit_code = 0\n",
                "    \n",
                "    # open the file\n",
                "    with open(f, \"r\") as file:\n",
                "        py_scripts = file.read()\n",
                "\n",
                "    # use for python    \n",
                "    # TODO: support for custom SQL string searching \n",
                "    sql_regex = re.compile(r'.+DB\\.(?:fetch|execute)(?:\\_\\w+)?\\(\\s*\\\"\\\"\\\"\\s*(?:--sql)?\\s*([\\s\\S]+?)\\\"\\\"\\\"\\,?')\n",
                "    sql_heading = re.compile(r'(DB\\.(?:fetch|execute)(?:\\_\\w+)?\\()(\\s*\\\"\\\"\\\"\\s*(?:--sql)?\\s*)')\n",
                "    sqls = sql_regex.finditer(py_scripts)\n",
                "    for sql in sqls:\n",
                "        sql_function = sql.group()\n",
                "        sql_commands = sql.group(1)\n",
                "        # now only support for select clause(not support for create/insert/update etc.)\n",
                "        if not sql_commands.strip().lower().startswith((\"with\", \"select\")):\n",
                "            continue\n",
                "        indent_length = len(sql_function) - len(sql_function.lstrip()) + 4\n",
                "        indent = \" \" * indent_length\n",
                "        max_len_with_indent = max_len - indent_length\n",
                "        # format SQL statements, and only add semicolon if SQL input of the function is finished, i.e., get \",\" \n",
                "        if sql_function.endswith(','):\n",
                "            formatted_file = format_sql_commands(sql_commands, max_len=max_len_with_indent, semicolon = True)\n",
                "        else:\n",
                "            formatted_file = format_sql_commands(sql_commands, max_len=max_len_with_indent, semicolon = False)\n",
                "        if isinstance(formatted_file, dict):\n",
                "            print(f\"Something went wrong in file: {f}\")\n",
                "            if \"semicolon\" in formatted_file.keys():\n",
                "                print(\n",
                "                    (\n",
                "                    \"[WARNING] Identified CREATE keyword more than twice within the same query \" +\n",
                "                    f\"at lines {formatted_file['semicolon']['lines']}\\n\"\n",
                "                    \"You may have forgotten a semicolon (;) to delimit the queries\"\n",
                "                    )\n",
                "                )\n",
                "            if \"unbalanced_parenthesis\" in formatted_file.keys():\n",
                "                print(\n",
                "                    (\n",
                "                    \"[WARNING] Identified unbalanced parenthesis \" +\n",
                "                    f\"at lines {formatted_file['unbalanced_parenthesis']['lines']}\\n\"\n",
                "                    \"You should check your parenthesis\"\n",
                "                    )\n",
                "                )\n",
                "            if \"unbalanced_case\" in formatted_file.keys():\n",
                "                print(\n",
                "                    (\n",
                "                    \"[WARNING] Identified unbalanced case when ... end \" +\n",
                "                    f\"at lines {formatted_file['unbalanced_case']['lines']}\\n\"\n",
                "                    \"You should check for missing case or end keywords\"\n",
                "                    )\n",
                "                )\n",
                "            print(f\"Aborting formatting for file {f}\")\n",
                "            return 2\n",
                "\n",
                "        else:\n",
                "            sql_commands_indented = \"\\n\".join(remove_prefix(sql_commands_split, indent) for sql_commands_split in sql_commands.split(\"\\n\"))\n",
                "            if sql_commands_indented == formatted_file or sql_commands == formatted_file:\n",
                "                exit_code += 0\n",
                "            else:\n",
                "                exit_code = 1\n",
                "                # for safety\n",
                "                if sql_function in py_scripts and sql_commands in sql_function:\n",
                "                    formatted_file = \"\\n\".join([indent + s for s in formatted_file.split(\"\\n\")])\n",
                "                    formatted_function = sql_heading.sub(r'\\1' + f'\\n{indent}\"\"\"\\n', sql_function)\n",
                "                    formatted_function = formatted_function.replace(sql_commands, formatted_file)\n",
                "                    py_scripts = py_scripts.replace(sql_function, formatted_function)\n",
                "                else:\n",
                "                    print(f\"Something went wrong in file: {f}\")\n",
                "                    print(\n",
                "                        (\n",
                "                        f\"[WARNING] The original SQL query does not exist in the file : {f}\\n\" +\n",
                "                        f\"The corresponding SQL query is:\\n{sql_commands} \\n\" +\n",
                "                        f\"The formatted SQL query is:\\n{formatted_file} \\n\" +\n",
                "                        \"You may want to replace the SQL query manually\"\n",
                "                        )\n",
                "                   )\n",
                "                    return 2\n",
                "\n",
                "    # overwrite file\n",
                "    if exit_code == 1:\n",
                "        with open(f, \"w\") as file:\n",
                "            file.write(py_scripts)\n",
                "    \n",
                "    return exit_code"
            ]
        },
        {
            "cell_type": "markdown",
            "metadata": {},
            "source": [
                "### Function to format many SQL files"
            ]
        },
        {
            "cell_type": "code",
            "execution_count": 64,
            "metadata": {},
            "outputs": [],
            "source": [
                "#export\n",
                "def format_sql_files(files, recursive=False, max_len=99):\n",
                "    \"Format SQL `files`\"\n",
                "    exit_codes = []\n",
                "    # if wildcard \"*\" is input then use it\n",
                "    if len(files) == 1 and re.search(\"\\*\", files[0]):\n",
                "        if recursive:  # if recursive search\n",
                "            files = glob(os.path.join(\"**\", files[0]), recursive=True)\n",
                "        else:\n",
                "            files = glob(files[0])\n",
                "    for file in files:\n",
                "        exit_codes.append(format_sql_file(file, max_len=max_len))\n",
                "    if sum(exit_codes) == 0:\n",
                "        print(\"Nothing to format, everything is fine!\")\n",
                "    else:\n",
                "        print(\"All specified files were formatted!\")"
            ]
        },
        {
            "cell_type": "code",
            "execution_count": 65,
            "metadata": {},
            "outputs": [],
            "source": [
                "#export\n",
                "def format_sql_files_cli():\n",
                "    \"Format SQL files\"\n",
                "    parser = argparse.ArgumentParser(description=\"Format SQL files\")\n",
                "    parser.add_argument(\n",
                "        \"files\",\n",
                "        help='Path to SQL files. You can also use wildcard using \".*sql\"', \n",
                "        type=str,\n",
                "        nargs=\"+\"\n",
                "    )\n",
                "    parser.add_argument(\n",
                "        \"-r\",\n",
                "        \"--recursive\",\n",
                "        help=\"Should files also be searched in subfolders?\",\n",
                "        action=\"store_true\"\n",
                "    )\n",
                "    parser.add_argument(\n",
                "        \"-m\",\n",
                "        \"--max-line-length\",\n",
                "        help=\"Maximum line length for trunction of SELECT fields\",\n",
                "        type=int,\n",
                "        default=99\n",
                "    )\n",
                "    parser.add_argument(\n",
                "        \"-v\",\n",
                "        \"--version\",\n",
                "        action=\"version\",\n",
                "        version=f\"ptypysql version {ptypysql.__version__}\"\n",
                "    )\n",
                "    args = parser.parse_args()\n",
                "    format_sql_files(files=args.files, recursive=args.recursive, max_len=args.max_line_length)"
            ]
        },
        {
            "cell_type": "code",
            "execution_count": 66,
            "metadata": {},
            "outputs": [
                {
                    "name": "stdout",
                    "output_type": "stream",
                    "text": [
                        "Converted 00_core.ipynb.\n",
                        "Converted 01_format_file.ipynb.\n",
                        "Converted 02_utils.ipynb.\n",
                        "Converted 03_validation.ipynb.\n",
                        "Converted 99_additional_tests.ipynb.\n",
                        "Converted index.ipynb.\n"
                    ]
                }
            ],
            "source": [
                "#hide\n",
                "from nbdev.export import notebook2script\n",
                "notebook2script()"
            ]
        }
    ],
    "metadata": {
        "kernelspec": {
            "display_name": "Python 3.9.13 ('.venv': poetry)",
            "language": "python",
            "name": "python3"
        },
        "language_info": {
            "codemirror_mode": {
                "name": "ipython",
                "version": 3
            },
            "file_extension": ".py",
            "mimetype": "text/x-python",
            "name": "python",
            "nbconvert_exporter": "python",
            "pygments_lexer": "ipython3",
            "version": "3.9.13"
        },
        "vscode": {
            "interpreter": {
                "hash": "c63123e845c40650c9555e0ec45a9c5232477a29d550e0e41f8f2acb9d1f58f4"
            }
        }
    },
    "nbformat": 4,
    "nbformat_minor": 2
}
